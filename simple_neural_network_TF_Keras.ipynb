{
  "nbformat": 4,
  "nbformat_minor": 0,
  "metadata": {
    "colab": {
      "name": "simple_neural_network_TF_Keras.ipynb",
      "provenance": [],
      "authorship_tag": "ABX9TyO56npY6gUXGHO5gsq66xJa",
      "include_colab_link": true
    },
    "kernelspec": {
      "name": "python3",
      "display_name": "Python 3"
    }
  },
  "cells": [
    {
      "cell_type": "markdown",
      "metadata": {
        "id": "view-in-github",
        "colab_type": "text"
      },
      "source": [
        "<a href=\"https://colab.research.google.com/github/venkat2ram/Keras-and-Tensorflow/blob/master/simple_neural_network_TF_Keras.ipynb\" target=\"_parent\"><img src=\"https://colab.research.google.com/assets/colab-badge.svg\" alt=\"Open In Colab\"/></a>"
      ]
    },
    {
      "cell_type": "code",
      "metadata": {
        "id": "RJR7tGVRiMRz",
        "colab_type": "code",
        "colab": {}
      },
      "source": [
        "from random import randint\n",
        "import numpy as np\n",
        "from sklearn.utils import shuffle\n",
        "from sklearn.preprocessing import MinMaxScaler\n"
      ],
      "execution_count": 1,
      "outputs": []
    },
    {
      "cell_type": "markdown",
      "metadata": {
        "id": "imJDzfpRnaBT",
        "colab_type": "text"
      },
      "source": [
        "Create a sample data set with 2100 reecords whith ages between 13 to 100. \n",
        "For ages 13-64, there shuould be 5% data with label 1.\n",
        "For ages 65-100, there should be 95% data with label 1."
      ]
    },
    {
      "cell_type": "code",
      "metadata": {
        "id": "MhfDFsekiRkR",
        "colab_type": "code",
        "colab": {}
      },
      "source": [
        "train_samples=[]\n",
        "train_labels=[]\n",
        "\n",
        "#50 samples each for impacted youth and not impacted old age people.\n",
        "for i in range(50):\n",
        "  rand_young_noimpact=randint(13,64)\n",
        "  train_samples.append(rand_young_noimpact)\n",
        "  train_labels.append(1)\n",
        "\n",
        "  rand_old_impact=randint(65,100)\n",
        "  train_samples.append(rand_old_impact)\n",
        "  train_labels.append(0)\n",
        "\n",
        "\n",
        "#1000 samples each for impacted youth and not impacted old age people.\n",
        "for i in range(1000):\n",
        "  rand_young_noimpact=randint(13,64)\n",
        "  train_samples.append(rand_young_noimpact)\n",
        "  train_labels.append(0)\n",
        "\n",
        "  rand_old_impact=randint(65,100)\n",
        "  train_samples.append(rand_old_impact)\n",
        "  train_labels.append(1)\n"
      ],
      "execution_count": 2,
      "outputs": []
    },
    {
      "cell_type": "markdown",
      "metadata": {
        "id": "wIob0IykpbzY",
        "colab_type": "text"
      },
      "source": [
        "Shuffle the data."
      ]
    },
    {
      "cell_type": "code",
      "metadata": {
        "id": "-YTr24btpeaP",
        "colab_type": "code",
        "colab": {}
      },
      "source": [
        "\n",
        "train_samples=np.array(train_samples)\n",
        "train_labels=np.array(train_labels)\n",
        "train_samples,train_labels=shuffle(train_samples,train_labels)"
      ],
      "execution_count": 3,
      "outputs": []
    },
    {
      "cell_type": "code",
      "metadata": {
        "id": "csVj29DspbQ6",
        "colab_type": "code",
        "colab": {}
      },
      "source": [
        "scaler=MinMaxScaler(feature_range=(0,1))\n",
        "scaled_train_samples=scaler.fit_transform(train_samples.reshape(-1,1))"
      ],
      "execution_count": 4,
      "outputs": []
    },
    {
      "cell_type": "code",
      "metadata": {
        "id": "-XSbhYrOy7d2",
        "colab_type": "code",
        "colab": {}
      },
      "source": [
        "import tensorflow.keras\n",
        "from tensorflow.keras.models import Sequential\n",
        "from tensorflow.keras.layers import Dense,Activation\n",
        "from tensorflow.keras.optimizers import Adam\n",
        "from tensorflow.keras.losses import sparse_categorical_crossentropy\n",
        "from tensorflow.keras.metrics import categorical_crossentropy"
      ],
      "execution_count": 11,
      "outputs": []
    },
    {
      "cell_type": "code",
      "metadata": {
        "id": "xRgwhIgB1-mS",
        "colab_type": "code",
        "colab": {
          "base_uri": "https://localhost:8080/",
          "height": 34
        },
        "outputId": "fbcc6cd3-92ce-43c0-8985-da79d91a4650"
      },
      "source": [
        "import keras"
      ],
      "execution_count": 6,
      "outputs": [
        {
          "output_type": "stream",
          "text": [
            "Using TensorFlow backend.\n"
          ],
          "name": "stderr"
        }
      ]
    },
    {
      "cell_type": "code",
      "metadata": {
        "id": "pNiOOZiO0XW9",
        "colab_type": "code",
        "colab": {}
      },
      "source": [
        "model=Sequential([\n",
        "    Dense(16,input_shape=(1,), activation='relu'),\n",
        "    Dense(32,activation='relu'),\n",
        "    Dense(2,activation='softmax')]\n",
        ")"
      ],
      "execution_count": 31,
      "outputs": []
    },
    {
      "cell_type": "code",
      "metadata": {
        "id": "JPCQVC-L1EP8",
        "colab_type": "code",
        "colab": {
          "base_uri": "https://localhost:8080/",
          "height": 252
        },
        "outputId": "c75e8f25-63b8-4e89-90c9-ad7125d0322e"
      },
      "source": [
        "model.summary()"
      ],
      "execution_count": 32,
      "outputs": [
        {
          "output_type": "stream",
          "text": [
            "Model: \"sequential_4\"\n",
            "_________________________________________________________________\n",
            "Layer (type)                 Output Shape              Param #   \n",
            "=================================================================\n",
            "dense_12 (Dense)             (None, 16)                32        \n",
            "_________________________________________________________________\n",
            "dense_13 (Dense)             (None, 32)                544       \n",
            "_________________________________________________________________\n",
            "dense_14 (Dense)             (None, 2)                 66        \n",
            "=================================================================\n",
            "Total params: 642\n",
            "Trainable params: 642\n",
            "Non-trainable params: 0\n",
            "_________________________________________________________________\n"
          ],
          "name": "stdout"
        }
      ]
    },
    {
      "cell_type": "code",
      "metadata": {
        "id": "_WWp7EiupL_0",
        "colab_type": "code",
        "colab": {}
      },
      "source": [
        "model.compile(Adam(lr=0.0001), loss='sparse_categorical_crossentropy',metrics='accuracy')"
      ],
      "execution_count": 33,
      "outputs": []
    },
    {
      "cell_type": "code",
      "metadata": {
        "id": "LbyMQsIUrBIm",
        "colab_type": "code",
        "colab": {
          "base_uri": "https://localhost:8080/",
          "height": 706
        },
        "outputId": "d3afde5f-7b4b-4dc3-80b1-e9507e17f823"
      },
      "source": [
        "model.fit(scaled_train_samples,train_labels,validation_split=0.2,batch_size=10,epochs=20,verbose=2)"
      ],
      "execution_count": 34,
      "outputs": [
        {
          "output_type": "stream",
          "text": [
            "Epoch 1/20\n",
            "168/168 - 0s - loss: 0.6420 - accuracy: 0.5548 - val_loss: 0.6174 - val_accuracy: 0.6190\n",
            "Epoch 2/20\n",
            "168/168 - 0s - loss: 0.6160 - accuracy: 0.6179 - val_loss: 0.5898 - val_accuracy: 0.6762\n",
            "Epoch 3/20\n",
            "168/168 - 0s - loss: 0.5897 - accuracy: 0.6756 - val_loss: 0.5603 - val_accuracy: 0.7333\n",
            "Epoch 4/20\n",
            "168/168 - 0s - loss: 0.5632 - accuracy: 0.7208 - val_loss: 0.5324 - val_accuracy: 0.7738\n",
            "Epoch 5/20\n",
            "168/168 - 0s - loss: 0.5358 - accuracy: 0.7536 - val_loss: 0.5036 - val_accuracy: 0.8167\n",
            "Epoch 6/20\n",
            "168/168 - 0s - loss: 0.5070 - accuracy: 0.7935 - val_loss: 0.4729 - val_accuracy: 0.8333\n",
            "Epoch 7/20\n",
            "168/168 - 0s - loss: 0.4766 - accuracy: 0.8232 - val_loss: 0.4402 - val_accuracy: 0.8524\n",
            "Epoch 8/20\n",
            "168/168 - 0s - loss: 0.4433 - accuracy: 0.8494 - val_loss: 0.4030 - val_accuracy: 0.8857\n",
            "Epoch 9/20\n",
            "168/168 - 0s - loss: 0.4086 - accuracy: 0.8792 - val_loss: 0.3732 - val_accuracy: 0.9000\n",
            "Epoch 10/20\n",
            "168/168 - 0s - loss: 0.3837 - accuracy: 0.8946 - val_loss: 0.3491 - val_accuracy: 0.9024\n",
            "Epoch 11/20\n",
            "168/168 - 0s - loss: 0.3627 - accuracy: 0.9018 - val_loss: 0.3288 - val_accuracy: 0.9024\n",
            "Epoch 12/20\n",
            "168/168 - 0s - loss: 0.3451 - accuracy: 0.9048 - val_loss: 0.3118 - val_accuracy: 0.9119\n",
            "Epoch 13/20\n",
            "168/168 - 0s - loss: 0.3301 - accuracy: 0.9119 - val_loss: 0.2974 - val_accuracy: 0.9214\n",
            "Epoch 14/20\n",
            "168/168 - 0s - loss: 0.3173 - accuracy: 0.9214 - val_loss: 0.2849 - val_accuracy: 0.9262\n",
            "Epoch 15/20\n",
            "168/168 - 0s - loss: 0.3067 - accuracy: 0.9256 - val_loss: 0.2743 - val_accuracy: 0.9262\n",
            "Epoch 16/20\n",
            "168/168 - 0s - loss: 0.2981 - accuracy: 0.9214 - val_loss: 0.2658 - val_accuracy: 0.9262\n",
            "Epoch 17/20\n",
            "168/168 - 0s - loss: 0.2907 - accuracy: 0.9298 - val_loss: 0.2582 - val_accuracy: 0.9262\n",
            "Epoch 18/20\n",
            "168/168 - 0s - loss: 0.2848 - accuracy: 0.9333 - val_loss: 0.2519 - val_accuracy: 0.9333\n",
            "Epoch 19/20\n",
            "168/168 - 0s - loss: 0.2798 - accuracy: 0.9315 - val_loss: 0.2468 - val_accuracy: 0.9333\n",
            "Epoch 20/20\n",
            "168/168 - 0s - loss: 0.2755 - accuracy: 0.9339 - val_loss: 0.2422 - val_accuracy: 0.9333\n"
          ],
          "name": "stdout"
        },
        {
          "output_type": "execute_result",
          "data": {
            "text/plain": [
              "<tensorflow.python.keras.callbacks.History at 0x7f7c66d80320>"
            ]
          },
          "metadata": {
            "tags": []
          },
          "execution_count": 34
        }
      ]
    },
    {
      "cell_type": "markdown",
      "metadata": {
        "id": "41Fye_TBoKh2",
        "colab_type": "text"
      },
      "source": [
        "**Rough work:**"
      ]
    },
    {
      "cell_type": "code",
      "metadata": {
        "id": "XJSwU8FuoOGQ",
        "colab_type": "code",
        "colab": {
          "base_uri": "https://localhost:8080/",
          "height": 134
        },
        "outputId": "7125681b-6521-4658-d120-41ca7e296d36"
      },
      "source": [
        "scaled_train_samples"
      ],
      "execution_count": 24,
      "outputs": [
        {
          "output_type": "execute_result",
          "data": {
            "text/plain": [
              "array([[0.87356322],\n",
              "       [0.48275862],\n",
              "       [0.02298851],\n",
              "       ...,\n",
              "       [0.26436782],\n",
              "       [0.72413793],\n",
              "       [0.29885057]])"
            ]
          },
          "metadata": {
            "tags": []
          },
          "execution_count": 24
        }
      ]
    }
  ]
}