{
  "nbformat": 4,
  "nbformat_minor": 0,
  "metadata": {
    "colab": {
      "name": "simple_neural_network_TF_Keras.ipynb",
      "provenance": [],
      "authorship_tag": "ABX9TyO22mqKUvfZ/Cl+xfDBmuVb",
      "include_colab_link": true
    },
    "kernelspec": {
      "name": "python3",
      "display_name": "Python 3"
    }
  },
  "cells": [
    {
      "cell_type": "markdown",
      "metadata": {
        "id": "view-in-github",
        "colab_type": "text"
      },
      "source": [
        "<a href=\"https://colab.research.google.com/github/venkat2ram/Keras-and-Tensorflow/blob/master/simple_neural_network_TF_Keras.ipynb\" target=\"_parent\"><img src=\"https://colab.research.google.com/assets/colab-badge.svg\" alt=\"Open In Colab\"/></a>"
      ]
    },
    {
      "cell_type": "code",
      "metadata": {
        "id": "RJR7tGVRiMRz",
        "colab_type": "code",
        "colab": {}
      },
      "source": [
        "from random import randint\n",
        "import numpy as np\n",
        "from sklearn.utils import shuffle\n",
        "from sklearn.preprocessing import MinMaxScaler\n"
      ],
      "execution_count": 27,
      "outputs": []
    },
    {
      "cell_type": "markdown",
      "metadata": {
        "id": "imJDzfpRnaBT",
        "colab_type": "text"
      },
      "source": [
        "Create a sample data set with 2100 reecords whith ages between 13 to 100. \n",
        "For ages 13-64, there shuould be 5% data with label 1.\n",
        "For ages 65-100, there should be 95% data with label 1."
      ]
    },
    {
      "cell_type": "code",
      "metadata": {
        "id": "MhfDFsekiRkR",
        "colab_type": "code",
        "colab": {}
      },
      "source": [
        "train_samples=[]\n",
        "train_labels=[]\n",
        "\n",
        "#50 samples each for impacted youth and not impacted old age people.\n",
        "for i in range(50):\n",
        "  rand_young_noimpact=randint(13,64)\n",
        "  train_samples.append(rand_young_noimpact)\n",
        "  train_labels.append(1)\n",
        "\n",
        "  rand_old_impact=randint(65,100)\n",
        "  train_samples.append(rand_old_impact)\n",
        "  train_labels.append(0)\n",
        "\n",
        "\n",
        "#1000 samples each for impacted youth and not impacted old age people.\n",
        "for i in range(1000):\n",
        "  rand_young_noimpact=randint(13,64)\n",
        "  train_samples.append(rand_young_noimpact)\n",
        "  train_labels.append(0)\n",
        "\n",
        "  rand_old_impact=randint(65,100)\n",
        "  train_samples.append(rand_old_impact)\n",
        "  train_labels.append(1)\n"
      ],
      "execution_count": 28,
      "outputs": []
    },
    {
      "cell_type": "markdown",
      "metadata": {
        "id": "wIob0IykpbzY",
        "colab_type": "text"
      },
      "source": [
        "Shuffle the data."
      ]
    },
    {
      "cell_type": "code",
      "metadata": {
        "id": "-YTr24btpeaP",
        "colab_type": "code",
        "colab": {}
      },
      "source": [
        "\n",
        "train_samples=np.array(train_samples)\n",
        "train_labels=np.array(train_labels)\n",
        "train_samples,train_labels=shuffle(train_samples,train_labels)"
      ],
      "execution_count": 29,
      "outputs": []
    },
    {
      "cell_type": "code",
      "metadata": {
        "id": "csVj29DspbQ6",
        "colab_type": "code",
        "colab": {}
      },
      "source": [
        "scaler=MinMaxScaler(feature_range=(0,1))\n",
        "scaled_train_samples=scaler.fit_transform(train_samples.reshape(-1,1))"
      ],
      "execution_count": 30,
      "outputs": []
    },
    {
      "cell_type": "markdown",
      "metadata": {
        "id": "6-MFPTnRfkeM",
        "colab_type": "text"
      },
      "source": [
        "**Prepare test data.**"
      ]
    },
    {
      "cell_type": "code",
      "metadata": {
        "id": "9KIxAoeKfkGY",
        "colab_type": "code",
        "colab": {}
      },
      "source": [
        "test_samples=[]\n",
        "test_labels=[]\n",
        "\n",
        "#50 samples each for impacted youth and not impacted old age people.\n",
        "for i in range(10):\n",
        "  rand_young_noimpact=randint(13,64)\n",
        "  test_samples.append(rand_young_noimpact)\n",
        "  test_labels.append(1)\n",
        "\n",
        "  rand_old_impact=randint(65,100)\n",
        "  test_samples.append(rand_old_impact)\n",
        "  test_labels.append(0)\n",
        "\n",
        "\n",
        "#1000 samples each for impacted youth and not impacted old age people.\n",
        "for i in range(200):\n",
        "  rand_young_noimpact=randint(13,64)\n",
        "  test_samples.append(rand_young_noimpact)\n",
        "  test_labels.append(0)\n",
        "\n",
        "  rand_old_impact=randint(65,100)\n",
        "  test_samples.append(rand_old_impact)\n",
        "  test_labels.append(1)"
      ],
      "execution_count": 31,
      "outputs": []
    },
    {
      "cell_type": "code",
      "metadata": {
        "id": "q__GIo1NfiWC",
        "colab_type": "code",
        "colab": {}
      },
      "source": [
        "test_samples=np.array(test_samples)\n",
        "test_labels=np.array(test_labels)\n",
        "test_samples,test_labels=shuffle(test_samples,test_labels)"
      ],
      "execution_count": 32,
      "outputs": []
    },
    {
      "cell_type": "code",
      "metadata": {
        "id": "NPy6csuWgPgQ",
        "colab_type": "code",
        "colab": {}
      },
      "source": [
        "scaler=MinMaxScaler(feature_range=(0,1))\n",
        "scaled_test_samples=scaler.fit_transform(test_samples.reshape(-1,1))"
      ],
      "execution_count": 33,
      "outputs": []
    },
    {
      "cell_type": "markdown",
      "metadata": {
        "id": "LACUqMnJjxPE",
        "colab_type": "text"
      },
      "source": [
        "**Train model**"
      ]
    },
    {
      "cell_type": "code",
      "metadata": {
        "id": "-XSbhYrOy7d2",
        "colab_type": "code",
        "colab": {}
      },
      "source": [
        "import tensorflow.keras\n",
        "from tensorflow.keras.models import Sequential\n",
        "from tensorflow.keras.layers import Dense,Activation\n",
        "from tensorflow.keras.optimizers import Adam\n",
        "from tensorflow.keras.losses import sparse_categorical_crossentropy\n",
        "from tensorflow.keras.metrics import categorical_crossentropy"
      ],
      "execution_count": 34,
      "outputs": []
    },
    {
      "cell_type": "code",
      "metadata": {
        "id": "xRgwhIgB1-mS",
        "colab_type": "code",
        "colab": {}
      },
      "source": [
        "import keras"
      ],
      "execution_count": 35,
      "outputs": []
    },
    {
      "cell_type": "code",
      "metadata": {
        "id": "pNiOOZiO0XW9",
        "colab_type": "code",
        "colab": {}
      },
      "source": [
        "model=Sequential([\n",
        "    Dense(16,input_shape=(1,), activation='relu'),\n",
        "    Dense(32,activation='relu'),\n",
        "    Dense(2,activation='softmax')]\n",
        ")"
      ],
      "execution_count": 36,
      "outputs": []
    },
    {
      "cell_type": "code",
      "metadata": {
        "id": "JPCQVC-L1EP8",
        "colab_type": "code",
        "colab": {
          "base_uri": "https://localhost:8080/",
          "height": 252
        },
        "outputId": "9e55d18b-5d6c-4ccb-9c11-9bb998f7e103"
      },
      "source": [
        "model.summary()"
      ],
      "execution_count": 37,
      "outputs": [
        {
          "output_type": "stream",
          "text": [
            "Model: \"sequential_1\"\n",
            "_________________________________________________________________\n",
            "Layer (type)                 Output Shape              Param #   \n",
            "=================================================================\n",
            "dense_3 (Dense)              (None, 16)                32        \n",
            "_________________________________________________________________\n",
            "dense_4 (Dense)              (None, 32)                544       \n",
            "_________________________________________________________________\n",
            "dense_5 (Dense)              (None, 2)                 66        \n",
            "=================================================================\n",
            "Total params: 642\n",
            "Trainable params: 642\n",
            "Non-trainable params: 0\n",
            "_________________________________________________________________\n"
          ],
          "name": "stdout"
        }
      ]
    },
    {
      "cell_type": "code",
      "metadata": {
        "id": "_WWp7EiupL_0",
        "colab_type": "code",
        "colab": {}
      },
      "source": [
        "model.compile(Adam(lr=0.0001), loss='sparse_categorical_crossentropy',metrics='accuracy')"
      ],
      "execution_count": 38,
      "outputs": []
    },
    {
      "cell_type": "code",
      "metadata": {
        "id": "LbyMQsIUrBIm",
        "colab_type": "code",
        "colab": {
          "base_uri": "https://localhost:8080/",
          "height": 706
        },
        "outputId": "a244ef7a-755e-49c8-c545-b2d3193dffe1"
      },
      "source": [
        "model.fit(scaled_train_samples,train_labels,validation_split=0.2,batch_size=10,epochs=20,verbose=2)"
      ],
      "execution_count": 39,
      "outputs": [
        {
          "output_type": "stream",
          "text": [
            "Epoch 1/20\n",
            "168/168 - 0s - loss: 0.6768 - accuracy: 0.5286 - val_loss: 0.6651 - val_accuracy: 0.5357\n",
            "Epoch 2/20\n",
            "168/168 - 0s - loss: 0.6540 - accuracy: 0.6042 - val_loss: 0.6377 - val_accuracy: 0.6357\n",
            "Epoch 3/20\n",
            "168/168 - 0s - loss: 0.6290 - accuracy: 0.6613 - val_loss: 0.6120 - val_accuracy: 0.6976\n",
            "Epoch 4/20\n",
            "168/168 - 0s - loss: 0.6022 - accuracy: 0.7155 - val_loss: 0.5779 - val_accuracy: 0.7548\n",
            "Epoch 5/20\n",
            "168/168 - 0s - loss: 0.5739 - accuracy: 0.7548 - val_loss: 0.5493 - val_accuracy: 0.7857\n",
            "Epoch 6/20\n",
            "168/168 - 0s - loss: 0.5486 - accuracy: 0.7768 - val_loss: 0.5213 - val_accuracy: 0.8286\n",
            "Epoch 7/20\n",
            "168/168 - 0s - loss: 0.5242 - accuracy: 0.7929 - val_loss: 0.4941 - val_accuracy: 0.8405\n",
            "Epoch 8/20\n",
            "168/168 - 0s - loss: 0.5005 - accuracy: 0.8054 - val_loss: 0.4677 - val_accuracy: 0.8667\n",
            "Epoch 9/20\n",
            "168/168 - 0s - loss: 0.4780 - accuracy: 0.8280 - val_loss: 0.4426 - val_accuracy: 0.8881\n",
            "Epoch 10/20\n",
            "168/168 - 0s - loss: 0.4567 - accuracy: 0.8381 - val_loss: 0.4191 - val_accuracy: 0.9000\n",
            "Epoch 11/20\n",
            "168/168 - 0s - loss: 0.4370 - accuracy: 0.8536 - val_loss: 0.3971 - val_accuracy: 0.9119\n",
            "Epoch 12/20\n",
            "168/168 - 0s - loss: 0.4189 - accuracy: 0.8613 - val_loss: 0.3771 - val_accuracy: 0.9310\n",
            "Epoch 13/20\n",
            "168/168 - 0s - loss: 0.4026 - accuracy: 0.8756 - val_loss: 0.3590 - val_accuracy: 0.9310\n",
            "Epoch 14/20\n",
            "168/168 - 0s - loss: 0.3882 - accuracy: 0.8762 - val_loss: 0.3429 - val_accuracy: 0.9357\n",
            "Epoch 15/20\n",
            "168/168 - 0s - loss: 0.3753 - accuracy: 0.8827 - val_loss: 0.3284 - val_accuracy: 0.9357\n",
            "Epoch 16/20\n",
            "168/168 - 0s - loss: 0.3641 - accuracy: 0.8958 - val_loss: 0.3155 - val_accuracy: 0.9357\n",
            "Epoch 17/20\n",
            "168/168 - 0s - loss: 0.3540 - accuracy: 0.8923 - val_loss: 0.3039 - val_accuracy: 0.9357\n",
            "Epoch 18/20\n",
            "168/168 - 0s - loss: 0.3451 - accuracy: 0.9000 - val_loss: 0.2935 - val_accuracy: 0.9357\n",
            "Epoch 19/20\n",
            "168/168 - 0s - loss: 0.3372 - accuracy: 0.9077 - val_loss: 0.2843 - val_accuracy: 0.9381\n",
            "Epoch 20/20\n",
            "168/168 - 0s - loss: 0.3305 - accuracy: 0.9089 - val_loss: 0.2766 - val_accuracy: 0.9500\n"
          ],
          "name": "stdout"
        },
        {
          "output_type": "execute_result",
          "data": {
            "text/plain": [
              "<tensorflow.python.keras.callbacks.History at 0x7f2d2aebacc0>"
            ]
          },
          "metadata": {
            "tags": []
          },
          "execution_count": 39
        }
      ]
    },
    {
      "cell_type": "markdown",
      "metadata": {
        "id": "5dM_t7xrj1pW",
        "colab_type": "text"
      },
      "source": [
        "**Predict:**"
      ]
    },
    {
      "cell_type": "code",
      "metadata": {
        "id": "ztbmXdk3j1UK",
        "colab_type": "code",
        "colab": {}
      },
      "source": [
        "predict=model.predict(scaled_test_samples,batch_size=10)"
      ],
      "execution_count": 44,
      "outputs": []
    },
    {
      "cell_type": "code",
      "metadata": {
        "id": "-uPvDZ--k4vG",
        "colab_type": "code",
        "colab": {}
      },
      "source": [
        "predict_class=model.predict_classes(scaled_test_samples,batch_size=10)"
      ],
      "execution_count": 46,
      "outputs": []
    },
    {
      "cell_type": "markdown",
      "metadata": {
        "id": "049CdoCco9-f",
        "colab_type": "text"
      },
      "source": [
        "Confusion_matrix"
      ]
    },
    {
      "cell_type": "code",
      "metadata": {
        "id": "CO3bpMhEpKxn",
        "colab_type": "code",
        "colab": {}
      },
      "source": [
        "from sklearn.metrics import confusion_matrix"
      ],
      "execution_count": 47,
      "outputs": []
    },
    {
      "cell_type": "code",
      "metadata": {
        "id": "TxA3o2LipgsL",
        "colab_type": "code",
        "colab": {}
      },
      "source": [
        "cm=confusion_matrix(test_labels,predict_class)"
      ],
      "execution_count": 48,
      "outputs": []
    },
    {
      "cell_type": "code",
      "metadata": {
        "id": "ERUh1S6zpt7H",
        "colab_type": "code",
        "colab": {
          "base_uri": "https://localhost:8080/",
          "height": 50
        },
        "outputId": "38de52e0-9038-43e5-9ab8-4531384c479d"
      },
      "source": [
        "cm"
      ],
      "execution_count": 49,
      "outputs": [
        {
          "output_type": "execute_result",
          "data": {
            "text/plain": [
              "array([[188,  22],\n",
              "       [ 10, 200]])"
            ]
          },
          "metadata": {
            "tags": []
          },
          "execution_count": 49
        }
      ]
    },
    {
      "cell_type": "markdown",
      "metadata": {
        "id": "Ii7Ewqj6tapU",
        "colab_type": "text"
      },
      "source": [
        "**Saving model:**"
      ]
    },
    {
      "cell_type": "markdown",
      "metadata": {
        "id": "jlinvjZlteYM",
        "colab_type": "text"
      },
      "source": [
        "**Saving complete model:**"
      ]
    },
    {
      "cell_type": "markdown",
      "metadata": {
        "id": "Z22D5kGCt_2K",
        "colab_type": "text"
      },
      "source": [
        "save function saves whole model with configuration, learning rate, optimizer and weights etc.*italicized text*"
      ]
    },
    {
      "cell_type": "code",
      "metadata": {
        "id": "rTpPLCYHuTvi",
        "colab_type": "code",
        "colab": {}
      },
      "source": [
        "from tensorflow.keras.models import load_model"
      ],
      "execution_count": 52,
      "outputs": []
    },
    {
      "cell_type": "code",
      "metadata": {
        "id": "qbKLfrB8up6-",
        "colab_type": "code",
        "colab": {}
      },
      "source": [
        "model.save('model.h5')"
      ],
      "execution_count": 53,
      "outputs": []
    },
    {
      "cell_type": "code",
      "metadata": {
        "id": "9oHQ3UDDt-G8",
        "colab_type": "code",
        "colab": {}
      },
      "source": [
        "model2=load_model('model.h5')"
      ],
      "execution_count": 54,
      "outputs": []
    },
    {
      "cell_type": "code",
      "metadata": {
        "id": "isnTK9ORv1Kq",
        "colab_type": "code",
        "colab": {
          "base_uri": "https://localhost:8080/",
          "height": 1000
        },
        "outputId": "dad682c7-0b44-406b-ff54-6ee6584d1dea"
      },
      "source": [
        "model2.get_weights()"
      ],
      "execution_count": 58,
      "outputs": [
        {
          "output_type": "execute_result",
          "data": {
            "text/plain": [
              "[array([[ 0.42772338, -0.31154543, -0.54696333,  0.71126103, -0.3378055 ,\n",
              "          0.18009143, -0.4471144 ,  0.2249354 , -0.06448126,  0.4205414 ,\n",
              "         -0.18344235,  0.33340186, -0.3092667 ,  0.43717766,  0.25347683,\n",
              "         -0.23293298]], dtype=float32),\n",
              " array([-0.1120466 ,  0.        ,  0.        , -0.10683451,  0.        ,\n",
              "         0.20941758,  0.        , -0.06869689,  0.        , -0.10329426,\n",
              "         0.        ,  0.15045851,  0.        , -0.10100259, -0.07723005,\n",
              "         0.        ], dtype=float32),\n",
              " array([[ 6.68734387e-02,  1.18522495e-01,  3.12476844e-01,\n",
              "          6.82360306e-03, -1.32089695e-02,  4.49052334e-01,\n",
              "         -4.95532602e-02, -2.54679412e-01,  1.72349632e-01,\n",
              "          6.98941350e-02, -3.54850680e-01, -1.31661192e-01,\n",
              "          1.97685018e-01,  4.23505336e-01, -1.03696838e-01,\n",
              "         -1.16964579e-01,  3.53599899e-02, -4.28963900e-02,\n",
              "         -7.36173093e-02,  4.36895013e-01,  2.39113465e-01,\n",
              "          2.43710056e-01,  1.77939981e-01,  5.22106647e-01,\n",
              "          5.43696880e-02,  2.34168410e-01, -4.94740047e-02,\n",
              "         -1.51258586e-02,  4.48826879e-01, -2.83644766e-01,\n",
              "          1.93780549e-02, -4.03085202e-01],\n",
              "        [-5.15913665e-02,  4.69053090e-02, -1.60148829e-01,\n",
              "         -2.81134486e-01,  3.20125610e-01, -3.07891071e-02,\n",
              "          2.28602797e-01, -3.08986217e-01,  2.62186855e-01,\n",
              "         -3.20778072e-01,  1.41677558e-02,  2.04653531e-01,\n",
              "         -2.32296824e-01,  2.03980714e-01, -9.03293788e-02,\n",
              "         -2.97179520e-01,  1.83241099e-01, -1.65613934e-01,\n",
              "         -2.38445789e-01, -5.61744869e-02, -3.06140721e-01,\n",
              "         -3.03029180e-01,  1.67198569e-01, -3.37441057e-01,\n",
              "          6.08764887e-02, -1.77242577e-01,  9.10013616e-02,\n",
              "          1.97128385e-01,  2.07370430e-01,  2.25935012e-01,\n",
              "          3.44062179e-01,  1.64013773e-01],\n",
              "        [ 3.39594871e-01,  1.78163737e-01,  6.40440881e-02,\n",
              "          1.12514794e-01,  6.92149103e-02,  6.00444078e-02,\n",
              "          2.98640281e-01,  3.15608233e-01, -2.57603556e-01,\n",
              "         -1.44324288e-01,  7.91531205e-02, -1.99269533e-01,\n",
              "         -1.42510206e-01,  1.68605596e-01, -1.79767102e-01,\n",
              "         -4.41057384e-02, -2.71934927e-01,  2.48734027e-01,\n",
              "          2.58903772e-01, -2.02788636e-01,  3.89603674e-02,\n",
              "         -8.43071938e-03,  1.69821471e-01,  1.25373304e-02,\n",
              "         -2.79666930e-01,  1.65832847e-01,  1.05831087e-01,\n",
              "          3.25189143e-01,  1.41276836e-01, -2.15144828e-01,\n",
              "          1.00369334e-01,  4.99018729e-02],\n",
              "        [ 4.60039914e-01, -2.82835275e-01,  4.50534403e-01,\n",
              "         -1.76093474e-01, -3.92974555e-01,  3.22215080e-01,\n",
              "          3.82286131e-01, -3.11813265e-01,  3.32916528e-01,\n",
              "         -2.66094506e-01, -1.81750447e-01,  1.11280032e-01,\n",
              "          1.37437955e-01,  2.29267538e-01, -7.86782131e-02,\n",
              "         -8.09874460e-02, -4.03995097e-01, -5.29415011e-02,\n",
              "         -2.37641871e-01,  3.85334402e-01,  5.28702736e-02,\n",
              "          2.48538926e-01,  8.09755176e-02,  2.38209546e-01,\n",
              "         -7.16846287e-02, -1.33827925e-01, -6.38562627e-03,\n",
              "          4.63177234e-01, -1.56108201e-01, -1.93474293e-01,\n",
              "          3.45539004e-01, -1.43164068e-01],\n",
              "        [ 8.35794806e-02,  2.48249501e-01,  1.36327863e-01,\n",
              "          1.71905160e-02,  2.12706715e-01,  1.10039085e-01,\n",
              "         -1.43503249e-02,  1.98828429e-01, -3.53363812e-01,\n",
              "          1.31198496e-01,  2.82624215e-01,  1.19483292e-01,\n",
              "         -1.95154905e-01, -2.22635075e-01, -3.36831629e-01,\n",
              "          3.32136452e-02, -2.69143701e-01, -2.69812912e-01,\n",
              "          1.34067357e-01,  1.56211585e-01,  1.86612606e-02,\n",
              "          4.23006713e-02, -2.35906839e-02, -2.51429886e-01,\n",
              "          6.38224781e-02, -1.13855839e-01, -1.50464505e-01,\n",
              "          3.23016196e-01, -2.60376066e-01, -1.17049515e-02,\n",
              "          4.31239605e-04,  2.04276651e-01],\n",
              "        [-2.41331533e-01, -2.06539869e-01,  1.82122573e-01,\n",
              "          1.86401531e-01,  3.10337514e-01,  1.39393449e-01,\n",
              "          1.88054144e-01,  2.34194294e-01,  2.98878759e-01,\n",
              "         -3.38224053e-01, -5.53237312e-02, -2.77029097e-01,\n",
              "         -3.08269888e-01,  3.15814525e-01, -2.49498516e-01,\n",
              "          4.03025389e-01,  2.53039170e-02, -9.98710096e-02,\n",
              "         -2.41571330e-02,  1.92203507e-01, -7.17129037e-02,\n",
              "          1.17288761e-01,  1.28949642e-01,  3.01536590e-01,\n",
              "         -2.06019193e-01,  1.55142754e-01, -2.56680876e-01,\n",
              "         -1.86737463e-01, -1.23088539e-01,  4.64148998e-01,\n",
              "          2.53025383e-01,  3.90081584e-01],\n",
              "        [-1.73310280e-01, -2.05660179e-01, -1.16834849e-01,\n",
              "         -3.40562701e-01, -3.37480187e-01, -4.33142185e-02,\n",
              "          2.42955416e-01,  5.75798452e-02,  4.78965938e-02,\n",
              "         -2.85642743e-01,  2.02975482e-01, -7.28723109e-02,\n",
              "          1.19068295e-01,  2.87715048e-01, -3.04234028e-03,\n",
              "         -2.47130319e-01, -3.43914658e-01, -1.42303705e-02,\n",
              "          2.41251886e-02, -6.65378273e-02, -6.25637174e-02,\n",
              "          5.57996333e-02, -3.46682012e-01,  2.88089812e-02,\n",
              "          1.00757182e-01, -2.09133506e-01,  1.32123381e-01,\n",
              "         -6.19828701e-03,  3.16932470e-01, -2.43098214e-01,\n",
              "         -1.27997115e-01, -1.46534726e-01],\n",
              "        [ 2.50771791e-01, -1.77145645e-01,  8.59782994e-02,\n",
              "         -5.20392895e-01, -9.77979824e-02,  4.21461672e-01,\n",
              "          5.11918724e-01,  1.88454986e-03,  8.65008011e-02,\n",
              "          3.32094461e-01,  1.76085681e-01,  1.79393709e-01,\n",
              "         -4.13587421e-01, -2.06086636e-02,  7.46473819e-02,\n",
              "         -3.03935438e-01, -1.74976856e-01, -3.52432966e-01,\n",
              "          2.25028336e-01,  5.03533840e-01, -2.74685800e-01,\n",
              "          2.02900514e-01,  5.15405059e-01,  2.74812758e-01,\n",
              "         -4.12867069e-02,  8.78195744e-03,  1.97611544e-02,\n",
              "         -9.60725918e-02,  3.64903033e-01, -4.27759677e-01,\n",
              "          3.76709014e-01, -3.65746260e-01],\n",
              "        [-2.41346166e-01, -1.37374789e-01, -2.14815155e-01,\n",
              "         -3.14035416e-01,  9.60407853e-02,  1.27069294e-01,\n",
              "          2.14439362e-01, -2.96057910e-01,  2.46608466e-01,\n",
              "         -3.11092883e-01,  2.44810730e-01, -3.72386873e-02,\n",
              "         -3.47149968e-02,  8.65121484e-02, -1.35974839e-01,\n",
              "         -2.54708827e-01,  1.05140358e-01, -1.53511882e-01,\n",
              "         -1.14005625e-01, -2.09814176e-01,  3.43257099e-01,\n",
              "         -1.35183230e-01,  2.02592164e-01, -2.72465706e-01,\n",
              "         -1.89909309e-01,  1.37892276e-01,  8.87838602e-02,\n",
              "          2.55172461e-01, -1.76142380e-01, -2.30304599e-02,\n",
              "         -2.39561260e-01, -9.09116864e-03],\n",
              "        [ 5.40536582e-01, -1.68823585e-01, -7.56328106e-02,\n",
              "         -4.59107429e-01, -1.91326559e-01, -1.51298434e-01,\n",
              "         -1.12528637e-01,  3.25093955e-01,  8.20344165e-02,\n",
              "          1.81354403e-01, -1.31911710e-01, -3.43109399e-01,\n",
              "          4.92030121e-02,  4.82282847e-01,  6.53284490e-02,\n",
              "          1.54517079e-02,  4.54180427e-02, -4.51798141e-02,\n",
              "         -3.88445556e-02,  1.49858907e-01, -2.10752189e-01,\n",
              "          6.98470399e-02,  4.21722889e-01,  2.10162684e-01,\n",
              "         -1.09319910e-01, -2.76859492e-01,  2.71333814e-01,\n",
              "          2.25065455e-01,  4.39275503e-01, -8.07743222e-02,\n",
              "          1.15289792e-01, -4.57378834e-01],\n",
              "        [ 1.74985021e-01, -1.15725994e-02,  3.16080302e-01,\n",
              "         -1.39674231e-01,  2.92461008e-01,  3.29191774e-01,\n",
              "          1.22879297e-01,  2.57214695e-01,  2.29840010e-01,\n",
              "          1.01175457e-01,  1.53077513e-01, -2.22484365e-01,\n",
              "         -8.93632770e-02, -4.50672805e-02, -3.35281134e-01,\n",
              "          1.15657687e-01,  3.76399159e-02, -3.44543219e-01,\n",
              "         -1.87656403e-01, -2.52567768e-01,  1.64568752e-01,\n",
              "          1.04893893e-01,  3.40356082e-01, -2.26781055e-01,\n",
              "          2.21344262e-01, -2.15249851e-01, -1.67450860e-01,\n",
              "         -1.19370669e-01,  3.31822902e-01, -2.46138096e-01,\n",
              "          7.88655281e-02, -3.46339375e-01],\n",
              "        [ 3.21331561e-01, -1.28766790e-01,  1.14092357e-01,\n",
              "          3.01953793e-01,  2.68332303e-01,  2.64176339e-01,\n",
              "          1.99136093e-01, -3.27134103e-01, -1.97348922e-01,\n",
              "          5.74551187e-02, -5.29623404e-02, -2.36505434e-01,\n",
              "          1.54380694e-01,  7.80208781e-02,  1.57603145e-01,\n",
              "         -2.65614122e-01,  2.58154988e-01, -3.44685853e-01,\n",
              "         -1.18529499e-01,  2.65473902e-01, -7.91675150e-02,\n",
              "          1.29809603e-01,  3.49793047e-01, -1.40446067e-01,\n",
              "         -3.13054562e-01,  1.05557866e-01, -3.26079667e-01,\n",
              "          1.30400717e-01,  4.71232951e-01,  3.40553671e-02,\n",
              "          2.61755168e-01,  2.36061484e-01],\n",
              "        [-5.16716242e-02, -2.62522697e-01, -2.35080034e-01,\n",
              "          1.65144235e-01,  8.45288038e-02, -1.14288092e-01,\n",
              "          3.45000356e-01,  9.50723290e-02,  2.95551389e-01,\n",
              "          1.67112261e-01,  3.16624075e-01,  1.15420163e-01,\n",
              "          4.61487770e-02, -4.90182936e-02, -3.17945540e-01,\n",
              "          1.23437762e-01, -5.54710627e-03, -1.37015358e-01,\n",
              "         -1.50637716e-01,  2.61695683e-02,  3.08091044e-02,\n",
              "          2.96014816e-01,  6.65002167e-02,  2.71393657e-02,\n",
              "         -2.02529341e-01,  2.40494996e-01,  8.42652023e-02,\n",
              "          2.85633713e-01,  1.04286224e-01, -3.13344598e-03,\n",
              "          4.61653769e-02,  1.69247419e-01],\n",
              "        [ 3.04214478e-01, -6.14303052e-02,  1.50054753e-01,\n",
              "         -1.99035063e-01,  3.73764038e-02,  1.32519305e-01,\n",
              "          1.08906448e-01,  1.26709342e-02,  2.90099651e-01,\n",
              "          3.34837809e-02,  1.09172098e-01, -1.64227545e-01,\n",
              "          1.01666123e-01,  1.60715893e-01,  6.93915263e-02,\n",
              "         -3.03356826e-01,  6.43341020e-02,  2.34431714e-01,\n",
              "         -7.06135035e-02, -6.40486926e-02,  4.90676053e-02,\n",
              "          1.09861650e-01,  2.40096554e-01,  2.75722861e-01,\n",
              "          5.70596755e-02, -2.34670699e-01,  1.79557651e-01,\n",
              "          1.31916016e-01,  2.89181918e-01, -2.81846583e-01,\n",
              "          1.42263159e-01, -6.31796941e-02],\n",
              "        [ 2.36975461e-01,  3.11554670e-02,  2.58372962e-01,\n",
              "         -1.20374136e-01, -5.27581155e-01,  4.66541015e-02,\n",
              "          2.63203770e-01, -6.72122836e-03,  6.21876009e-02,\n",
              "          2.97470361e-01, -3.92110378e-01,  1.10912763e-01,\n",
              "          1.76276967e-01,  4.80353951e-01, -1.80281118e-01,\n",
              "         -3.64817441e-01,  5.03625646e-02,  7.85818696e-03,\n",
              "          3.13731134e-01,  3.78749110e-02,  5.49683310e-02,\n",
              "          3.18098724e-01,  6.02467179e-01,  9.64228436e-02,\n",
              "          3.37464482e-01,  5.43543808e-02,  5.29118697e-04,\n",
              "          3.10192287e-01, -7.53645450e-02, -3.15127552e-01,\n",
              "         -1.81666706e-02, -1.12796731e-01],\n",
              "        [ 1.37636930e-01, -2.59356350e-01, -1.27582848e-02,\n",
              "          3.03471297e-01,  1.54105037e-01, -3.31976801e-01,\n",
              "         -2.56851226e-01, -2.94490129e-01,  2.06223130e-03,\n",
              "         -2.96273798e-01, -2.71644950e-01, -9.59726572e-02,\n",
              "          1.68000132e-01,  7.42986500e-02, -1.00188464e-01,\n",
              "          3.41356605e-01,  1.92282110e-01,  2.74419785e-02,\n",
              "          8.76850784e-02,  2.31002480e-01, -2.03494340e-01,\n",
              "          2.24142522e-01,  3.52003872e-02, -2.38652050e-01,\n",
              "          1.55691952e-01, -9.05647278e-02,  3.37014526e-01,\n",
              "          2.69626528e-01,  6.55980408e-02, -1.23615354e-01,\n",
              "         -3.13648820e-01,  2.37158805e-01]], dtype=float32),\n",
              " array([-0.08022545,  0.        , -0.08812822,  0.18388318,  0.1421331 ,\n",
              "        -0.09334908, -0.09396369, -0.00307823, -0.06877288, -0.00153704,\n",
              "         0.25938395, -0.00063082,  0.09565298, -0.09429311, -0.00297033,\n",
              "         0.20619844,  0.1185453 ,  0.        , -0.00063093, -0.11303222,\n",
              "        -0.00213398, -0.07365866, -0.11099953, -0.07256565,  0.        ,\n",
              "         0.03079747,  0.00123279, -0.04734545, -0.07720177,  0.2021014 ,\n",
              "        -0.06335483,  0.18013139], dtype=float32),\n",
              " array([[-0.18326303,  0.14788665],\n",
              "        [ 0.40643016, -0.4149274 ],\n",
              "        [-0.18206836,  0.31400445],\n",
              "        [ 0.35276273, -0.7429675 ],\n",
              "        [ 0.295889  , -0.6866123 ],\n",
              "        [-0.4619866 ,  0.3308143 ],\n",
              "        [-0.46384695,  0.20204012],\n",
              "        [-0.3636713 , -0.14204808],\n",
              "        [-0.13769655,  0.314936  ],\n",
              "        [-0.27462995, -0.12826163],\n",
              "        [ 0.6808905 , -0.02913258],\n",
              "        [-0.1653242 , -0.05097109],\n",
              "        [ 0.17472127, -0.01050579],\n",
              "        [-0.27515084,  0.504087  ],\n",
              "        [-0.35927987, -0.07695381],\n",
              "        [ 0.6839421 , -0.31189364],\n",
              "        [ 0.47591266, -0.430424  ],\n",
              "        [ 0.23698196, -0.05981568],\n",
              "        [-0.30722424,  0.00367966],\n",
              "        [ 0.22533958,  0.5765983 ],\n",
              "        [ 0.11687088, -0.38640103],\n",
              "        [-0.47832516,  0.5876555 ],\n",
              "        [-0.2202592 ,  0.14561185],\n",
              "        [-0.49612153, -0.0897834 ],\n",
              "        [ 0.2649894 , -0.13359216],\n",
              "        [ 0.13509937, -0.11058365],\n",
              "        [ 0.3948491 , -0.08401459],\n",
              "        [-0.38205472,  0.35478973],\n",
              "        [-0.35383067,  0.1176433 ],\n",
              "        [ 0.6588965 , -0.68037415],\n",
              "        [ 0.10152266,  0.18068182],\n",
              "        [ 0.50007004, -0.67435193]], dtype=float32),\n",
              " array([ 0.11140908, -0.11140908], dtype=float32)]"
            ]
          },
          "metadata": {
            "tags": []
          },
          "execution_count": 58
        }
      ]
    },
    {
      "cell_type": "code",
      "metadata": {
        "id": "6ihqgNnLtaTn",
        "colab_type": "code",
        "colab": {
          "base_uri": "https://localhost:8080/",
          "height": 252
        },
        "outputId": "0d440095-c545-4065-a9c6-07ba5bba08a6"
      },
      "source": [
        "model2.summary()"
      ],
      "execution_count": 57,
      "outputs": [
        {
          "output_type": "stream",
          "text": [
            "Model: \"sequential_1\"\n",
            "_________________________________________________________________\n",
            "Layer (type)                 Output Shape              Param #   \n",
            "=================================================================\n",
            "dense_3 (Dense)              (None, 16)                32        \n",
            "_________________________________________________________________\n",
            "dense_4 (Dense)              (None, 32)                544       \n",
            "_________________________________________________________________\n",
            "dense_5 (Dense)              (None, 2)                 66        \n",
            "=================================================================\n",
            "Total params: 642\n",
            "Trainable params: 642\n",
            "Non-trainable params: 0\n",
            "_________________________________________________________________\n"
          ],
          "name": "stdout"
        }
      ]
    },
    {
      "cell_type": "code",
      "metadata": {
        "id": "fnREdmlew1eQ",
        "colab_type": "code",
        "colab": {
          "base_uri": "https://localhost:8080/",
          "height": 34
        },
        "outputId": "c6fb526d-0160-4267-d4dd-6b2244cb703f"
      },
      "source": [
        "model2.optimizer"
      ],
      "execution_count": 61,
      "outputs": [
        {
          "output_type": "execute_result",
          "data": {
            "text/plain": [
              "<tensorflow.python.keras.optimizer_v2.adam.Adam at 0x7f2d296fdac8>"
            ]
          },
          "metadata": {
            "tags": []
          },
          "execution_count": 61
        }
      ]
    },
    {
      "cell_type": "markdown",
      "metadata": {
        "id": "QNoWi1Zyw80J",
        "colab_type": "text"
      },
      "source": [
        "**to_json()**"
      ]
    },
    {
      "cell_type": "markdown",
      "metadata": {
        "id": "1QLdxGDsxFzI",
        "colab_type": "text"
      },
      "source": [
        "to_json() saves only the configuration of the model. configuration includes only layer information. not weights and training information."
      ]
    },
    {
      "cell_type": "code",
      "metadata": {
        "id": "GQSGkCRixUPY",
        "colab_type": "code",
        "colab": {}
      },
      "source": [
        "model_json=model.to_json()"
      ],
      "execution_count": 64,
      "outputs": []
    },
    {
      "cell_type": "code",
      "metadata": {
        "id": "A4iQg0tSxvBu",
        "colab_type": "code",
        "colab": {}
      },
      "source": [
        "from tensorflow.keras.models import model_from_json"
      ],
      "execution_count": 66,
      "outputs": []
    },
    {
      "cell_type": "code",
      "metadata": {
        "id": "0CQapnUdxEh-",
        "colab_type": "code",
        "colab": {}
      },
      "source": [
        "model3=model_from_json(model_json)"
      ],
      "execution_count": 67,
      "outputs": []
    },
    {
      "cell_type": "code",
      "metadata": {
        "id": "rpgiFJZpyLA7",
        "colab_type": "code",
        "colab": {
          "base_uri": "https://localhost:8080/",
          "height": 252
        },
        "outputId": "cb85ff3e-94ae-4d7f-952e-a52a32ae17fd"
      },
      "source": [
        "model3.summary()"
      ],
      "execution_count": 69,
      "outputs": [
        {
          "output_type": "stream",
          "text": [
            "Model: \"sequential_1\"\n",
            "_________________________________________________________________\n",
            "Layer (type)                 Output Shape              Param #   \n",
            "=================================================================\n",
            "dense_3 (Dense)              (None, 16)                32        \n",
            "_________________________________________________________________\n",
            "dense_4 (Dense)              (None, 32)                544       \n",
            "_________________________________________________________________\n",
            "dense_5 (Dense)              (None, 2)                 66        \n",
            "=================================================================\n",
            "Total params: 642\n",
            "Trainable params: 642\n",
            "Non-trainable params: 0\n",
            "_________________________________________________________________\n"
          ],
          "name": "stdout"
        }
      ]
    },
    {
      "cell_type": "markdown",
      "metadata": {
        "id": "G-QpRjVtyxtN",
        "colab_type": "text"
      },
      "source": [
        "**save_weights()**"
      ]
    },
    {
      "cell_type": "markdown",
      "metadata": {
        "id": "FzOXN8H2zCAZ",
        "colab_type": "text"
      },
      "source": [
        "save_weights() function saves only the weights of the model. to use these weights you need define the model again with layer details."
      ]
    },
    {
      "cell_type": "code",
      "metadata": {
        "id": "HRffoHQ4zYyy",
        "colab_type": "code",
        "colab": {}
      },
      "source": [
        "model.save_weights('model_weights.h5')"
      ],
      "execution_count": 75,
      "outputs": []
    },
    {
      "cell_type": "code",
      "metadata": {
        "id": "C2sm9_s4z2S1",
        "colab_type": "code",
        "colab": {}
      },
      "source": [
        "model4=Sequential([\n",
        "    Dense(16,input_shape=(1,), activation='relu'),\n",
        "    Dense(32,activation='relu'),\n",
        "    Dense(2,activation='softmax')]\n",
        ")"
      ],
      "execution_count": 76,
      "outputs": []
    },
    {
      "cell_type": "code",
      "metadata": {
        "id": "FDzaG4Ju0Ad-",
        "colab_type": "code",
        "colab": {}
      },
      "source": [
        "model4.load_weights('model_weights.h5')"
      ],
      "execution_count": 77,
      "outputs": []
    },
    {
      "cell_type": "code",
      "metadata": {
        "id": "UnZlwfQi0LSK",
        "colab_type": "code",
        "colab": {
          "base_uri": "https://localhost:8080/",
          "height": 1000
        },
        "outputId": "2a6c5a5a-28f0-479b-aae7-60c5e64259f4"
      },
      "source": [
        "model.get_weights()"
      ],
      "execution_count": 79,
      "outputs": [
        {
          "output_type": "execute_result",
          "data": {
            "text/plain": [
              "[array([[ 0.42772338, -0.31154543, -0.54696333,  0.71126103, -0.3378055 ,\n",
              "          0.18009143, -0.4471144 ,  0.2249354 , -0.06448126,  0.4205414 ,\n",
              "         -0.18344235,  0.33340186, -0.3092667 ,  0.43717766,  0.25347683,\n",
              "         -0.23293298]], dtype=float32),\n",
              " array([-0.1120466 ,  0.        ,  0.        , -0.10683451,  0.        ,\n",
              "         0.20941758,  0.        , -0.06869689,  0.        , -0.10329426,\n",
              "         0.        ,  0.15045851,  0.        , -0.10100259, -0.07723005,\n",
              "         0.        ], dtype=float32),\n",
              " array([[ 6.68734387e-02,  1.18522495e-01,  3.12476844e-01,\n",
              "          6.82360306e-03, -1.32089695e-02,  4.49052334e-01,\n",
              "         -4.95532602e-02, -2.54679412e-01,  1.72349632e-01,\n",
              "          6.98941350e-02, -3.54850680e-01, -1.31661192e-01,\n",
              "          1.97685018e-01,  4.23505336e-01, -1.03696838e-01,\n",
              "         -1.16964579e-01,  3.53599899e-02, -4.28963900e-02,\n",
              "         -7.36173093e-02,  4.36895013e-01,  2.39113465e-01,\n",
              "          2.43710056e-01,  1.77939981e-01,  5.22106647e-01,\n",
              "          5.43696880e-02,  2.34168410e-01, -4.94740047e-02,\n",
              "         -1.51258586e-02,  4.48826879e-01, -2.83644766e-01,\n",
              "          1.93780549e-02, -4.03085202e-01],\n",
              "        [-5.15913665e-02,  4.69053090e-02, -1.60148829e-01,\n",
              "         -2.81134486e-01,  3.20125610e-01, -3.07891071e-02,\n",
              "          2.28602797e-01, -3.08986217e-01,  2.62186855e-01,\n",
              "         -3.20778072e-01,  1.41677558e-02,  2.04653531e-01,\n",
              "         -2.32296824e-01,  2.03980714e-01, -9.03293788e-02,\n",
              "         -2.97179520e-01,  1.83241099e-01, -1.65613934e-01,\n",
              "         -2.38445789e-01, -5.61744869e-02, -3.06140721e-01,\n",
              "         -3.03029180e-01,  1.67198569e-01, -3.37441057e-01,\n",
              "          6.08764887e-02, -1.77242577e-01,  9.10013616e-02,\n",
              "          1.97128385e-01,  2.07370430e-01,  2.25935012e-01,\n",
              "          3.44062179e-01,  1.64013773e-01],\n",
              "        [ 3.39594871e-01,  1.78163737e-01,  6.40440881e-02,\n",
              "          1.12514794e-01,  6.92149103e-02,  6.00444078e-02,\n",
              "          2.98640281e-01,  3.15608233e-01, -2.57603556e-01,\n",
              "         -1.44324288e-01,  7.91531205e-02, -1.99269533e-01,\n",
              "         -1.42510206e-01,  1.68605596e-01, -1.79767102e-01,\n",
              "         -4.41057384e-02, -2.71934927e-01,  2.48734027e-01,\n",
              "          2.58903772e-01, -2.02788636e-01,  3.89603674e-02,\n",
              "         -8.43071938e-03,  1.69821471e-01,  1.25373304e-02,\n",
              "         -2.79666930e-01,  1.65832847e-01,  1.05831087e-01,\n",
              "          3.25189143e-01,  1.41276836e-01, -2.15144828e-01,\n",
              "          1.00369334e-01,  4.99018729e-02],\n",
              "        [ 4.60039914e-01, -2.82835275e-01,  4.50534403e-01,\n",
              "         -1.76093474e-01, -3.92974555e-01,  3.22215080e-01,\n",
              "          3.82286131e-01, -3.11813265e-01,  3.32916528e-01,\n",
              "         -2.66094506e-01, -1.81750447e-01,  1.11280032e-01,\n",
              "          1.37437955e-01,  2.29267538e-01, -7.86782131e-02,\n",
              "         -8.09874460e-02, -4.03995097e-01, -5.29415011e-02,\n",
              "         -2.37641871e-01,  3.85334402e-01,  5.28702736e-02,\n",
              "          2.48538926e-01,  8.09755176e-02,  2.38209546e-01,\n",
              "         -7.16846287e-02, -1.33827925e-01, -6.38562627e-03,\n",
              "          4.63177234e-01, -1.56108201e-01, -1.93474293e-01,\n",
              "          3.45539004e-01, -1.43164068e-01],\n",
              "        [ 8.35794806e-02,  2.48249501e-01,  1.36327863e-01,\n",
              "          1.71905160e-02,  2.12706715e-01,  1.10039085e-01,\n",
              "         -1.43503249e-02,  1.98828429e-01, -3.53363812e-01,\n",
              "          1.31198496e-01,  2.82624215e-01,  1.19483292e-01,\n",
              "         -1.95154905e-01, -2.22635075e-01, -3.36831629e-01,\n",
              "          3.32136452e-02, -2.69143701e-01, -2.69812912e-01,\n",
              "          1.34067357e-01,  1.56211585e-01,  1.86612606e-02,\n",
              "          4.23006713e-02, -2.35906839e-02, -2.51429886e-01,\n",
              "          6.38224781e-02, -1.13855839e-01, -1.50464505e-01,\n",
              "          3.23016196e-01, -2.60376066e-01, -1.17049515e-02,\n",
              "          4.31239605e-04,  2.04276651e-01],\n",
              "        [-2.41331533e-01, -2.06539869e-01,  1.82122573e-01,\n",
              "          1.86401531e-01,  3.10337514e-01,  1.39393449e-01,\n",
              "          1.88054144e-01,  2.34194294e-01,  2.98878759e-01,\n",
              "         -3.38224053e-01, -5.53237312e-02, -2.77029097e-01,\n",
              "         -3.08269888e-01,  3.15814525e-01, -2.49498516e-01,\n",
              "          4.03025389e-01,  2.53039170e-02, -9.98710096e-02,\n",
              "         -2.41571330e-02,  1.92203507e-01, -7.17129037e-02,\n",
              "          1.17288761e-01,  1.28949642e-01,  3.01536590e-01,\n",
              "         -2.06019193e-01,  1.55142754e-01, -2.56680876e-01,\n",
              "         -1.86737463e-01, -1.23088539e-01,  4.64148998e-01,\n",
              "          2.53025383e-01,  3.90081584e-01],\n",
              "        [-1.73310280e-01, -2.05660179e-01, -1.16834849e-01,\n",
              "         -3.40562701e-01, -3.37480187e-01, -4.33142185e-02,\n",
              "          2.42955416e-01,  5.75798452e-02,  4.78965938e-02,\n",
              "         -2.85642743e-01,  2.02975482e-01, -7.28723109e-02,\n",
              "          1.19068295e-01,  2.87715048e-01, -3.04234028e-03,\n",
              "         -2.47130319e-01, -3.43914658e-01, -1.42303705e-02,\n",
              "          2.41251886e-02, -6.65378273e-02, -6.25637174e-02,\n",
              "          5.57996333e-02, -3.46682012e-01,  2.88089812e-02,\n",
              "          1.00757182e-01, -2.09133506e-01,  1.32123381e-01,\n",
              "         -6.19828701e-03,  3.16932470e-01, -2.43098214e-01,\n",
              "         -1.27997115e-01, -1.46534726e-01],\n",
              "        [ 2.50771791e-01, -1.77145645e-01,  8.59782994e-02,\n",
              "         -5.20392895e-01, -9.77979824e-02,  4.21461672e-01,\n",
              "          5.11918724e-01,  1.88454986e-03,  8.65008011e-02,\n",
              "          3.32094461e-01,  1.76085681e-01,  1.79393709e-01,\n",
              "         -4.13587421e-01, -2.06086636e-02,  7.46473819e-02,\n",
              "         -3.03935438e-01, -1.74976856e-01, -3.52432966e-01,\n",
              "          2.25028336e-01,  5.03533840e-01, -2.74685800e-01,\n",
              "          2.02900514e-01,  5.15405059e-01,  2.74812758e-01,\n",
              "         -4.12867069e-02,  8.78195744e-03,  1.97611544e-02,\n",
              "         -9.60725918e-02,  3.64903033e-01, -4.27759677e-01,\n",
              "          3.76709014e-01, -3.65746260e-01],\n",
              "        [-2.41346166e-01, -1.37374789e-01, -2.14815155e-01,\n",
              "         -3.14035416e-01,  9.60407853e-02,  1.27069294e-01,\n",
              "          2.14439362e-01, -2.96057910e-01,  2.46608466e-01,\n",
              "         -3.11092883e-01,  2.44810730e-01, -3.72386873e-02,\n",
              "         -3.47149968e-02,  8.65121484e-02, -1.35974839e-01,\n",
              "         -2.54708827e-01,  1.05140358e-01, -1.53511882e-01,\n",
              "         -1.14005625e-01, -2.09814176e-01,  3.43257099e-01,\n",
              "         -1.35183230e-01,  2.02592164e-01, -2.72465706e-01,\n",
              "         -1.89909309e-01,  1.37892276e-01,  8.87838602e-02,\n",
              "          2.55172461e-01, -1.76142380e-01, -2.30304599e-02,\n",
              "         -2.39561260e-01, -9.09116864e-03],\n",
              "        [ 5.40536582e-01, -1.68823585e-01, -7.56328106e-02,\n",
              "         -4.59107429e-01, -1.91326559e-01, -1.51298434e-01,\n",
              "         -1.12528637e-01,  3.25093955e-01,  8.20344165e-02,\n",
              "          1.81354403e-01, -1.31911710e-01, -3.43109399e-01,\n",
              "          4.92030121e-02,  4.82282847e-01,  6.53284490e-02,\n",
              "          1.54517079e-02,  4.54180427e-02, -4.51798141e-02,\n",
              "         -3.88445556e-02,  1.49858907e-01, -2.10752189e-01,\n",
              "          6.98470399e-02,  4.21722889e-01,  2.10162684e-01,\n",
              "         -1.09319910e-01, -2.76859492e-01,  2.71333814e-01,\n",
              "          2.25065455e-01,  4.39275503e-01, -8.07743222e-02,\n",
              "          1.15289792e-01, -4.57378834e-01],\n",
              "        [ 1.74985021e-01, -1.15725994e-02,  3.16080302e-01,\n",
              "         -1.39674231e-01,  2.92461008e-01,  3.29191774e-01,\n",
              "          1.22879297e-01,  2.57214695e-01,  2.29840010e-01,\n",
              "          1.01175457e-01,  1.53077513e-01, -2.22484365e-01,\n",
              "         -8.93632770e-02, -4.50672805e-02, -3.35281134e-01,\n",
              "          1.15657687e-01,  3.76399159e-02, -3.44543219e-01,\n",
              "         -1.87656403e-01, -2.52567768e-01,  1.64568752e-01,\n",
              "          1.04893893e-01,  3.40356082e-01, -2.26781055e-01,\n",
              "          2.21344262e-01, -2.15249851e-01, -1.67450860e-01,\n",
              "         -1.19370669e-01,  3.31822902e-01, -2.46138096e-01,\n",
              "          7.88655281e-02, -3.46339375e-01],\n",
              "        [ 3.21331561e-01, -1.28766790e-01,  1.14092357e-01,\n",
              "          3.01953793e-01,  2.68332303e-01,  2.64176339e-01,\n",
              "          1.99136093e-01, -3.27134103e-01, -1.97348922e-01,\n",
              "          5.74551187e-02, -5.29623404e-02, -2.36505434e-01,\n",
              "          1.54380694e-01,  7.80208781e-02,  1.57603145e-01,\n",
              "         -2.65614122e-01,  2.58154988e-01, -3.44685853e-01,\n",
              "         -1.18529499e-01,  2.65473902e-01, -7.91675150e-02,\n",
              "          1.29809603e-01,  3.49793047e-01, -1.40446067e-01,\n",
              "         -3.13054562e-01,  1.05557866e-01, -3.26079667e-01,\n",
              "          1.30400717e-01,  4.71232951e-01,  3.40553671e-02,\n",
              "          2.61755168e-01,  2.36061484e-01],\n",
              "        [-5.16716242e-02, -2.62522697e-01, -2.35080034e-01,\n",
              "          1.65144235e-01,  8.45288038e-02, -1.14288092e-01,\n",
              "          3.45000356e-01,  9.50723290e-02,  2.95551389e-01,\n",
              "          1.67112261e-01,  3.16624075e-01,  1.15420163e-01,\n",
              "          4.61487770e-02, -4.90182936e-02, -3.17945540e-01,\n",
              "          1.23437762e-01, -5.54710627e-03, -1.37015358e-01,\n",
              "         -1.50637716e-01,  2.61695683e-02,  3.08091044e-02,\n",
              "          2.96014816e-01,  6.65002167e-02,  2.71393657e-02,\n",
              "         -2.02529341e-01,  2.40494996e-01,  8.42652023e-02,\n",
              "          2.85633713e-01,  1.04286224e-01, -3.13344598e-03,\n",
              "          4.61653769e-02,  1.69247419e-01],\n",
              "        [ 3.04214478e-01, -6.14303052e-02,  1.50054753e-01,\n",
              "         -1.99035063e-01,  3.73764038e-02,  1.32519305e-01,\n",
              "          1.08906448e-01,  1.26709342e-02,  2.90099651e-01,\n",
              "          3.34837809e-02,  1.09172098e-01, -1.64227545e-01,\n",
              "          1.01666123e-01,  1.60715893e-01,  6.93915263e-02,\n",
              "         -3.03356826e-01,  6.43341020e-02,  2.34431714e-01,\n",
              "         -7.06135035e-02, -6.40486926e-02,  4.90676053e-02,\n",
              "          1.09861650e-01,  2.40096554e-01,  2.75722861e-01,\n",
              "          5.70596755e-02, -2.34670699e-01,  1.79557651e-01,\n",
              "          1.31916016e-01,  2.89181918e-01, -2.81846583e-01,\n",
              "          1.42263159e-01, -6.31796941e-02],\n",
              "        [ 2.36975461e-01,  3.11554670e-02,  2.58372962e-01,\n",
              "         -1.20374136e-01, -5.27581155e-01,  4.66541015e-02,\n",
              "          2.63203770e-01, -6.72122836e-03,  6.21876009e-02,\n",
              "          2.97470361e-01, -3.92110378e-01,  1.10912763e-01,\n",
              "          1.76276967e-01,  4.80353951e-01, -1.80281118e-01,\n",
              "         -3.64817441e-01,  5.03625646e-02,  7.85818696e-03,\n",
              "          3.13731134e-01,  3.78749110e-02,  5.49683310e-02,\n",
              "          3.18098724e-01,  6.02467179e-01,  9.64228436e-02,\n",
              "          3.37464482e-01,  5.43543808e-02,  5.29118697e-04,\n",
              "          3.10192287e-01, -7.53645450e-02, -3.15127552e-01,\n",
              "         -1.81666706e-02, -1.12796731e-01],\n",
              "        [ 1.37636930e-01, -2.59356350e-01, -1.27582848e-02,\n",
              "          3.03471297e-01,  1.54105037e-01, -3.31976801e-01,\n",
              "         -2.56851226e-01, -2.94490129e-01,  2.06223130e-03,\n",
              "         -2.96273798e-01, -2.71644950e-01, -9.59726572e-02,\n",
              "          1.68000132e-01,  7.42986500e-02, -1.00188464e-01,\n",
              "          3.41356605e-01,  1.92282110e-01,  2.74419785e-02,\n",
              "          8.76850784e-02,  2.31002480e-01, -2.03494340e-01,\n",
              "          2.24142522e-01,  3.52003872e-02, -2.38652050e-01,\n",
              "          1.55691952e-01, -9.05647278e-02,  3.37014526e-01,\n",
              "          2.69626528e-01,  6.55980408e-02, -1.23615354e-01,\n",
              "         -3.13648820e-01,  2.37158805e-01]], dtype=float32),\n",
              " array([-0.08022545,  0.        , -0.08812822,  0.18388318,  0.1421331 ,\n",
              "        -0.09334908, -0.09396369, -0.00307823, -0.06877288, -0.00153704,\n",
              "         0.25938395, -0.00063082,  0.09565298, -0.09429311, -0.00297033,\n",
              "         0.20619844,  0.1185453 ,  0.        , -0.00063093, -0.11303222,\n",
              "        -0.00213398, -0.07365866, -0.11099953, -0.07256565,  0.        ,\n",
              "         0.03079747,  0.00123279, -0.04734545, -0.07720177,  0.2021014 ,\n",
              "        -0.06335483,  0.18013139], dtype=float32),\n",
              " array([[-0.18326303,  0.14788665],\n",
              "        [ 0.40643016, -0.4149274 ],\n",
              "        [-0.18206836,  0.31400445],\n",
              "        [ 0.35276273, -0.7429675 ],\n",
              "        [ 0.295889  , -0.6866123 ],\n",
              "        [-0.4619866 ,  0.3308143 ],\n",
              "        [-0.46384695,  0.20204012],\n",
              "        [-0.3636713 , -0.14204808],\n",
              "        [-0.13769655,  0.314936  ],\n",
              "        [-0.27462995, -0.12826163],\n",
              "        [ 0.6808905 , -0.02913258],\n",
              "        [-0.1653242 , -0.05097109],\n",
              "        [ 0.17472127, -0.01050579],\n",
              "        [-0.27515084,  0.504087  ],\n",
              "        [-0.35927987, -0.07695381],\n",
              "        [ 0.6839421 , -0.31189364],\n",
              "        [ 0.47591266, -0.430424  ],\n",
              "        [ 0.23698196, -0.05981568],\n",
              "        [-0.30722424,  0.00367966],\n",
              "        [ 0.22533958,  0.5765983 ],\n",
              "        [ 0.11687088, -0.38640103],\n",
              "        [-0.47832516,  0.5876555 ],\n",
              "        [-0.2202592 ,  0.14561185],\n",
              "        [-0.49612153, -0.0897834 ],\n",
              "        [ 0.2649894 , -0.13359216],\n",
              "        [ 0.13509937, -0.11058365],\n",
              "        [ 0.3948491 , -0.08401459],\n",
              "        [-0.38205472,  0.35478973],\n",
              "        [-0.35383067,  0.1176433 ],\n",
              "        [ 0.6588965 , -0.68037415],\n",
              "        [ 0.10152266,  0.18068182],\n",
              "        [ 0.50007004, -0.67435193]], dtype=float32),\n",
              " array([ 0.11140908, -0.11140908], dtype=float32)]"
            ]
          },
          "metadata": {
            "tags": []
          },
          "execution_count": 79
        }
      ]
    },
    {
      "cell_type": "markdown",
      "metadata": {
        "id": "41Fye_TBoKh2",
        "colab_type": "text"
      },
      "source": [
        "**Rough work:**"
      ]
    },
    {
      "cell_type": "code",
      "metadata": {
        "id": "XJSwU8FuoOGQ",
        "colab_type": "code",
        "colab": {}
      },
      "source": [
        "train_labels"
      ],
      "execution_count": null,
      "outputs": []
    }
  ]
}