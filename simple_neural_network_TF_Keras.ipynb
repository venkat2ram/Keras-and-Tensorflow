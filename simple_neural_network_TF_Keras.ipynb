{
  "nbformat": 4,
  "nbformat_minor": 0,
  "metadata": {
    "colab": {
      "name": "simple_neural_network_TF_Keras.ipynb",
      "provenance": [],
      "authorship_tag": "ABX9TyNu/VGIYxIdte+klmAERdaw",
      "include_colab_link": true
    },
    "kernelspec": {
      "name": "python3",
      "display_name": "Python 3"
    }
  },
  "cells": [
    {
      "cell_type": "markdown",
      "metadata": {
        "id": "view-in-github",
        "colab_type": "text"
      },
      "source": [
        "<a href=\"https://colab.research.google.com/github/venkat2ram/Keras-and-Tensorflow/blob/master/simple_neural_network_TF_Keras.ipynb\" target=\"_parent\"><img src=\"https://colab.research.google.com/assets/colab-badge.svg\" alt=\"Open In Colab\"/></a>"
      ]
    },
    {
      "cell_type": "code",
      "metadata": {
        "id": "RJR7tGVRiMRz",
        "colab_type": "code",
        "colab": {}
      },
      "source": [
        "from random import randint\n",
        "import numpy as np\n",
        "from sklearn.utils import shuffle\n",
        "from sklearn.preprocessing import MinMaxScaler\n"
      ],
      "execution_count": 0,
      "outputs": []
    },
    {
      "cell_type": "markdown",
      "metadata": {
        "id": "imJDzfpRnaBT",
        "colab_type": "text"
      },
      "source": [
        "Create a sample data set with 2100 reecords whith ages between 13 to 100. \n",
        "For ages 13-64, there shuould be 5% data with label 1.\n",
        "For ages 65-100, there should be 95% data with label 1."
      ]
    },
    {
      "cell_type": "code",
      "metadata": {
        "id": "MhfDFsekiRkR",
        "colab_type": "code",
        "colab": {}
      },
      "source": [
        "train_samples=[]\n",
        "train_labels=[]\n",
        "\n",
        "#50 samples each for impacted youth and not impacted old age people.\n",
        "for i in range(50):\n",
        "  rand_young_noimpact=randint(13,64)\n",
        "  train_samples.append(rand_young_noimpact)\n",
        "  train_labels.append(1)\n",
        "\n",
        "  rand_old_impact=randint(65,100)\n",
        "  train_samples.append(rand_old_impact)\n",
        "  train_labels.append(0)\n",
        "\n",
        "\n",
        "#1000 samples each for impacted youth and not impacted old age people.\n",
        "for i in range(1000):\n",
        "  rand_young_noimpact=randint(13,64)\n",
        "  train_samples.append(rand_young_noimpact)\n",
        "  train_labels.append(0)\n",
        "\n",
        "  rand_old_impact=randint(65,100)\n",
        "  train_samples.append(rand_old_impact)\n",
        "  train_labels.append(1)\n"
      ],
      "execution_count": 0,
      "outputs": []
    },
    {
      "cell_type": "markdown",
      "metadata": {
        "id": "wIob0IykpbzY",
        "colab_type": "text"
      },
      "source": [
        "Shuffle the data."
      ]
    },
    {
      "cell_type": "code",
      "metadata": {
        "id": "-YTr24btpeaP",
        "colab_type": "code",
        "colab": {}
      },
      "source": [
        "\n",
        "train_samples=np.array(train_samples)\n",
        "train_labels=np.array(train_labels)\n",
        "train_samples,train_labels=shuffle(train_samples,train_labels)"
      ],
      "execution_count": 0,
      "outputs": []
    },
    {
      "cell_type": "code",
      "metadata": {
        "id": "csVj29DspbQ6",
        "colab_type": "code",
        "colab": {}
      },
      "source": [
        "scaler=MinMaxScaler(feature_range=(0,1))\n",
        "scaled_train_samples=scaler.fit_transform(train_samples.reshape(-1,1))"
      ],
      "execution_count": 0,
      "outputs": []
    },
    {
      "cell_type": "code",
      "metadata": {
        "id": "-XSbhYrOy7d2",
        "colab_type": "code",
        "colab": {}
      },
      "source": [
        "import tensorflow.keras\n",
        "from tensorflow.keras.models import Sequential\n",
        "from tensorflow.keras.layers import Dense,Activation"
      ],
      "execution_count": 0,
      "outputs": []
    },
    {
      "cell_type": "code",
      "metadata": {
        "id": "xRgwhIgB1-mS",
        "colab_type": "code",
        "colab": {}
      },
      "source": [
        "import keras"
      ],
      "execution_count": 0,
      "outputs": []
    },
    {
      "cell_type": "code",
      "metadata": {
        "id": "pNiOOZiO0XW9",
        "colab_type": "code",
        "colab": {}
      },
      "source": [
        "model=Sequential([\n",
        "    Dense(16,input_shape=(1,), activation='relu'),\n",
        "    Dense(32,activation='relu'),\n",
        "    Dense(2,activation='softmax')]\n",
        ")"
      ],
      "execution_count": 0,
      "outputs": []
    },
    {
      "cell_type": "code",
      "metadata": {
        "id": "JPCQVC-L1EP8",
        "colab_type": "code",
        "colab": {
          "base_uri": "https://localhost:8080/",
          "height": 252
        },
        "outputId": "890d51e2-e2b1-4e67-a404-4ea3db0ceac5"
      },
      "source": [
        "model.summary()"
      ],
      "execution_count": 58,
      "outputs": [
        {
          "output_type": "stream",
          "text": [
            "Model: \"sequential_3\"\n",
            "_________________________________________________________________\n",
            "Layer (type)                 Output Shape              Param #   \n",
            "=================================================================\n",
            "dense_15 (Dense)             (None, 16)                32        \n",
            "_________________________________________________________________\n",
            "dense_16 (Dense)             (None, 32)                544       \n",
            "_________________________________________________________________\n",
            "dense_17 (Dense)             (None, 2)                 66        \n",
            "=================================================================\n",
            "Total params: 642\n",
            "Trainable params: 642\n",
            "Non-trainable params: 0\n",
            "_________________________________________________________________\n"
          ],
          "name": "stdout"
        }
      ]
    },
    {
      "cell_type": "markdown",
      "metadata": {
        "id": "41Fye_TBoKh2",
        "colab_type": "text"
      },
      "source": [
        "**Rough work:**"
      ]
    },
    {
      "cell_type": "code",
      "metadata": {
        "id": "XJSwU8FuoOGQ",
        "colab_type": "code",
        "colab": {
          "base_uri": "https://localhost:8080/",
          "height": 134
        },
        "outputId": "5eec7f8d-553d-4e8d-f309-29c5945dde9a"
      },
      "source": [
        "scaled_train_samples,train_labels"
      ],
      "execution_count": 38,
      "outputs": [
        {
          "output_type": "execute_result",
          "data": {
            "text/plain": [
              "(array([[0.67816092],\n",
              "        [0.16091954],\n",
              "        [0.97701149],\n",
              "        ...,\n",
              "        [0.91954023],\n",
              "        [0.44827586],\n",
              "        [0.34482759]]), array([1, 1, 1, ..., 1, 0, 0]))"
            ]
          },
          "metadata": {
            "tags": []
          },
          "execution_count": 38
        }
      ]
    }
  ]
}