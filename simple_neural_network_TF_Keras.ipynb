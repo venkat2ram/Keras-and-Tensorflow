{
  "nbformat": 4,
  "nbformat_minor": 0,
  "metadata": {
    "colab": {
      "name": "simple_neural_network_TF_Keras.ipynb",
      "provenance": [],
      "authorship_tag": "ABX9TyOLMCWzFnD37o5KEL1DqS0G",
      "include_colab_link": true
    },
    "kernelspec": {
      "name": "python3",
      "display_name": "Python 3"
    }
  },
  "cells": [
    {
      "cell_type": "markdown",
      "metadata": {
        "id": "view-in-github",
        "colab_type": "text"
      },
      "source": [
        "<a href=\"https://colab.research.google.com/github/venkat2ram/Keras-and-Tensorflow/blob/master/simple_neural_network_TF_Keras.ipynb\" target=\"_parent\"><img src=\"https://colab.research.google.com/assets/colab-badge.svg\" alt=\"Open In Colab\"/></a>"
      ]
    },
    {
      "cell_type": "code",
      "metadata": {
        "id": "RJR7tGVRiMRz",
        "colab_type": "code",
        "colab": {}
      },
      "source": [
        "from random import randint\n",
        "import numpy as np\n",
        "from sklearn.utils import shuffle\n",
        "from sklearn.preprocessing import MinMaxScaler\n"
      ],
      "execution_count": 27,
      "outputs": []
    },
    {
      "cell_type": "markdown",
      "metadata": {
        "id": "imJDzfpRnaBT",
        "colab_type": "text"
      },
      "source": [
        "Create a sample data set with 2100 reecords whith ages between 13 to 100. \n",
        "For ages 13-64, there shuould be 5% data with label 1.\n",
        "For ages 65-100, there should be 95% data with label 1."
      ]
    },
    {
      "cell_type": "code",
      "metadata": {
        "id": "MhfDFsekiRkR",
        "colab_type": "code",
        "colab": {}
      },
      "source": [
        "train_samples=[]\n",
        "train_labels=[]\n",
        "\n",
        "#50 samples each for impacted youth and not impacted old age people.\n",
        "for i in range(50):\n",
        "  rand_young_noimpact=randint(13,64)\n",
        "  train_samples.append(rand_young_noimpact)\n",
        "  train_labels.append(1)\n",
        "\n",
        "  rand_old_impact=randint(65,100)\n",
        "  train_samples.append(rand_old_impact)\n",
        "  train_labels.append(0)\n",
        "\n",
        "\n",
        "#1000 samples each for impacted youth and not impacted old age people.\n",
        "for i in range(1000):\n",
        "  rand_young_noimpact=randint(13,64)\n",
        "  train_samples.append(rand_young_noimpact)\n",
        "  train_labels.append(0)\n",
        "\n",
        "  rand_old_impact=randint(65,100)\n",
        "  train_samples.append(rand_old_impact)\n",
        "  train_labels.append(1)\n"
      ],
      "execution_count": 28,
      "outputs": []
    },
    {
      "cell_type": "markdown",
      "metadata": {
        "id": "wIob0IykpbzY",
        "colab_type": "text"
      },
      "source": [
        "Shuffle the data."
      ]
    },
    {
      "cell_type": "code",
      "metadata": {
        "id": "-YTr24btpeaP",
        "colab_type": "code",
        "colab": {}
      },
      "source": [
        "\n",
        "train_samples=np.array(train_samples)\n",
        "train_labels=np.array(train_labels)\n",
        "train_samples,train_labels=shuffle(train_samples,train_labels)"
      ],
      "execution_count": 29,
      "outputs": []
    },
    {
      "cell_type": "code",
      "metadata": {
        "id": "csVj29DspbQ6",
        "colab_type": "code",
        "colab": {}
      },
      "source": [
        "scaler=MinMaxScaler(feature_range=(0,1))\n",
        "scaled_train_samples=scaler.fit_transform(train_samples.reshape(-1,1))"
      ],
      "execution_count": 30,
      "outputs": []
    },
    {
      "cell_type": "markdown",
      "metadata": {
        "id": "6-MFPTnRfkeM",
        "colab_type": "text"
      },
      "source": [
        "**Prepare test data.**"
      ]
    },
    {
      "cell_type": "code",
      "metadata": {
        "id": "9KIxAoeKfkGY",
        "colab_type": "code",
        "colab": {}
      },
      "source": [
        "test_samples=[]\n",
        "test_labels=[]\n",
        "\n",
        "#50 samples each for impacted youth and not impacted old age people.\n",
        "for i in range(10):\n",
        "  rand_young_noimpact=randint(13,64)\n",
        "  test_samples.append(rand_young_noimpact)\n",
        "  test_labels.append(1)\n",
        "\n",
        "  rand_old_impact=randint(65,100)\n",
        "  test_samples.append(rand_old_impact)\n",
        "  test_labels.append(0)\n",
        "\n",
        "\n",
        "#1000 samples each for impacted youth and not impacted old age people.\n",
        "for i in range(200):\n",
        "  rand_young_noimpact=randint(13,64)\n",
        "  test_samples.append(rand_young_noimpact)\n",
        "  test_labels.append(0)\n",
        "\n",
        "  rand_old_impact=randint(65,100)\n",
        "  test_samples.append(rand_old_impact)\n",
        "  test_labels.append(1)"
      ],
      "execution_count": 31,
      "outputs": []
    },
    {
      "cell_type": "code",
      "metadata": {
        "id": "q__GIo1NfiWC",
        "colab_type": "code",
        "colab": {}
      },
      "source": [
        "test_samples=np.array(test_samples)\n",
        "test_labels=np.array(test_labels)\n",
        "test_samples,test_labels=shuffle(test_samples,test_labels)"
      ],
      "execution_count": 32,
      "outputs": []
    },
    {
      "cell_type": "code",
      "metadata": {
        "id": "NPy6csuWgPgQ",
        "colab_type": "code",
        "colab": {}
      },
      "source": [
        "scaler=MinMaxScaler(feature_range=(0,1))\n",
        "scaled_test_samples=scaler.fit_transform(test_samples.reshape(-1,1))"
      ],
      "execution_count": 33,
      "outputs": []
    },
    {
      "cell_type": "markdown",
      "metadata": {
        "id": "LACUqMnJjxPE",
        "colab_type": "text"
      },
      "source": [
        "**Train model**"
      ]
    },
    {
      "cell_type": "code",
      "metadata": {
        "id": "-XSbhYrOy7d2",
        "colab_type": "code",
        "colab": {}
      },
      "source": [
        "import tensorflow.keras\n",
        "from tensorflow.keras.models import Sequential\n",
        "from tensorflow.keras.layers import Dense,Activation\n",
        "from tensorflow.keras.optimizers import Adam\n",
        "from tensorflow.keras.losses import sparse_categorical_crossentropy\n",
        "from tensorflow.keras.metrics import categorical_crossentropy"
      ],
      "execution_count": 34,
      "outputs": []
    },
    {
      "cell_type": "code",
      "metadata": {
        "id": "xRgwhIgB1-mS",
        "colab_type": "code",
        "colab": {}
      },
      "source": [
        "import keras"
      ],
      "execution_count": 35,
      "outputs": []
    },
    {
      "cell_type": "code",
      "metadata": {
        "id": "pNiOOZiO0XW9",
        "colab_type": "code",
        "colab": {}
      },
      "source": [
        "model=Sequential([\n",
        "    Dense(16,input_shape=(1,), activation='relu'),\n",
        "    Dense(32,activation='relu'),\n",
        "    Dense(2,activation='softmax')]\n",
        ")"
      ],
      "execution_count": 36,
      "outputs": []
    },
    {
      "cell_type": "code",
      "metadata": {
        "id": "JPCQVC-L1EP8",
        "colab_type": "code",
        "colab": {
          "base_uri": "https://localhost:8080/",
          "height": 252
        },
        "outputId": "9e55d18b-5d6c-4ccb-9c11-9bb998f7e103"
      },
      "source": [
        "model.summary()"
      ],
      "execution_count": 37,
      "outputs": [
        {
          "output_type": "stream",
          "text": [
            "Model: \"sequential_1\"\n",
            "_________________________________________________________________\n",
            "Layer (type)                 Output Shape              Param #   \n",
            "=================================================================\n",
            "dense_3 (Dense)              (None, 16)                32        \n",
            "_________________________________________________________________\n",
            "dense_4 (Dense)              (None, 32)                544       \n",
            "_________________________________________________________________\n",
            "dense_5 (Dense)              (None, 2)                 66        \n",
            "=================================================================\n",
            "Total params: 642\n",
            "Trainable params: 642\n",
            "Non-trainable params: 0\n",
            "_________________________________________________________________\n"
          ],
          "name": "stdout"
        }
      ]
    },
    {
      "cell_type": "code",
      "metadata": {
        "id": "_WWp7EiupL_0",
        "colab_type": "code",
        "colab": {}
      },
      "source": [
        "model.compile(Adam(lr=0.0001), loss='sparse_categorical_crossentropy',metrics='accuracy')"
      ],
      "execution_count": 38,
      "outputs": []
    },
    {
      "cell_type": "code",
      "metadata": {
        "id": "LbyMQsIUrBIm",
        "colab_type": "code",
        "colab": {
          "base_uri": "https://localhost:8080/",
          "height": 706
        },
        "outputId": "a244ef7a-755e-49c8-c545-b2d3193dffe1"
      },
      "source": [
        "model.fit(scaled_train_samples,train_labels,validation_split=0.2,batch_size=10,epochs=20,verbose=2)"
      ],
      "execution_count": 39,
      "outputs": [
        {
          "output_type": "stream",
          "text": [
            "Epoch 1/20\n",
            "168/168 - 0s - loss: 0.6768 - accuracy: 0.5286 - val_loss: 0.6651 - val_accuracy: 0.5357\n",
            "Epoch 2/20\n",
            "168/168 - 0s - loss: 0.6540 - accuracy: 0.6042 - val_loss: 0.6377 - val_accuracy: 0.6357\n",
            "Epoch 3/20\n",
            "168/168 - 0s - loss: 0.6290 - accuracy: 0.6613 - val_loss: 0.6120 - val_accuracy: 0.6976\n",
            "Epoch 4/20\n",
            "168/168 - 0s - loss: 0.6022 - accuracy: 0.7155 - val_loss: 0.5779 - val_accuracy: 0.7548\n",
            "Epoch 5/20\n",
            "168/168 - 0s - loss: 0.5739 - accuracy: 0.7548 - val_loss: 0.5493 - val_accuracy: 0.7857\n",
            "Epoch 6/20\n",
            "168/168 - 0s - loss: 0.5486 - accuracy: 0.7768 - val_loss: 0.5213 - val_accuracy: 0.8286\n",
            "Epoch 7/20\n",
            "168/168 - 0s - loss: 0.5242 - accuracy: 0.7929 - val_loss: 0.4941 - val_accuracy: 0.8405\n",
            "Epoch 8/20\n",
            "168/168 - 0s - loss: 0.5005 - accuracy: 0.8054 - val_loss: 0.4677 - val_accuracy: 0.8667\n",
            "Epoch 9/20\n",
            "168/168 - 0s - loss: 0.4780 - accuracy: 0.8280 - val_loss: 0.4426 - val_accuracy: 0.8881\n",
            "Epoch 10/20\n",
            "168/168 - 0s - loss: 0.4567 - accuracy: 0.8381 - val_loss: 0.4191 - val_accuracy: 0.9000\n",
            "Epoch 11/20\n",
            "168/168 - 0s - loss: 0.4370 - accuracy: 0.8536 - val_loss: 0.3971 - val_accuracy: 0.9119\n",
            "Epoch 12/20\n",
            "168/168 - 0s - loss: 0.4189 - accuracy: 0.8613 - val_loss: 0.3771 - val_accuracy: 0.9310\n",
            "Epoch 13/20\n",
            "168/168 - 0s - loss: 0.4026 - accuracy: 0.8756 - val_loss: 0.3590 - val_accuracy: 0.9310\n",
            "Epoch 14/20\n",
            "168/168 - 0s - loss: 0.3882 - accuracy: 0.8762 - val_loss: 0.3429 - val_accuracy: 0.9357\n",
            "Epoch 15/20\n",
            "168/168 - 0s - loss: 0.3753 - accuracy: 0.8827 - val_loss: 0.3284 - val_accuracy: 0.9357\n",
            "Epoch 16/20\n",
            "168/168 - 0s - loss: 0.3641 - accuracy: 0.8958 - val_loss: 0.3155 - val_accuracy: 0.9357\n",
            "Epoch 17/20\n",
            "168/168 - 0s - loss: 0.3540 - accuracy: 0.8923 - val_loss: 0.3039 - val_accuracy: 0.9357\n",
            "Epoch 18/20\n",
            "168/168 - 0s - loss: 0.3451 - accuracy: 0.9000 - val_loss: 0.2935 - val_accuracy: 0.9357\n",
            "Epoch 19/20\n",
            "168/168 - 0s - loss: 0.3372 - accuracy: 0.9077 - val_loss: 0.2843 - val_accuracy: 0.9381\n",
            "Epoch 20/20\n",
            "168/168 - 0s - loss: 0.3305 - accuracy: 0.9089 - val_loss: 0.2766 - val_accuracy: 0.9500\n"
          ],
          "name": "stdout"
        },
        {
          "output_type": "execute_result",
          "data": {
            "text/plain": [
              "<tensorflow.python.keras.callbacks.History at 0x7f2d2aebacc0>"
            ]
          },
          "metadata": {
            "tags": []
          },
          "execution_count": 39
        }
      ]
    },
    {
      "cell_type": "markdown",
      "metadata": {
        "id": "5dM_t7xrj1pW",
        "colab_type": "text"
      },
      "source": [
        "**Predict:**"
      ]
    },
    {
      "cell_type": "code",
      "metadata": {
        "id": "ztbmXdk3j1UK",
        "colab_type": "code",
        "colab": {}
      },
      "source": [
        "predict=model.predict(scaled_test_samples,batch_size=10)"
      ],
      "execution_count": 44,
      "outputs": []
    },
    {
      "cell_type": "code",
      "metadata": {
        "id": "-uPvDZ--k4vG",
        "colab_type": "code",
        "colab": {}
      },
      "source": [
        "predict_class=model.predict_classes(scaled_test_samples,batch_size=10)"
      ],
      "execution_count": 46,
      "outputs": []
    },
    {
      "cell_type": "markdown",
      "metadata": {
        "id": "049CdoCco9-f",
        "colab_type": "text"
      },
      "source": [
        "Confusion_matrix"
      ]
    },
    {
      "cell_type": "code",
      "metadata": {
        "id": "CO3bpMhEpKxn",
        "colab_type": "code",
        "colab": {}
      },
      "source": [
        "from sklearn.metrics import confusion_matrix"
      ],
      "execution_count": 47,
      "outputs": []
    },
    {
      "cell_type": "code",
      "metadata": {
        "id": "TxA3o2LipgsL",
        "colab_type": "code",
        "colab": {}
      },
      "source": [
        "cm=confusion_matrix(test_labels,predict_class)"
      ],
      "execution_count": 48,
      "outputs": []
    },
    {
      "cell_type": "code",
      "metadata": {
        "id": "ERUh1S6zpt7H",
        "colab_type": "code",
        "colab": {
          "base_uri": "https://localhost:8080/",
          "height": 50
        },
        "outputId": "38de52e0-9038-43e5-9ab8-4531384c479d"
      },
      "source": [
        "cm"
      ],
      "execution_count": 49,
      "outputs": [
        {
          "output_type": "execute_result",
          "data": {
            "text/plain": [
              "array([[188,  22],\n",
              "       [ 10, 200]])"
            ]
          },
          "metadata": {
            "tags": []
          },
          "execution_count": 49
        }
      ]
    },
    {
      "cell_type": "markdown",
      "metadata": {
        "id": "41Fye_TBoKh2",
        "colab_type": "text"
      },
      "source": [
        "**Rough work:**"
      ]
    },
    {
      "cell_type": "code",
      "metadata": {
        "id": "XJSwU8FuoOGQ",
        "colab_type": "code",
        "colab": {}
      },
      "source": [
        "train_labels"
      ],
      "execution_count": null,
      "outputs": []
    }
  ]
}