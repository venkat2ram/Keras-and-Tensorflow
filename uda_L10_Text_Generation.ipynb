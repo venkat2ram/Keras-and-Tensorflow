{
  "nbformat": 4,
  "nbformat_minor": 0,
  "metadata": {
    "colab": {
      "name": "uda_L10_Text_Generation.ipynb",
      "provenance": [],
      "authorship_tag": "ABX9TyM3mB+MIno9cDvV75fKqybb",
      "include_colab_link": true
    },
    "kernelspec": {
      "name": "python3",
      "display_name": "Python 3"
    },
    "accelerator": "GPU"
  },
  "cells": [
    {
      "cell_type": "markdown",
      "metadata": {
        "id": "view-in-github",
        "colab_type": "text"
      },
      "source": [
        "<a href=\"https://colab.research.google.com/github/venkat2ram/Keras-and-Tensorflow/blob/master/uda_L10_Text_Generation.ipynb\" target=\"_parent\"><img src=\"https://colab.research.google.com/assets/colab-badge.svg\" alt=\"Open In Colab\"/></a>"
      ]
    },
    {
      "cell_type": "markdown",
      "metadata": {
        "id": "MX-2T-z0OJoc"
      },
      "source": [
        "#############Not able to run program due to RAM issue################"
      ]
    },
    {
      "cell_type": "code",
      "metadata": {
        "id": "1YqtKwASwg1n"
      },
      "source": [
        "import tensorflow as tf\n",
        "import tensorflow.keras as keras\n",
        "import numpy as np\n",
        "import pandas as pd\n",
        "import matplotlib.pyplot as plt\n",
        "import string\n",
        "\n",
        "from tensorflow.keras.preprocessing.text import Tokenizer\n",
        "from tensorflow.keras.preprocessing.sequence import pad_sequences"
      ],
      "execution_count": 1,
      "outputs": []
    },
    {
      "cell_type": "code",
      "metadata": {
        "id": "rwDFKflJxCqp"
      },
      "source": [
        "url=tf.keras.utils.get_file('song_data.csv','https://drive.google.com/uc?id=1LiJFZd41ofrWoBtW-pMYsfz1w8Ny0Bj8')"
      ],
      "execution_count": 2,
      "outputs": []
    },
    {
      "cell_type": "code",
      "metadata": {
        "id": "QmvYV5LJ4AlQ"
      },
      "source": [
        "dataset=pd.read_csv(url)"
      ],
      "execution_count": 3,
      "outputs": []
    },
    {
      "cell_type": "code",
      "metadata": {
        "id": "_73vxnB94W4-",
        "outputId": "3180c43f-09db-46e8-f937-a3c2b17505f1",
        "colab": {
          "base_uri": "https://localhost:8080/",
          "height": 402
        }
      },
      "source": [
        "dataset"
      ],
      "execution_count": 4,
      "outputs": [
        {
          "output_type": "execute_result",
          "data": {
            "text/html": [
              "<div>\n",
              "<style scoped>\n",
              "    .dataframe tbody tr th:only-of-type {\n",
              "        vertical-align: middle;\n",
              "    }\n",
              "\n",
              "    .dataframe tbody tr th {\n",
              "        vertical-align: top;\n",
              "    }\n",
              "\n",
              "    .dataframe thead th {\n",
              "        text-align: right;\n",
              "    }\n",
              "</style>\n",
              "<table border=\"1\" class=\"dataframe\">\n",
              "  <thead>\n",
              "    <tr style=\"text-align: right;\">\n",
              "      <th></th>\n",
              "      <th>artist</th>\n",
              "      <th>song</th>\n",
              "      <th>link</th>\n",
              "      <th>text</th>\n",
              "    </tr>\n",
              "  </thead>\n",
              "  <tbody>\n",
              "    <tr>\n",
              "      <th>0</th>\n",
              "      <td>ABBA</td>\n",
              "      <td>Ahe's My Kind Of Girl</td>\n",
              "      <td>/a/abba/ahes+my+kind+of+girl_20598417.html</td>\n",
              "      <td>Look at her face, it's a wonderful face  \\nAnd...</td>\n",
              "    </tr>\n",
              "    <tr>\n",
              "      <th>1</th>\n",
              "      <td>ABBA</td>\n",
              "      <td>Andante, Andante</td>\n",
              "      <td>/a/abba/andante+andante_20002708.html</td>\n",
              "      <td>Take it easy with me, please  \\nTouch me gentl...</td>\n",
              "    </tr>\n",
              "    <tr>\n",
              "      <th>2</th>\n",
              "      <td>ABBA</td>\n",
              "      <td>As Good As New</td>\n",
              "      <td>/a/abba/as+good+as+new_20003033.html</td>\n",
              "      <td>I'll never know why I had to go  \\nWhy I had t...</td>\n",
              "    </tr>\n",
              "    <tr>\n",
              "      <th>3</th>\n",
              "      <td>ABBA</td>\n",
              "      <td>Bang</td>\n",
              "      <td>/a/abba/bang_20598415.html</td>\n",
              "      <td>Making somebody happy is a question of give an...</td>\n",
              "    </tr>\n",
              "    <tr>\n",
              "      <th>4</th>\n",
              "      <td>ABBA</td>\n",
              "      <td>Bang-A-Boomerang</td>\n",
              "      <td>/a/abba/bang+a+boomerang_20002668.html</td>\n",
              "      <td>Making somebody happy is a question of give an...</td>\n",
              "    </tr>\n",
              "    <tr>\n",
              "      <th>...</th>\n",
              "      <td>...</td>\n",
              "      <td>...</td>\n",
              "      <td>...</td>\n",
              "      <td>...</td>\n",
              "    </tr>\n",
              "    <tr>\n",
              "      <th>57645</th>\n",
              "      <td>Ziggy Marley</td>\n",
              "      <td>Good Old Days</td>\n",
              "      <td>/z/ziggy+marley/good+old+days_10198588.html</td>\n",
              "      <td>Irie days come on play  \\nLet the angels fly l...</td>\n",
              "    </tr>\n",
              "    <tr>\n",
              "      <th>57646</th>\n",
              "      <td>Ziggy Marley</td>\n",
              "      <td>Hand To Mouth</td>\n",
              "      <td>/z/ziggy+marley/hand+to+mouth_20531167.html</td>\n",
              "      <td>Power to the workers  \\nMore power  \\nPower to...</td>\n",
              "    </tr>\n",
              "    <tr>\n",
              "      <th>57647</th>\n",
              "      <td>Zwan</td>\n",
              "      <td>Come With Me</td>\n",
              "      <td>/z/zwan/come+with+me_20148981.html</td>\n",
              "      <td>all you need  \\nis something i'll believe  \\nf...</td>\n",
              "    </tr>\n",
              "    <tr>\n",
              "      <th>57648</th>\n",
              "      <td>Zwan</td>\n",
              "      <td>Desire</td>\n",
              "      <td>/z/zwan/desire_20148986.html</td>\n",
              "      <td>northern star  \\nam i frightened  \\nwhere can ...</td>\n",
              "    </tr>\n",
              "    <tr>\n",
              "      <th>57649</th>\n",
              "      <td>Zwan</td>\n",
              "      <td>Heartsong</td>\n",
              "      <td>/z/zwan/heartsong_20148991.html</td>\n",
              "      <td>come in  \\nmake yourself at home  \\ni'm a bit ...</td>\n",
              "    </tr>\n",
              "  </tbody>\n",
              "</table>\n",
              "<p>57650 rows × 4 columns</p>\n",
              "</div>"
            ],
            "text/plain": [
              "             artist  ...                                               text\n",
              "0              ABBA  ...  Look at her face, it's a wonderful face  \\nAnd...\n",
              "1              ABBA  ...  Take it easy with me, please  \\nTouch me gentl...\n",
              "2              ABBA  ...  I'll never know why I had to go  \\nWhy I had t...\n",
              "3              ABBA  ...  Making somebody happy is a question of give an...\n",
              "4              ABBA  ...  Making somebody happy is a question of give an...\n",
              "...             ...  ...                                                ...\n",
              "57645  Ziggy Marley  ...  Irie days come on play  \\nLet the angels fly l...\n",
              "57646  Ziggy Marley  ...  Power to the workers  \\nMore power  \\nPower to...\n",
              "57647          Zwan  ...  all you need  \\nis something i'll believe  \\nf...\n",
              "57648          Zwan  ...  northern star  \\nam i frightened  \\nwhere can ...\n",
              "57649          Zwan  ...  come in  \\nmake yourself at home  \\ni'm a bit ...\n",
              "\n",
              "[57650 rows x 4 columns]"
            ]
          },
          "metadata": {
            "tags": []
          },
          "execution_count": 4
        }
      ]
    },
    {
      "cell_type": "code",
      "metadata": {
        "id": "EDtTc4CP4Yce"
      },
      "source": [
        "def create_lyrics_corpus(dataset, field):\n",
        "  # Remove all other punctuation\n",
        "  dataset[field] = dataset[field].str.replace('[{}]'.format(string.punctuation), '')\n",
        "  # Make it lowercase\n",
        "  dataset[field] = dataset[field].str.lower()\n",
        "  # Make it one long string to split by line\n",
        "  lyrics = dataset[field].str.cat()\n",
        "  corpus = lyrics.split('\\n')\n",
        "  # Remove any trailing whitespace\n",
        "  for l in range(len(corpus)):\n",
        "    corpus[l] = corpus[l].rstrip()\n",
        "  # Remove any empty lines\n",
        "  corpus = [l for l in corpus if l != '']\n",
        "\n",
        "  return corpus\n",
        "\n",
        "def tokenize_data(corpus,num_words=-1):\n",
        "  if num_words>-1:\n",
        "    tokenizer=Tokenizer(num_words=num_words)\n",
        "  else:\n",
        "    tokenizer=Tokenizer()\n",
        "  tokenizer.fit_on_texts(corpus)\n",
        "  return tokenizer\n"
      ],
      "execution_count": 5,
      "outputs": []
    },
    {
      "cell_type": "code",
      "metadata": {
        "id": "1WEXLHBu-LKP"
      },
      "source": [
        "corpus=create_lyrics_corpus(dataset,'text')\n",
        "tokenizer=tokenize_data(corpus)\n"
      ],
      "execution_count": 6,
      "outputs": []
    },
    {
      "cell_type": "code",
      "metadata": {
        "id": "j7_eX-ig-Lq4"
      },
      "source": [
        "total_words=len(tokenizer.word_index)+1"
      ],
      "execution_count": 7,
      "outputs": []
    },
    {
      "cell_type": "code",
      "metadata": {
        "id": "BZMxtwsV-xbM"
      },
      "source": [
        "token_list=tokenizer.texts_to_sequences(['look at her face its a wonderful face'])[0]"
      ],
      "execution_count": 8,
      "outputs": []
    },
    {
      "cell_type": "code",
      "metadata": {
        "id": "ETENrXCJAVDY"
      },
      "source": [
        "sequences=[]\n",
        "for line in corpus:\n",
        "  token_list=tokenizer.texts_to_sequences([line])[0]\n",
        "  for i in range(1,len(token_list)):\n",
        "    n_gram_sequence=token_list[:i+1]\n",
        "    sequences.append(n_gram_sequence)\n",
        "\n"
      ],
      "execution_count": 9,
      "outputs": []
    },
    {
      "cell_type": "code",
      "metadata": {
        "id": "Zro0yOTxAgG-"
      },
      "source": [
        "max_sequnce_length=max([len(seq) for seq in sequences ])\n",
        "padded_sequences=np.array(pad_sequences(sequences,maxlen=max_sequnce_length,padding='pre'))"
      ],
      "execution_count": 10,
      "outputs": []
    },
    {
      "cell_type": "code",
      "metadata": {
        "id": "rxNfciy8EcFN"
      },
      "source": [
        "input_sequences,labels=padded_sequences[:,:-1],padded_sequences[:,-1]"
      ],
      "execution_count": 11,
      "outputs": []
    },
    {
      "cell_type": "code",
      "metadata": {
        "id": "kpDiU7sHK8wP"
      },
      "source": [
        "one_hot_labels=tf.keras.utils.to_categorical(labels,num_classes=total_words)"
      ],
      "execution_count": null,
      "outputs": []
    },
    {
      "cell_type": "code",
      "metadata": {
        "id": "TLhVOiOMMC6E"
      },
      "source": [
        "labels"
      ],
      "execution_count": null,
      "outputs": []
    },
    {
      "cell_type": "code",
      "metadata": {
        "id": "goJsSYDkMQqP"
      },
      "source": [
        ""
      ],
      "execution_count": null,
      "outputs": []
    }
  ]
}