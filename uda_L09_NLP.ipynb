{
  "nbformat": 4,
  "nbformat_minor": 0,
  "metadata": {
    "colab": {
      "name": "uda_L09_NLP.ipynb",
      "provenance": [],
      "authorship_tag": "ABX9TyMzY8xy1VzqAmhgpMxXfVJ/",
      "include_colab_link": true
    },
    "kernelspec": {
      "name": "python3",
      "display_name": "Python 3"
    }
  },
  "cells": [
    {
      "cell_type": "markdown",
      "metadata": {
        "id": "view-in-github",
        "colab_type": "text"
      },
      "source": [
        "<a href=\"https://colab.research.google.com/github/venkat2ram/Keras-and-Tensorflow/blob/master/uda_L09_NLP.ipynb\" target=\"_parent\"><img src=\"https://colab.research.google.com/assets/colab-badge.svg\" alt=\"Open In Colab\"/></a>"
      ]
    },
    {
      "cell_type": "code",
      "metadata": {
        "id": "Ij2BuN_L9IXK",
        "outputId": "f09afd06-1410-430b-8d84-40ea7ed52810",
        "colab": {
          "base_uri": "https://localhost:8080/",
          "height": 370
        }
      },
      "source": [
        "import tensorflow as tf\n",
        "import numpy as np\n",
        "import pandas as pd\n",
        "import tensorflow.keras as keras\n",
        "from tensorflow.keras.preprocessing.text import Tokenizer\n",
        "from tensorflow.keras.preprocessing.sequence import pad_sequences\n",
        "\n",
        "path= keras.utils.get_file('review.csv','https://drive.google.com/uc?id=13ySLC_ue6Umt9RJYSeM2t-V0kCv-4C-P')\n",
        "dataset=pd.read_csv(path)\n",
        "sentences=dataset['text'].to_list()\n",
        "labels=dataset['sentiment'].to_list()\n",
        "\n",
        "train_size=int(len(labels)/0.8)\n",
        "\n",
        "train_sentences=sentences[:train_size]\n",
        "train_labels=labels[:train_size]\n",
        "test_sentences=sentences[train_size:]\n",
        "test_labels=labels[train_size:]\n",
        "\n",
        "train_labels_final=np.array(train_labels)\n",
        "test_labels_final=np.array(test_labels)\n",
        "\n",
        "vocab_size=1000\n",
        "seq_length=100\n",
        "embedding_dim=16\n",
        "\n",
        "tokenizer=Tokenizer(num_words=vocab_size,oov_token='<OOV>')\n",
        "tokenizer.fit_on_texts(train_sentences)\n",
        "train_sequences=tokenizer.texts_to_sequences(train_sentences)\n",
        "pad_train_sequences=pad_sequences(train_sequences,maxlen=seq_length,padding='post',truncating='post')\n",
        "test_sequences=tokenizer.texts_to_sequences(test_sentences)\n",
        "pad_test_sequences=pad_sequences(test_sentences,maxlen=seq_length,padding='post',truncating='post')\n",
        "\n",
        "model=tf.keras.models.Sequential([\n",
        "    tf.keras.layers.Embedding(vocab_size,embedding_dim,input_length=seq_length),\n",
        "    tf.keras.layers.Flatten(),\n",
        "    tf.keras.layers.Dense(6,activation='relu'),\n",
        "    tf.keras.layers.Dense(1,activation='sigmoid')\n",
        "])\n",
        "\n",
        "model.compile(loss='binary_crossentropy',optimizer='adam',metrics=['accuracy'])\n",
        "\n",
        "#print(model.summary())\n",
        "\n",
        "model.fit(pad_train_sequences,train_labels_final,epochs=10,validation_data=(pad_test_sequences,test_labels_final))\n"
      ],
      "execution_count": 13,
      "outputs": [
        {
          "output_type": "stream",
          "text": [
            "Epoch 1/10\n",
            "63/63 [==============================] - 0s 3ms/step - loss: 0.6935 - accuracy: 0.4985\n",
            "Epoch 2/10\n",
            "63/63 [==============================] - 0s 2ms/step - loss: 0.6742 - accuracy: 0.7204\n",
            "Epoch 3/10\n",
            "63/63 [==============================] - 0s 2ms/step - loss: 0.6090 - accuracy: 0.7877\n",
            "Epoch 4/10\n",
            "63/63 [==============================] - 0s 2ms/step - loss: 0.4985 - accuracy: 0.8308\n",
            "Epoch 5/10\n",
            "63/63 [==============================] - 0s 2ms/step - loss: 0.3843 - accuracy: 0.8865\n",
            "Epoch 6/10\n",
            "63/63 [==============================] - 0s 2ms/step - loss: 0.3024 - accuracy: 0.9111\n",
            "Epoch 7/10\n",
            "63/63 [==============================] - 0s 2ms/step - loss: 0.2423 - accuracy: 0.9408\n",
            "Epoch 8/10\n",
            "63/63 [==============================] - 0s 2ms/step - loss: 0.1972 - accuracy: 0.9538\n",
            "Epoch 9/10\n",
            "63/63 [==============================] - 0s 2ms/step - loss: 0.1630 - accuracy: 0.9639\n",
            "Epoch 10/10\n",
            "63/63 [==============================] - 0s 2ms/step - loss: 0.1360 - accuracy: 0.9704\n"
          ],
          "name": "stdout"
        },
        {
          "output_type": "execute_result",
          "data": {
            "text/plain": [
              "<tensorflow.python.keras.callbacks.History at 0x7fc2cd8d6c88>"
            ]
          },
          "metadata": {
            "tags": []
          },
          "execution_count": 13
        }
      ]
    }
  ]
}