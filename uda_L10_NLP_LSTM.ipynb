{
  "nbformat": 4,
  "nbformat_minor": 0,
  "metadata": {
    "colab": {
      "name": "uda_L10_NLP_LSTM.ipynb",
      "provenance": [],
      "authorship_tag": "ABX9TyPEzDlObz1HATuVGcMvwwKS",
      "include_colab_link": true
    },
    "kernelspec": {
      "name": "python3",
      "display_name": "Python 3"
    }
  },
  "cells": [
    {
      "cell_type": "markdown",
      "metadata": {
        "id": "view-in-github",
        "colab_type": "text"
      },
      "source": [
        "<a href=\"https://colab.research.google.com/github/venkat2ram/Keras-and-Tensorflow/blob/master/uda_L10_NLP_LSTM.ipynb\" target=\"_parent\"><img src=\"https://colab.research.google.com/assets/colab-badge.svg\" alt=\"Open In Colab\"/></a>"
      ]
    },
    {
      "cell_type": "code",
      "metadata": {
        "id": "WJ-l5qUGGVPp"
      },
      "source": [
        "import tensorflow as tf\n",
        "import tensorflow.keras as keras\n",
        "from tensorflow.keras.preprocessing.sequence import pad_sequences\n",
        "from tensorflow.keras.preprocessing.text import Tokenizer\n",
        "import pandas as pd\n",
        "import numpy as np\n"
      ],
      "execution_count": 36,
      "outputs": []
    },
    {
      "cell_type": "code",
      "metadata": {
        "id": "S94DFfe2HMwX"
      },
      "source": [
        "path=keras.utils.get_file('reviews.csv','https://drive.google.com/uc?id=13ySLC_ue6Umt9RJYSeM2t-V0kCv-4C-P')\n",
        "dataset=pd.read_csv(path)\n",
        "sentences=dataset['text']\n",
        "labels=dataset['sentiment']"
      ],
      "execution_count": 10,
      "outputs": []
    },
    {
      "cell_type": "code",
      "metadata": {
        "id": "x6j6dVdgIBvy"
      },
      "source": [
        "import tensorflow_datasets as tfds\n",
        "vocab_size=1000\n",
        "tokenizer=tfds.features.text.SubwordTextEncoder.build_from_corpus(sentences, vocab_size, max_subword_length=5)"
      ],
      "execution_count": 16,
      "outputs": []
    },
    {
      "cell_type": "code",
      "metadata": {
        "id": "n-6RhHKyJ6D0",
        "outputId": "e9f34a2f-1ee4-4eb2-8727-949cdbbd4ffb",
        "colab": {
          "base_uri": "https://localhost:8080/",
          "height": 50
        }
      },
      "source": [
        "word=sentences[5]\n",
        "print(word)\n",
        "enc=tokenizer.encode(sentences[5])\n",
        "print(enc)"
      ],
      "execution_count": 21,
      "outputs": [
        {
          "output_type": "stream",
          "text": [
            "I have to jiggle the plug to get it to line up right to get decent volume.\n",
            "[4, 31, 6, 849, 162, 450, 12, 1, 600, 438, 775, 6, 175, 14, 6, 55, 213, 159, 474, 775, 6, 175, 614, 380, 295, 148, 72, 789]\n"
          ],
          "name": "stdout"
        }
      ]
    },
    {
      "cell_type": "code",
      "metadata": {
        "id": "3cAn4Ct4Kc92",
        "outputId": "159d6919-b989-471d-b4a7-a938474404a4",
        "colab": {
          "base_uri": "https://localhost:8080/",
          "height": 487
        }
      },
      "source": [
        "for i in enc:\n",
        "  print(tokenizer.decode([i]))"
      ],
      "execution_count": 27,
      "outputs": [
        {
          "output_type": "stream",
          "text": [
            "I \n",
            "have \n",
            "to \n",
            "j\n",
            "ig\n",
            "gl\n",
            "e \n",
            "the \n",
            "pl\n",
            "ug\n",
            " \n",
            "to \n",
            "get \n",
            "it \n",
            "to \n",
            "li\n",
            "ne \n",
            "up \n",
            "right\n",
            " \n",
            "to \n",
            "get \n",
            "dec\n",
            "ent \n",
            "vo\n",
            "lu\n",
            "me\n",
            ".\n"
          ],
          "name": "stdout"
        }
      ]
    },
    {
      "cell_type": "code",
      "metadata": {
        "id": "F6yDSkzdKi7r",
        "outputId": "ea183a49-e7f8-4421-96b2-a0cb6b313620",
        "colab": {
          "base_uri": "https://localhost:8080/",
          "height": 101
        }
      },
      "source": [
        "for i, sentence in enumerate(sentences):\n",
        "  sentences[i] = tokenizer.encode(sentence)"
      ],
      "execution_count": 28,
      "outputs": [
        {
          "output_type": "stream",
          "text": [
            "/usr/local/lib/python3.6/dist-packages/ipykernel_launcher.py:2: SettingWithCopyWarning: \n",
            "A value is trying to be set on a copy of a slice from a DataFrame\n",
            "\n",
            "See the caveats in the documentation: https://pandas.pydata.org/pandas-docs/stable/user_guide/indexing.html#returning-a-view-versus-a-copy\n",
            "  \n"
          ],
          "name": "stderr"
        }
      ]
    },
    {
      "cell_type": "code",
      "metadata": {
        "id": "TuAUtWjQLzkc",
        "outputId": "2929c400-1d25-41b9-da74-6dddd58aa5c0",
        "colab": {
          "base_uri": "https://localhost:8080/",
          "height": 487
        }
      },
      "source": [
        "sentences[5]"
      ],
      "execution_count": 32,
      "outputs": [
        {
          "output_type": "execute_result",
          "data": {
            "text/plain": [
              "[4,\n",
              " 31,\n",
              " 6,\n",
              " 849,\n",
              " 162,\n",
              " 450,\n",
              " 12,\n",
              " 1,\n",
              " 600,\n",
              " 438,\n",
              " 775,\n",
              " 6,\n",
              " 175,\n",
              " 14,\n",
              " 6,\n",
              " 55,\n",
              " 213,\n",
              " 159,\n",
              " 474,\n",
              " 775,\n",
              " 6,\n",
              " 175,\n",
              " 614,\n",
              " 380,\n",
              " 295,\n",
              " 148,\n",
              " 72,\n",
              " 789]"
            ]
          },
          "metadata": {
            "tags": []
          },
          "execution_count": 32
        }
      ]
    },
    {
      "cell_type": "code",
      "metadata": {
        "id": "vogm1NT6L6Jv"
      },
      "source": [
        "train_size=int(sentences.size*0.8)\n",
        "sequence_size=50\n",
        "padding_type='post'\n",
        "truncating_type='post'\n",
        "\n",
        "train_sentences=sentences[:train_size]\n",
        "test_sentences=sentences[train_size:]\n",
        "\n",
        "padded_train_sentences=pad_sequences(train_sentences,maxlen=sequence_size,padding=padding_type, truncating=truncating_type)\n",
        "padded_test_sentences=pad_sequences(test_sentences,maxlen=sequence_size,padding=padding_type, truncating=truncating_type)\n",
        "\n",
        "train_labels=labels[:train_size]\n",
        "test_labels=labels[train_size:]\n",
        "\n",
        "train_labels_final=np.array(train_labels)\n",
        "test_labels_final=np.array(test_labels)"
      ],
      "execution_count": 41,
      "outputs": []
    },
    {
      "cell_type": "code",
      "metadata": {
        "id": "nsuzM85iMd0Z",
        "outputId": "e287a9d8-e8bd-456c-8acf-6143dbdbfabc",
        "colab": {
          "base_uri": "https://localhost:8080/",
          "height": 84
        }
      },
      "source": [
        "padded_test_sentences[5]"
      ],
      "execution_count": 42,
      "outputs": [
        {
          "output_type": "execute_result",
          "data": {
            "text/plain": [
              "array([ 54,   9, 179,  60, 511, 789,   0,   0,   0,   0,   0,   0,   0,\n",
              "         0,   0,   0,   0,   0,   0,   0,   0,   0,   0,   0,   0,   0,\n",
              "         0,   0,   0,   0,   0,   0,   0,   0,   0,   0,   0,   0,   0,\n",
              "         0,   0,   0,   0,   0,   0,   0,   0,   0,   0,   0], dtype=int32)"
            ]
          },
          "metadata": {
            "tags": []
          },
          "execution_count": 42
        }
      ]
    },
    {
      "cell_type": "markdown",
      "metadata": {
        "id": "f3JRs3xAP7ge"
      },
      "source": [
        "# Model using Embedding"
      ]
    },
    {
      "cell_type": "code",
      "metadata": {
        "id": "DCWhKfZeMfQ2"
      },
      "source": [
        "embedding_dim=16\n",
        "\n",
        "model=tf.keras.models.Sequential(\n",
        "    [tf.keras.layers.Embedding(vocab_size,embedding_dim,input_length=sequence_size),\n",
        "     tf.keras.layers.Dense(6,activation='relu'),\n",
        "     tf.keras.layers.Dense(1,activation='sigmoid')]\n",
        ")\n",
        "\n",
        "model.compile(loss='binary_crossentropy',optimizer='adam',metrics=['accuracy'])"
      ],
      "execution_count": 45,
      "outputs": []
    },
    {
      "cell_type": "code",
      "metadata": {
        "id": "_9orG1p_Q56w",
        "outputId": "d7230556-84ee-48cd-8af9-dbefe5f53062",
        "colab": {
          "base_uri": "https://localhost:8080/",
          "height": 252
        }
      },
      "source": [
        "model.summary()"
      ],
      "execution_count": 47,
      "outputs": [
        {
          "output_type": "stream",
          "text": [
            "Model: \"sequential_2\"\n",
            "_________________________________________________________________\n",
            "Layer (type)                 Output Shape              Param #   \n",
            "=================================================================\n",
            "embedding_2 (Embedding)      (None, 50, 16)            16000     \n",
            "_________________________________________________________________\n",
            "dense_4 (Dense)              (None, 50, 6)             102       \n",
            "_________________________________________________________________\n",
            "dense_5 (Dense)              (None, 50, 1)             7         \n",
            "=================================================================\n",
            "Total params: 16,109\n",
            "Trainable params: 16,109\n",
            "Non-trainable params: 0\n",
            "_________________________________________________________________\n"
          ],
          "name": "stdout"
        }
      ]
    },
    {
      "cell_type": "code",
      "metadata": {
        "id": "R8u-DKFzRfDH"
      },
      "source": [
        "model.fit(padded_train_sentences,train_labels_final,epochs=100,validation_data=(padded_test_sentences,test_labels_final))"
      ],
      "execution_count": null,
      "outputs": []
    },
    {
      "cell_type": "code",
      "metadata": {
        "id": "eRkoMPORR2JA",
        "outputId": "33a7229d-c8ed-461c-c449-2623af8f1878",
        "colab": {
          "base_uri": "https://localhost:8080/",
          "height": 134
        }
      },
      "source": [
        "padded_test_sentences"
      ],
      "execution_count": 50,
      "outputs": [
        {
          "output_type": "execute_result",
          "data": {
            "text/plain": [
              "array([[211, 284, 646, ...,   0,   0,   0],\n",
              "       [413, 233,  31, ...,   0,   0,   0],\n",
              "       [625, 633, 148, ...,   0,   0,   0],\n",
              "       ...,\n",
              "       [822, 500,  37, ...,   0,   0,   0],\n",
              "       [ 13, 219, 147, ...,   0,   0,   0],\n",
              "       [291,  38,  61, ..., 789,   0,   0]], dtype=int32)"
            ]
          },
          "metadata": {
            "tags": []
          },
          "execution_count": 50
        }
      ]
    },
    {
      "cell_type": "markdown",
      "metadata": {
        "id": "eQq-4CQxS8ry"
      },
      "source": [
        "Model using LSTM"
      ]
    },
    {
      "cell_type": "code",
      "metadata": {
        "id": "ilGwNzSgS8B0"
      },
      "source": [
        "model1=tf.keras.models.Sequential(\n",
        "    [tf.keras.layers.Embedding(vocab_size,embedding_dim,input_length=sequence_size),\n",
        "     tf.keras.layers.Bidirectional(tf.keras.layers.LSTM(embedding_dim)),\n",
        "     tf.keras.layers.Dense(6,activation='relu'),\n",
        "     tf.keras.layers.Dense(1,activation='sigmoid')]\n",
        ")\n",
        "model1.compile(loss='binary_crossentropy',optimizer='adam',metrics=['accuracy'])"
      ],
      "execution_count": 57,
      "outputs": []
    },
    {
      "cell_type": "code",
      "metadata": {
        "id": "cGPJaIlMSGJ2",
        "outputId": "f202d94b-c1ef-454e-a08e-9719582229b5",
        "colab": {
          "base_uri": "https://localhost:8080/",
          "height": 538
        }
      },
      "source": [
        "model1.fit(padded_train_sentences,train_labels_final,epochs=15,validation_data=(padded_test_sentences,test_labels_final))"
      ],
      "execution_count": 58,
      "outputs": [
        {
          "output_type": "stream",
          "text": [
            "Epoch 1/15\n",
            "50/50 [==============================] - 2s 41ms/step - loss: 0.6920 - accuracy: 0.5210 - val_loss: 0.6962 - val_accuracy: 0.4110\n",
            "Epoch 2/15\n",
            "50/50 [==============================] - 1s 25ms/step - loss: 0.6688 - accuracy: 0.5945 - val_loss: 0.6510 - val_accuracy: 0.6341\n",
            "Epoch 3/15\n",
            "50/50 [==============================] - 1s 25ms/step - loss: 0.5558 - accuracy: 0.7659 - val_loss: 0.5428 - val_accuracy: 0.7619\n",
            "Epoch 4/15\n",
            "50/50 [==============================] - 1s 26ms/step - loss: 0.4199 - accuracy: 0.8387 - val_loss: 0.5556 - val_accuracy: 0.7544\n",
            "Epoch 5/15\n",
            "50/50 [==============================] - 1s 27ms/step - loss: 0.3329 - accuracy: 0.8770 - val_loss: 0.5732 - val_accuracy: 0.7419\n",
            "Epoch 6/15\n",
            "50/50 [==============================] - 1s 26ms/step - loss: 0.2740 - accuracy: 0.8970 - val_loss: 0.6324 - val_accuracy: 0.7444\n",
            "Epoch 7/15\n",
            "50/50 [==============================] - 1s 26ms/step - loss: 0.2417 - accuracy: 0.9203 - val_loss: 0.6851 - val_accuracy: 0.7368\n",
            "Epoch 8/15\n",
            "50/50 [==============================] - 1s 27ms/step - loss: 0.2190 - accuracy: 0.9284 - val_loss: 0.6775 - val_accuracy: 0.7519\n",
            "Epoch 9/15\n",
            "50/50 [==============================] - 1s 26ms/step - loss: 0.1719 - accuracy: 0.9479 - val_loss: 0.7183 - val_accuracy: 0.7569\n",
            "Epoch 10/15\n",
            "50/50 [==============================] - 1s 27ms/step - loss: 0.1521 - accuracy: 0.9554 - val_loss: 0.8396 - val_accuracy: 0.7393\n",
            "Epoch 11/15\n",
            "50/50 [==============================] - 1s 26ms/step - loss: 0.1305 - accuracy: 0.9642 - val_loss: 0.9092 - val_accuracy: 0.7494\n",
            "Epoch 12/15\n",
            "50/50 [==============================] - 1s 26ms/step - loss: 0.1149 - accuracy: 0.9718 - val_loss: 0.9083 - val_accuracy: 0.7469\n",
            "Epoch 13/15\n",
            "50/50 [==============================] - 1s 27ms/step - loss: 0.1083 - accuracy: 0.9761 - val_loss: 0.9861 - val_accuracy: 0.7393\n",
            "Epoch 14/15\n",
            "50/50 [==============================] - 1s 26ms/step - loss: 0.0995 - accuracy: 0.9768 - val_loss: 0.9596 - val_accuracy: 0.7519\n",
            "Epoch 15/15\n",
            "50/50 [==============================] - 1s 27ms/step - loss: 0.1062 - accuracy: 0.9724 - val_loss: 1.0478 - val_accuracy: 0.7268\n"
          ],
          "name": "stdout"
        },
        {
          "output_type": "execute_result",
          "data": {
            "text/plain": [
              "<tensorflow.python.keras.callbacks.History at 0x7fbe00871be0>"
            ]
          },
          "metadata": {
            "tags": []
          },
          "execution_count": 58
        }
      ]
    },
    {
      "cell_type": "markdown",
      "metadata": {
        "id": "E3MPg8TDUfrM"
      },
      "source": [
        "# Model with two LSTM layers"
      ]
    },
    {
      "cell_type": "code",
      "metadata": {
        "id": "1O8HOZMxUHWx"
      },
      "source": [
        "model2=tf.keras.models.Sequential(\n",
        "    [tf.keras.layers.Embedding(vocab_size,embedding_dim,input_length=sequence_size),\n",
        "     tf.keras.layers.Bidirectional(tf.keras.layers.LSTM(embedding_dim,return_sequences=True)),\n",
        "     tf.keras.layers.Bidirectional(tf.keras.layers.LSTM(embedding_dim)),\n",
        "     tf.keras.layers.Dense(6,activation='relu'),\n",
        "     tf.keras.layers.Dense(1,activation='sigmoid')]\n",
        ")\n",
        "model2.compile(loss='binary_crossentropy',optimizer='adam',metrics=['accuracy'])"
      ],
      "execution_count": 60,
      "outputs": []
    },
    {
      "cell_type": "code",
      "metadata": {
        "id": "QfhnlwbrVDF_",
        "outputId": "d4586176-7523-4f69-ce0c-95ca18d20cc6",
        "colab": {
          "base_uri": "https://localhost:8080/",
          "height": 538
        }
      },
      "source": [
        "model2.fit(padded_train_sentences,train_labels_final,epochs=15,validation_data=(padded_test_sentences,test_labels_final))"
      ],
      "execution_count": 61,
      "outputs": [
        {
          "output_type": "stream",
          "text": [
            "Epoch 1/15\n",
            "50/50 [==============================] - 4s 74ms/step - loss: 0.6921 - accuracy: 0.5304 - val_loss: 0.6926 - val_accuracy: 0.4436\n",
            "Epoch 2/15\n",
            "50/50 [==============================] - 2s 49ms/step - loss: 0.6195 - accuracy: 0.6616 - val_loss: 0.5345 - val_accuracy: 0.7494\n",
            "Epoch 3/15\n",
            "50/50 [==============================] - 3s 52ms/step - loss: 0.4089 - accuracy: 0.8318 - val_loss: 0.5235 - val_accuracy: 0.7419\n",
            "Epoch 4/15\n",
            "50/50 [==============================] - 3s 50ms/step - loss: 0.2948 - accuracy: 0.8933 - val_loss: 0.5204 - val_accuracy: 0.7619\n",
            "Epoch 5/15\n",
            "50/50 [==============================] - 3s 50ms/step - loss: 0.2386 - accuracy: 0.9190 - val_loss: 0.6302 - val_accuracy: 0.7569\n",
            "Epoch 6/15\n",
            "50/50 [==============================] - 3s 51ms/step - loss: 0.1767 - accuracy: 0.9429 - val_loss: 0.6188 - val_accuracy: 0.7669\n",
            "Epoch 7/15\n",
            "50/50 [==============================] - 3s 50ms/step - loss: 0.1615 - accuracy: 0.9504 - val_loss: 0.7837 - val_accuracy: 0.7393\n",
            "Epoch 8/15\n",
            "50/50 [==============================] - 2s 50ms/step - loss: 0.1461 - accuracy: 0.9542 - val_loss: 0.8223 - val_accuracy: 0.7293\n",
            "Epoch 9/15\n",
            "50/50 [==============================] - 3s 51ms/step - loss: 0.1140 - accuracy: 0.9680 - val_loss: 0.8637 - val_accuracy: 0.7519\n",
            "Epoch 10/15\n",
            "50/50 [==============================] - 3s 51ms/step - loss: 0.0860 - accuracy: 0.9780 - val_loss: 0.9016 - val_accuracy: 0.7569\n",
            "Epoch 11/15\n",
            "50/50 [==============================] - 3s 51ms/step - loss: 0.0732 - accuracy: 0.9837 - val_loss: 1.1280 - val_accuracy: 0.7419\n",
            "Epoch 12/15\n",
            "50/50 [==============================] - 2s 50ms/step - loss: 0.0709 - accuracy: 0.9831 - val_loss: 0.9036 - val_accuracy: 0.7494\n",
            "Epoch 13/15\n",
            "50/50 [==============================] - 2s 49ms/step - loss: 0.0669 - accuracy: 0.9831 - val_loss: 1.0640 - val_accuracy: 0.7644\n",
            "Epoch 14/15\n",
            "50/50 [==============================] - 3s 50ms/step - loss: 0.0595 - accuracy: 0.9862 - val_loss: 1.1621 - val_accuracy: 0.7569\n",
            "Epoch 15/15\n",
            "50/50 [==============================] - 2s 50ms/step - loss: 0.0604 - accuracy: 0.9831 - val_loss: 1.1560 - val_accuracy: 0.7544\n"
          ],
          "name": "stdout"
        },
        {
          "output_type": "execute_result",
          "data": {
            "text/plain": [
              "<tensorflow.python.keras.callbacks.History at 0x7fbe0316dd68>"
            ]
          },
          "metadata": {
            "tags": []
          },
          "execution_count": 61
        }
      ]
    },
    {
      "cell_type": "code",
      "metadata": {
        "id": "sLQK9NtqVKlE"
      },
      "source": [
        ""
      ],
      "execution_count": null,
      "outputs": []
    }
  ]
}