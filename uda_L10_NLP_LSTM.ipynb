{
  "nbformat": 4,
  "nbformat_minor": 0,
  "metadata": {
    "colab": {
      "name": "uda_L10_NLP_LSTM.ipynb",
      "provenance": [],
      "authorship_tag": "ABX9TyMW1DYTQQ3wcEfS2/Aoue1j",
      "include_colab_link": true
    },
    "kernelspec": {
      "name": "python3",
      "display_name": "Python 3"
    },
    "accelerator": "GPU"
  },
  "cells": [
    {
      "cell_type": "markdown",
      "metadata": {
        "id": "view-in-github",
        "colab_type": "text"
      },
      "source": [
        "<a href=\"https://colab.research.google.com/github/venkat2ram/Keras-and-Tensorflow/blob/master/uda_L10_NLP_LSTM.ipynb\" target=\"_parent\"><img src=\"https://colab.research.google.com/assets/colab-badge.svg\" alt=\"Open In Colab\"/></a>"
      ]
    },
    {
      "cell_type": "code",
      "metadata": {
        "id": "WJ-l5qUGGVPp"
      },
      "source": [
        "import tensorflow as tf\n",
        "import tensorflow.keras as keras\n",
        "from tensorflow.keras.preprocessing.sequence import pad_sequences\n",
        "from tensorflow.keras.preprocessing.text import Tokenizer\n",
        "import pandas as pd\n",
        "import numpy as np\n",
        "import matplotlib.pyplot as plt\n",
        "\n"
      ],
      "execution_count": 43,
      "outputs": []
    },
    {
      "cell_type": "code",
      "metadata": {
        "id": "S94DFfe2HMwX",
        "outputId": "d97e2a8a-bede-4fab-f474-311044c77515",
        "colab": {
          "base_uri": "https://localhost:8080/",
          "height": 50
        }
      },
      "source": [
        "path=keras.utils.get_file('reviews.csv','https://drive.google.com/uc?id=13ySLC_ue6Umt9RJYSeM2t-V0kCv-4C-P')\n",
        "dataset=pd.read_csv(path)\n",
        "sentences=dataset['text']\n",
        "labels=dataset['sentiment']"
      ],
      "execution_count": 2,
      "outputs": [
        {
          "output_type": "stream",
          "text": [
            "Downloading data from https://drive.google.com/uc?id=13ySLC_ue6Umt9RJYSeM2t-V0kCv-4C-P\n",
            "131072/127831 [==============================] - 0s 0us/step\n"
          ],
          "name": "stdout"
        }
      ]
    },
    {
      "cell_type": "code",
      "metadata": {
        "id": "x6j6dVdgIBvy"
      },
      "source": [
        "import tensorflow_datasets as tfds\n",
        "vocab_size=1000\n",
        "tokenizer=tfds.features.text.SubwordTextEncoder.build_from_corpus(sentences, vocab_size, max_subword_length=5)"
      ],
      "execution_count": 3,
      "outputs": []
    },
    {
      "cell_type": "code",
      "metadata": {
        "id": "n-6RhHKyJ6D0",
        "outputId": "88e29ca3-e397-4d2b-f2e5-256963552a86",
        "colab": {
          "base_uri": "https://localhost:8080/",
          "height": 50
        }
      },
      "source": [
        "word=sentences[5]\n",
        "print(word)\n",
        "enc=tokenizer.encode(sentences[5])\n",
        "print(enc)"
      ],
      "execution_count": 4,
      "outputs": [
        {
          "output_type": "stream",
          "text": [
            "I have to jiggle the plug to get it to line up right to get decent volume.\n",
            "[4, 31, 6, 849, 162, 450, 12, 1, 600, 438, 775, 6, 175, 14, 6, 55, 213, 159, 474, 775, 6, 175, 614, 380, 295, 148, 72, 789]\n"
          ],
          "name": "stdout"
        }
      ]
    },
    {
      "cell_type": "code",
      "metadata": {
        "id": "3cAn4Ct4Kc92",
        "outputId": "2f624e15-e22d-4413-dd5c-9b6f108d987c",
        "colab": {
          "base_uri": "https://localhost:8080/",
          "height": 487
        }
      },
      "source": [
        "for i in enc:\n",
        "  print(tokenizer.decode([i]))"
      ],
      "execution_count": 5,
      "outputs": [
        {
          "output_type": "stream",
          "text": [
            "I \n",
            "have \n",
            "to \n",
            "j\n",
            "ig\n",
            "gl\n",
            "e \n",
            "the \n",
            "pl\n",
            "ug\n",
            " \n",
            "to \n",
            "get \n",
            "it \n",
            "to \n",
            "li\n",
            "ne \n",
            "up \n",
            "right\n",
            " \n",
            "to \n",
            "get \n",
            "dec\n",
            "ent \n",
            "vo\n",
            "lu\n",
            "me\n",
            ".\n"
          ],
          "name": "stdout"
        }
      ]
    },
    {
      "cell_type": "code",
      "metadata": {
        "id": "F6yDSkzdKi7r",
        "outputId": "8f8bb8ae-e562-4906-9d2b-fbe40419a8b6",
        "colab": {
          "base_uri": "https://localhost:8080/",
          "height": 101
        }
      },
      "source": [
        "for i, sentence in enumerate(sentences):\n",
        "  sentences[i] = tokenizer.encode(sentence)"
      ],
      "execution_count": 6,
      "outputs": [
        {
          "output_type": "stream",
          "text": [
            "/usr/local/lib/python3.6/dist-packages/ipykernel_launcher.py:2: SettingWithCopyWarning: \n",
            "A value is trying to be set on a copy of a slice from a DataFrame\n",
            "\n",
            "See the caveats in the documentation: https://pandas.pydata.org/pandas-docs/stable/user_guide/indexing.html#returning-a-view-versus-a-copy\n",
            "  \n"
          ],
          "name": "stderr"
        }
      ]
    },
    {
      "cell_type": "code",
      "metadata": {
        "id": "TuAUtWjQLzkc",
        "outputId": "7cd87511-ee2f-4f76-b6ff-729021ec171f",
        "colab": {
          "base_uri": "https://localhost:8080/",
          "height": 487
        }
      },
      "source": [
        "sentences[5]"
      ],
      "execution_count": 7,
      "outputs": [
        {
          "output_type": "execute_result",
          "data": {
            "text/plain": [
              "[4,\n",
              " 31,\n",
              " 6,\n",
              " 849,\n",
              " 162,\n",
              " 450,\n",
              " 12,\n",
              " 1,\n",
              " 600,\n",
              " 438,\n",
              " 775,\n",
              " 6,\n",
              " 175,\n",
              " 14,\n",
              " 6,\n",
              " 55,\n",
              " 213,\n",
              " 159,\n",
              " 474,\n",
              " 775,\n",
              " 6,\n",
              " 175,\n",
              " 614,\n",
              " 380,\n",
              " 295,\n",
              " 148,\n",
              " 72,\n",
              " 789]"
            ]
          },
          "metadata": {
            "tags": []
          },
          "execution_count": 7
        }
      ]
    },
    {
      "cell_type": "code",
      "metadata": {
        "id": "vogm1NT6L6Jv"
      },
      "source": [
        "train_size=int(sentences.size*0.8)\n",
        "sequence_size=50\n",
        "padding_type='post'\n",
        "truncating_type='post'\n",
        "\n",
        "train_sentences=sentences[:train_size]\n",
        "test_sentences=sentences[train_size:]\n",
        "\n",
        "padded_train_sentences=pad_sequences(train_sentences,maxlen=sequence_size,padding=padding_type, truncating=truncating_type)\n",
        "padded_test_sentences=pad_sequences(test_sentences,maxlen=sequence_size,padding=padding_type, truncating=truncating_type)\n",
        "\n",
        "train_labels=labels[:train_size]\n",
        "test_labels=labels[train_size:]\n",
        "\n",
        "train_labels_final=np.array(train_labels)\n",
        "test_labels_final=np.array(test_labels)"
      ],
      "execution_count": 8,
      "outputs": []
    },
    {
      "cell_type": "code",
      "metadata": {
        "id": "nsuzM85iMd0Z",
        "outputId": "371acf4f-7f12-4ad5-ad5d-8d58c596f1a3",
        "colab": {
          "base_uri": "https://localhost:8080/",
          "height": 84
        }
      },
      "source": [
        "padded_test_sentences[5]"
      ],
      "execution_count": 9,
      "outputs": [
        {
          "output_type": "execute_result",
          "data": {
            "text/plain": [
              "array([ 54,   9, 179,  60, 511, 789,   0,   0,   0,   0,   0,   0,   0,\n",
              "         0,   0,   0,   0,   0,   0,   0,   0,   0,   0,   0,   0,   0,\n",
              "         0,   0,   0,   0,   0,   0,   0,   0,   0,   0,   0,   0,   0,\n",
              "         0,   0,   0,   0,   0,   0,   0,   0,   0,   0,   0], dtype=int32)"
            ]
          },
          "metadata": {
            "tags": []
          },
          "execution_count": 9
        }
      ]
    },
    {
      "cell_type": "markdown",
      "metadata": {
        "id": "f3JRs3xAP7ge"
      },
      "source": [
        "# Model using Embedding"
      ]
    },
    {
      "cell_type": "code",
      "metadata": {
        "id": "DCWhKfZeMfQ2"
      },
      "source": [
        "embedding_dim=16\n",
        "\n",
        "model=tf.keras.models.Sequential(\n",
        "    [tf.keras.layers.Embedding(vocab_size,embedding_dim,input_length=sequence_size),\n",
        "     tf.keras.layers.Dense(6,activation='relu'),\n",
        "     tf.keras.layers.Dense(1,activation='sigmoid')]\n",
        ")\n",
        "\n",
        "model.compile(loss='binary_crossentropy',optimizer='adam',metrics=['accuracy'])"
      ],
      "execution_count": 10,
      "outputs": []
    },
    {
      "cell_type": "code",
      "metadata": {
        "id": "_9orG1p_Q56w",
        "outputId": "23c751a4-8ac2-465c-86c1-da94cd0172e2",
        "colab": {
          "base_uri": "https://localhost:8080/",
          "height": 252
        }
      },
      "source": [
        "model.summary()"
      ],
      "execution_count": 11,
      "outputs": [
        {
          "output_type": "stream",
          "text": [
            "Model: \"sequential\"\n",
            "_________________________________________________________________\n",
            "Layer (type)                 Output Shape              Param #   \n",
            "=================================================================\n",
            "embedding (Embedding)        (None, 50, 16)            16000     \n",
            "_________________________________________________________________\n",
            "dense (Dense)                (None, 50, 6)             102       \n",
            "_________________________________________________________________\n",
            "dense_1 (Dense)              (None, 50, 1)             7         \n",
            "=================================================================\n",
            "Total params: 16,109\n",
            "Trainable params: 16,109\n",
            "Non-trainable params: 0\n",
            "_________________________________________________________________\n"
          ],
          "name": "stdout"
        }
      ]
    },
    {
      "cell_type": "code",
      "metadata": {
        "id": "R8u-DKFzRfDH",
        "outputId": "15af89f7-4460-49dd-9bf1-6889855fbf57",
        "colab": {
          "base_uri": "https://localhost:8080/",
          "height": 1000
        }
      },
      "source": [
        "model.fit(padded_train_sentences,train_labels_final,epochs=100,validation_data=(padded_test_sentences,test_labels_final))"
      ],
      "execution_count": 12,
      "outputs": [
        {
          "output_type": "stream",
          "text": [
            "Epoch 1/100\n",
            "50/50 [==============================] - 0s 7ms/step - loss: 0.6914 - accuracy: 0.5314 - val_loss: 0.6982 - val_accuracy: 0.4542\n",
            "Epoch 2/100\n",
            "50/50 [==============================] - 0s 4ms/step - loss: 0.6887 - accuracy: 0.5474 - val_loss: 0.6975 - val_accuracy: 0.4636\n",
            "Epoch 3/100\n",
            "50/50 [==============================] - 0s 4ms/step - loss: 0.6862 - accuracy: 0.5505 - val_loss: 0.6951 - val_accuracy: 0.4690\n",
            "Epoch 4/100\n",
            "50/50 [==============================] - 0s 4ms/step - loss: 0.6833 - accuracy: 0.5538 - val_loss: 0.6967 - val_accuracy: 0.4723\n",
            "Epoch 5/100\n",
            "50/50 [==============================] - 0s 4ms/step - loss: 0.6807 - accuracy: 0.5560 - val_loss: 0.6976 - val_accuracy: 0.4743\n",
            "Epoch 6/100\n",
            "50/50 [==============================] - 0s 4ms/step - loss: 0.6790 - accuracy: 0.5564 - val_loss: 0.6972 - val_accuracy: 0.4746\n",
            "Epoch 7/100\n",
            "50/50 [==============================] - 0s 4ms/step - loss: 0.6779 - accuracy: 0.5576 - val_loss: 0.6972 - val_accuracy: 0.4731\n",
            "Epoch 8/100\n",
            "50/50 [==============================] - 0s 4ms/step - loss: 0.6774 - accuracy: 0.5581 - val_loss: 0.6978 - val_accuracy: 0.4739\n",
            "Epoch 9/100\n",
            "50/50 [==============================] - 0s 4ms/step - loss: 0.6773 - accuracy: 0.5574 - val_loss: 0.6978 - val_accuracy: 0.4737\n",
            "Epoch 10/100\n",
            "50/50 [==============================] - 0s 4ms/step - loss: 0.6768 - accuracy: 0.5574 - val_loss: 0.6972 - val_accuracy: 0.4752\n",
            "Epoch 11/100\n",
            "50/50 [==============================] - 0s 4ms/step - loss: 0.6767 - accuracy: 0.5581 - val_loss: 0.6977 - val_accuracy: 0.4752\n",
            "Epoch 12/100\n",
            "50/50 [==============================] - 0s 4ms/step - loss: 0.6764 - accuracy: 0.5582 - val_loss: 0.6975 - val_accuracy: 0.4765\n",
            "Epoch 13/100\n",
            "50/50 [==============================] - 0s 4ms/step - loss: 0.6763 - accuracy: 0.5585 - val_loss: 0.6986 - val_accuracy: 0.4742\n",
            "Epoch 14/100\n",
            "50/50 [==============================] - 0s 4ms/step - loss: 0.6763 - accuracy: 0.5584 - val_loss: 0.6992 - val_accuracy: 0.4740\n",
            "Epoch 15/100\n",
            "50/50 [==============================] - 0s 4ms/step - loss: 0.6763 - accuracy: 0.5584 - val_loss: 0.6981 - val_accuracy: 0.4752\n",
            "Epoch 16/100\n",
            "50/50 [==============================] - 0s 4ms/step - loss: 0.6763 - accuracy: 0.5576 - val_loss: 0.6989 - val_accuracy: 0.4748\n",
            "Epoch 17/100\n",
            "50/50 [==============================] - 0s 4ms/step - loss: 0.6762 - accuracy: 0.5577 - val_loss: 0.6974 - val_accuracy: 0.4798\n",
            "Epoch 18/100\n",
            "50/50 [==============================] - 0s 4ms/step - loss: 0.6760 - accuracy: 0.5588 - val_loss: 0.6992 - val_accuracy: 0.4735\n",
            "Epoch 19/100\n",
            "50/50 [==============================] - 0s 4ms/step - loss: 0.6761 - accuracy: 0.5585 - val_loss: 0.6983 - val_accuracy: 0.4739\n",
            "Epoch 20/100\n",
            "50/50 [==============================] - 0s 4ms/step - loss: 0.6762 - accuracy: 0.5568 - val_loss: 0.6997 - val_accuracy: 0.4756\n",
            "Epoch 21/100\n",
            "50/50 [==============================] - 0s 4ms/step - loss: 0.6761 - accuracy: 0.5584 - val_loss: 0.6997 - val_accuracy: 0.4735\n",
            "Epoch 22/100\n",
            "50/50 [==============================] - 0s 4ms/step - loss: 0.6761 - accuracy: 0.5583 - val_loss: 0.6990 - val_accuracy: 0.4740\n",
            "Epoch 23/100\n",
            "50/50 [==============================] - 0s 4ms/step - loss: 0.6760 - accuracy: 0.5577 - val_loss: 0.6997 - val_accuracy: 0.4747\n",
            "Epoch 24/100\n",
            "50/50 [==============================] - 0s 4ms/step - loss: 0.6760 - accuracy: 0.5593 - val_loss: 0.6997 - val_accuracy: 0.4741\n",
            "Epoch 25/100\n",
            "50/50 [==============================] - 0s 4ms/step - loss: 0.6760 - accuracy: 0.5573 - val_loss: 0.6997 - val_accuracy: 0.4737\n",
            "Epoch 26/100\n",
            "50/50 [==============================] - 0s 4ms/step - loss: 0.6760 - accuracy: 0.5589 - val_loss: 0.6985 - val_accuracy: 0.4894\n",
            "Epoch 27/100\n",
            "50/50 [==============================] - 0s 4ms/step - loss: 0.6760 - accuracy: 0.5608 - val_loss: 0.7002 - val_accuracy: 0.4739\n",
            "Epoch 28/100\n",
            "50/50 [==============================] - 0s 4ms/step - loss: 0.6760 - accuracy: 0.5573 - val_loss: 0.6997 - val_accuracy: 0.4739\n",
            "Epoch 29/100\n",
            "50/50 [==============================] - 0s 4ms/step - loss: 0.6760 - accuracy: 0.5604 - val_loss: 0.6996 - val_accuracy: 0.4895\n",
            "Epoch 30/100\n",
            "50/50 [==============================] - 0s 4ms/step - loss: 0.6762 - accuracy: 0.5571 - val_loss: 0.6987 - val_accuracy: 0.4880\n",
            "Epoch 31/100\n",
            "50/50 [==============================] - 0s 4ms/step - loss: 0.6761 - accuracy: 0.5607 - val_loss: 0.6970 - val_accuracy: 0.4909\n",
            "Epoch 32/100\n",
            "50/50 [==============================] - 0s 4ms/step - loss: 0.6759 - accuracy: 0.5600 - val_loss: 0.7007 - val_accuracy: 0.4755\n",
            "Epoch 33/100\n",
            "50/50 [==============================] - 0s 4ms/step - loss: 0.6758 - accuracy: 0.5603 - val_loss: 0.6986 - val_accuracy: 0.4896\n",
            "Epoch 34/100\n",
            "50/50 [==============================] - 0s 4ms/step - loss: 0.6759 - accuracy: 0.5608 - val_loss: 0.6994 - val_accuracy: 0.4901\n",
            "Epoch 35/100\n",
            "50/50 [==============================] - 0s 4ms/step - loss: 0.6759 - accuracy: 0.5606 - val_loss: 0.6990 - val_accuracy: 0.4893\n",
            "Epoch 36/100\n",
            "50/50 [==============================] - 0s 4ms/step - loss: 0.6760 - accuracy: 0.5609 - val_loss: 0.6974 - val_accuracy: 0.4901\n",
            "Epoch 37/100\n",
            "50/50 [==============================] - 0s 4ms/step - loss: 0.6758 - accuracy: 0.5607 - val_loss: 0.6995 - val_accuracy: 0.4883\n",
            "Epoch 38/100\n",
            "50/50 [==============================] - 0s 4ms/step - loss: 0.6758 - accuracy: 0.5610 - val_loss: 0.6994 - val_accuracy: 0.4882\n",
            "Epoch 39/100\n",
            "50/50 [==============================] - 0s 4ms/step - loss: 0.6759 - accuracy: 0.5604 - val_loss: 0.6989 - val_accuracy: 0.4892\n",
            "Epoch 40/100\n",
            "50/50 [==============================] - 0s 4ms/step - loss: 0.6759 - accuracy: 0.5604 - val_loss: 0.6998 - val_accuracy: 0.4888\n",
            "Epoch 41/100\n",
            "50/50 [==============================] - 0s 4ms/step - loss: 0.6758 - accuracy: 0.5609 - val_loss: 0.6994 - val_accuracy: 0.4888\n",
            "Epoch 42/100\n",
            "50/50 [==============================] - 0s 4ms/step - loss: 0.6759 - accuracy: 0.5612 - val_loss: 0.7003 - val_accuracy: 0.4892\n",
            "Epoch 43/100\n",
            "50/50 [==============================] - 0s 4ms/step - loss: 0.6757 - accuracy: 0.5608 - val_loss: 0.6990 - val_accuracy: 0.4901\n",
            "Epoch 44/100\n",
            "50/50 [==============================] - 0s 4ms/step - loss: 0.6758 - accuracy: 0.5609 - val_loss: 0.6991 - val_accuracy: 0.4891\n",
            "Epoch 45/100\n",
            "50/50 [==============================] - 0s 4ms/step - loss: 0.6758 - accuracy: 0.5609 - val_loss: 0.6981 - val_accuracy: 0.4903\n",
            "Epoch 46/100\n",
            "50/50 [==============================] - 0s 4ms/step - loss: 0.6759 - accuracy: 0.5605 - val_loss: 0.6982 - val_accuracy: 0.4890\n",
            "Epoch 47/100\n",
            "50/50 [==============================] - 0s 4ms/step - loss: 0.6758 - accuracy: 0.5607 - val_loss: 0.6986 - val_accuracy: 0.4902\n",
            "Epoch 48/100\n",
            "50/50 [==============================] - 0s 5ms/step - loss: 0.6759 - accuracy: 0.5608 - val_loss: 0.6985 - val_accuracy: 0.4897\n",
            "Epoch 49/100\n",
            "50/50 [==============================] - 0s 4ms/step - loss: 0.6757 - accuracy: 0.5606 - val_loss: 0.6985 - val_accuracy: 0.4907\n",
            "Epoch 50/100\n",
            "50/50 [==============================] - 0s 4ms/step - loss: 0.6758 - accuracy: 0.5608 - val_loss: 0.7002 - val_accuracy: 0.4886\n",
            "Epoch 51/100\n",
            "50/50 [==============================] - 0s 4ms/step - loss: 0.6757 - accuracy: 0.5611 - val_loss: 0.6983 - val_accuracy: 0.4901\n",
            "Epoch 52/100\n",
            "50/50 [==============================] - 0s 5ms/step - loss: 0.6757 - accuracy: 0.5608 - val_loss: 0.6982 - val_accuracy: 0.4908\n",
            "Epoch 53/100\n",
            "50/50 [==============================] - 0s 5ms/step - loss: 0.6759 - accuracy: 0.5604 - val_loss: 0.6992 - val_accuracy: 0.4880\n",
            "Epoch 54/100\n",
            "50/50 [==============================] - 0s 4ms/step - loss: 0.6758 - accuracy: 0.5606 - val_loss: 0.6990 - val_accuracy: 0.4885\n",
            "Epoch 55/100\n",
            "50/50 [==============================] - 0s 4ms/step - loss: 0.6757 - accuracy: 0.5608 - val_loss: 0.6985 - val_accuracy: 0.4889\n",
            "Epoch 56/100\n",
            "50/50 [==============================] - 0s 4ms/step - loss: 0.6758 - accuracy: 0.5609 - val_loss: 0.6996 - val_accuracy: 0.4899\n",
            "Epoch 57/100\n",
            "50/50 [==============================] - 0s 5ms/step - loss: 0.6758 - accuracy: 0.5609 - val_loss: 0.6988 - val_accuracy: 0.4891\n",
            "Epoch 58/100\n",
            "50/50 [==============================] - 0s 4ms/step - loss: 0.6759 - accuracy: 0.5612 - val_loss: 0.6984 - val_accuracy: 0.4900\n",
            "Epoch 59/100\n",
            "50/50 [==============================] - 0s 5ms/step - loss: 0.6758 - accuracy: 0.5611 - val_loss: 0.6986 - val_accuracy: 0.4891\n",
            "Epoch 60/100\n",
            "50/50 [==============================] - 0s 5ms/step - loss: 0.6758 - accuracy: 0.5609 - val_loss: 0.6988 - val_accuracy: 0.4885\n",
            "Epoch 61/100\n",
            "50/50 [==============================] - 0s 5ms/step - loss: 0.6757 - accuracy: 0.5614 - val_loss: 0.6989 - val_accuracy: 0.4900\n",
            "Epoch 62/100\n",
            "50/50 [==============================] - 0s 4ms/step - loss: 0.6757 - accuracy: 0.5611 - val_loss: 0.6991 - val_accuracy: 0.4890\n",
            "Epoch 63/100\n",
            "50/50 [==============================] - 0s 5ms/step - loss: 0.6758 - accuracy: 0.5608 - val_loss: 0.6977 - val_accuracy: 0.4904\n",
            "Epoch 64/100\n",
            "50/50 [==============================] - 0s 5ms/step - loss: 0.6757 - accuracy: 0.5614 - val_loss: 0.6988 - val_accuracy: 0.4904\n",
            "Epoch 65/100\n",
            "50/50 [==============================] - 0s 4ms/step - loss: 0.6757 - accuracy: 0.5613 - val_loss: 0.6987 - val_accuracy: 0.4885\n",
            "Epoch 66/100\n",
            "50/50 [==============================] - 0s 5ms/step - loss: 0.6757 - accuracy: 0.5611 - val_loss: 0.6994 - val_accuracy: 0.4897\n",
            "Epoch 67/100\n",
            "50/50 [==============================] - 0s 5ms/step - loss: 0.6757 - accuracy: 0.5611 - val_loss: 0.6982 - val_accuracy: 0.4897\n",
            "Epoch 68/100\n",
            "50/50 [==============================] - 0s 5ms/step - loss: 0.6759 - accuracy: 0.5610 - val_loss: 0.7000 - val_accuracy: 0.4891\n",
            "Epoch 69/100\n",
            "50/50 [==============================] - 0s 4ms/step - loss: 0.6759 - accuracy: 0.5609 - val_loss: 0.7006 - val_accuracy: 0.4883\n",
            "Epoch 70/100\n",
            "50/50 [==============================] - 0s 4ms/step - loss: 0.6753 - accuracy: 0.5610 - val_loss: 0.6880 - val_accuracy: 0.5765\n",
            "Epoch 71/100\n",
            "50/50 [==============================] - 0s 4ms/step - loss: 0.6768 - accuracy: 0.5526 - val_loss: 0.7016 - val_accuracy: 0.4879\n",
            "Epoch 72/100\n",
            "50/50 [==============================] - 0s 5ms/step - loss: 0.6757 - accuracy: 0.5608 - val_loss: 0.6994 - val_accuracy: 0.4903\n",
            "Epoch 73/100\n",
            "50/50 [==============================] - 0s 4ms/step - loss: 0.6755 - accuracy: 0.5614 - val_loss: 0.6983 - val_accuracy: 0.4883\n",
            "Epoch 74/100\n",
            "50/50 [==============================] - 0s 5ms/step - loss: 0.6755 - accuracy: 0.5615 - val_loss: 0.6982 - val_accuracy: 0.4894\n",
            "Epoch 75/100\n",
            "50/50 [==============================] - 0s 4ms/step - loss: 0.6758 - accuracy: 0.5610 - val_loss: 0.6962 - val_accuracy: 0.4898\n",
            "Epoch 76/100\n",
            "50/50 [==============================] - 0s 5ms/step - loss: 0.6755 - accuracy: 0.5614 - val_loss: 0.6996 - val_accuracy: 0.4889\n",
            "Epoch 77/100\n",
            "50/50 [==============================] - 0s 4ms/step - loss: 0.6758 - accuracy: 0.5614 - val_loss: 0.6988 - val_accuracy: 0.4899\n",
            "Epoch 78/100\n",
            "50/50 [==============================] - 0s 4ms/step - loss: 0.6756 - accuracy: 0.5605 - val_loss: 0.6999 - val_accuracy: 0.4889\n",
            "Epoch 79/100\n",
            "50/50 [==============================] - 0s 5ms/step - loss: 0.6755 - accuracy: 0.5612 - val_loss: 0.6986 - val_accuracy: 0.4891\n",
            "Epoch 80/100\n",
            "50/50 [==============================] - 0s 5ms/step - loss: 0.6755 - accuracy: 0.5613 - val_loss: 0.6993 - val_accuracy: 0.4891\n",
            "Epoch 81/100\n",
            "50/50 [==============================] - 0s 5ms/step - loss: 0.6756 - accuracy: 0.5613 - val_loss: 0.6985 - val_accuracy: 0.4898\n",
            "Epoch 82/100\n",
            "50/50 [==============================] - 0s 4ms/step - loss: 0.6757 - accuracy: 0.5614 - val_loss: 0.6991 - val_accuracy: 0.4900\n",
            "Epoch 83/100\n",
            "50/50 [==============================] - 0s 5ms/step - loss: 0.6756 - accuracy: 0.5613 - val_loss: 0.6984 - val_accuracy: 0.4905\n",
            "Epoch 84/100\n",
            "50/50 [==============================] - 0s 5ms/step - loss: 0.6756 - accuracy: 0.5611 - val_loss: 0.7000 - val_accuracy: 0.4889\n",
            "Epoch 85/100\n",
            "50/50 [==============================] - 0s 5ms/step - loss: 0.6755 - accuracy: 0.5614 - val_loss: 0.6985 - val_accuracy: 0.4891\n",
            "Epoch 86/100\n",
            "50/50 [==============================] - 0s 4ms/step - loss: 0.6755 - accuracy: 0.5613 - val_loss: 0.6991 - val_accuracy: 0.4890\n",
            "Epoch 87/100\n",
            "50/50 [==============================] - 0s 4ms/step - loss: 0.6756 - accuracy: 0.5615 - val_loss: 0.6977 - val_accuracy: 0.4888\n",
            "Epoch 88/100\n",
            "50/50 [==============================] - 0s 5ms/step - loss: 0.6755 - accuracy: 0.5615 - val_loss: 0.6992 - val_accuracy: 0.4885\n",
            "Epoch 89/100\n",
            "50/50 [==============================] - 0s 5ms/step - loss: 0.6755 - accuracy: 0.5614 - val_loss: 0.6984 - val_accuracy: 0.4900\n",
            "Epoch 90/100\n",
            "50/50 [==============================] - 0s 5ms/step - loss: 0.6756 - accuracy: 0.5614 - val_loss: 0.6987 - val_accuracy: 0.4902\n",
            "Epoch 91/100\n",
            "50/50 [==============================] - 0s 4ms/step - loss: 0.6758 - accuracy: 0.5616 - val_loss: 0.6986 - val_accuracy: 0.4887\n",
            "Epoch 92/100\n",
            "50/50 [==============================] - 0s 5ms/step - loss: 0.6756 - accuracy: 0.5615 - val_loss: 0.6989 - val_accuracy: 0.4897\n",
            "Epoch 93/100\n",
            "50/50 [==============================] - 0s 4ms/step - loss: 0.6755 - accuracy: 0.5613 - val_loss: 0.6980 - val_accuracy: 0.4886\n",
            "Epoch 94/100\n",
            "50/50 [==============================] - 0s 5ms/step - loss: 0.6756 - accuracy: 0.5608 - val_loss: 0.6994 - val_accuracy: 0.4881\n",
            "Epoch 95/100\n",
            "50/50 [==============================] - 0s 5ms/step - loss: 0.6756 - accuracy: 0.5613 - val_loss: 0.6977 - val_accuracy: 0.4900\n",
            "Epoch 96/100\n",
            "50/50 [==============================] - 0s 4ms/step - loss: 0.6755 - accuracy: 0.5615 - val_loss: 0.6983 - val_accuracy: 0.4898\n",
            "Epoch 97/100\n",
            "50/50 [==============================] - 0s 4ms/step - loss: 0.6756 - accuracy: 0.5616 - val_loss: 0.6989 - val_accuracy: 0.4905\n",
            "Epoch 98/100\n",
            "50/50 [==============================] - 0s 4ms/step - loss: 0.6760 - accuracy: 0.5606 - val_loss: 0.6979 - val_accuracy: 0.4885\n",
            "Epoch 99/100\n",
            "50/50 [==============================] - 0s 4ms/step - loss: 0.6755 - accuracy: 0.5614 - val_loss: 0.6996 - val_accuracy: 0.4894\n",
            "Epoch 100/100\n",
            "50/50 [==============================] - 0s 4ms/step - loss: 0.6756 - accuracy: 0.5607 - val_loss: 0.6992 - val_accuracy: 0.4890\n"
          ],
          "name": "stdout"
        },
        {
          "output_type": "execute_result",
          "data": {
            "text/plain": [
              "<tensorflow.python.keras.callbacks.History at 0x7f70a6186390>"
            ]
          },
          "metadata": {
            "tags": []
          },
          "execution_count": 12
        }
      ]
    },
    {
      "cell_type": "code",
      "metadata": {
        "id": "eRkoMPORR2JA",
        "outputId": "1be3a406-454d-45dd-aa7f-1137f81ca50c",
        "colab": {
          "base_uri": "https://localhost:8080/",
          "height": 134
        }
      },
      "source": [
        "padded_test_sentences"
      ],
      "execution_count": 13,
      "outputs": [
        {
          "output_type": "execute_result",
          "data": {
            "text/plain": [
              "array([[211, 284, 646, ...,   0,   0,   0],\n",
              "       [413, 233,  31, ...,   0,   0,   0],\n",
              "       [625, 633, 148, ...,   0,   0,   0],\n",
              "       ...,\n",
              "       [822, 500,  37, ...,   0,   0,   0],\n",
              "       [ 13, 219, 147, ...,   0,   0,   0],\n",
              "       [291,  38,  61, ..., 789,   0,   0]], dtype=int32)"
            ]
          },
          "metadata": {
            "tags": []
          },
          "execution_count": 13
        }
      ]
    },
    {
      "cell_type": "markdown",
      "metadata": {
        "id": "eQq-4CQxS8ry"
      },
      "source": [
        "Model using LSTM"
      ]
    },
    {
      "cell_type": "code",
      "metadata": {
        "id": "ilGwNzSgS8B0"
      },
      "source": [
        "model1=tf.keras.models.Sequential(\n",
        "    [tf.keras.layers.Embedding(vocab_size,embedding_dim,input_length=sequence_size),\n",
        "     tf.keras.layers.Bidirectional(tf.keras.layers.LSTM(embedding_dim)),\n",
        "     tf.keras.layers.Dense(6,activation='relu'),\n",
        "     tf.keras.layers.Dense(1,activation='sigmoid')]\n",
        ")\n",
        "model1.compile(loss='binary_crossentropy',optimizer='adam',metrics=['accuracy'])"
      ],
      "execution_count": 14,
      "outputs": []
    },
    {
      "cell_type": "code",
      "metadata": {
        "id": "cGPJaIlMSGJ2",
        "outputId": "c3c0ba6a-54be-4e00-96a7-0a5a6f4249e5",
        "colab": {
          "base_uri": "https://localhost:8080/",
          "height": 538
        }
      },
      "source": [
        "model1.fit(padded_train_sentences,train_labels_final,epochs=15,validation_data=(padded_test_sentences,test_labels_final))"
      ],
      "execution_count": 15,
      "outputs": [
        {
          "output_type": "stream",
          "text": [
            "Epoch 1/15\n",
            "50/50 [==============================] - 1s 21ms/step - loss: 0.6907 - accuracy: 0.5191 - val_loss: 0.6992 - val_accuracy: 0.4110\n",
            "Epoch 2/15\n",
            "50/50 [==============================] - 0s 9ms/step - loss: 0.6562 - accuracy: 0.5876 - val_loss: 0.6363 - val_accuracy: 0.6767\n",
            "Epoch 3/15\n",
            "50/50 [==============================] - 0s 9ms/step - loss: 0.4963 - accuracy: 0.7884 - val_loss: 0.6662 - val_accuracy: 0.7293\n",
            "Epoch 4/15\n",
            "50/50 [==============================] - 0s 9ms/step - loss: 0.3679 - accuracy: 0.8487 - val_loss: 0.5208 - val_accuracy: 0.7669\n",
            "Epoch 5/15\n",
            "50/50 [==============================] - 0s 9ms/step - loss: 0.2822 - accuracy: 0.8983 - val_loss: 0.6471 - val_accuracy: 0.7619\n",
            "Epoch 6/15\n",
            "50/50 [==============================] - 0s 9ms/step - loss: 0.2294 - accuracy: 0.9184 - val_loss: 0.5787 - val_accuracy: 0.7569\n",
            "Epoch 7/15\n",
            "50/50 [==============================] - 0s 9ms/step - loss: 0.1945 - accuracy: 0.9379 - val_loss: 0.7230 - val_accuracy: 0.7694\n",
            "Epoch 8/15\n",
            "50/50 [==============================] - 0s 9ms/step - loss: 0.1494 - accuracy: 0.9573 - val_loss: 0.9069 - val_accuracy: 0.7694\n",
            "Epoch 9/15\n",
            "50/50 [==============================] - 0s 9ms/step - loss: 0.1184 - accuracy: 0.9705 - val_loss: 0.8969 - val_accuracy: 0.7494\n",
            "Epoch 10/15\n",
            "50/50 [==============================] - 0s 9ms/step - loss: 0.1260 - accuracy: 0.9648 - val_loss: 1.3361 - val_accuracy: 0.7519\n",
            "Epoch 11/15\n",
            "50/50 [==============================] - 0s 9ms/step - loss: 0.1114 - accuracy: 0.9686 - val_loss: 1.0365 - val_accuracy: 0.7343\n",
            "Epoch 12/15\n",
            "50/50 [==============================] - 0s 9ms/step - loss: 0.0844 - accuracy: 0.9818 - val_loss: 1.1533 - val_accuracy: 0.7644\n",
            "Epoch 13/15\n",
            "50/50 [==============================] - 0s 10ms/step - loss: 0.0802 - accuracy: 0.9831 - val_loss: 1.0640 - val_accuracy: 0.7820\n",
            "Epoch 14/15\n",
            "50/50 [==============================] - 0s 9ms/step - loss: 0.0617 - accuracy: 0.9893 - val_loss: 1.1922 - val_accuracy: 0.7719\n",
            "Epoch 15/15\n",
            "50/50 [==============================] - 0s 9ms/step - loss: 0.0526 - accuracy: 0.9912 - val_loss: 1.2457 - val_accuracy: 0.7694\n"
          ],
          "name": "stdout"
        },
        {
          "output_type": "execute_result",
          "data": {
            "text/plain": [
              "<tensorflow.python.keras.callbacks.History at 0x7f70387e7710>"
            ]
          },
          "metadata": {
            "tags": []
          },
          "execution_count": 15
        }
      ]
    },
    {
      "cell_type": "markdown",
      "metadata": {
        "id": "E3MPg8TDUfrM"
      },
      "source": [
        "# Model with two LSTM layers"
      ]
    },
    {
      "cell_type": "code",
      "metadata": {
        "id": "1O8HOZMxUHWx"
      },
      "source": [
        "model2=tf.keras.models.Sequential(\n",
        "    [tf.keras.layers.Embedding(vocab_size,embedding_dim,input_length=sequence_size),\n",
        "     tf.keras.layers.Bidirectional(tf.keras.layers.LSTM(embedding_dim,return_sequences=True)),\n",
        "     tf.keras.layers.Bidirectional(tf.keras.layers.LSTM(embedding_dim,return_sequences=True)),\n",
        "     tf.keras.layers.Bidirectional(tf.keras.layers.LSTM(embedding_dim)),\n",
        "     tf.keras.layers.Dense(6,activation='relu'),\n",
        "     tf.keras.layers.Dense(1,activation='sigmoid')]\n",
        ")\n",
        "model2.compile(loss='binary_crossentropy',optimizer='adam',metrics=['accuracy'])"
      ],
      "execution_count": 94,
      "outputs": []
    },
    {
      "cell_type": "code",
      "metadata": {
        "id": "QfhnlwbrVDF_",
        "outputId": "c9a3a0f5-1412-4e98-db5f-9d7166f7837e",
        "colab": {
          "base_uri": "https://localhost:8080/",
          "height": 521
        }
      },
      "source": [
        "history2=model2.fit(padded_train_sentences,train_labels_final,epochs=15,validation_data=(padded_test_sentences,test_labels_final))"
      ],
      "execution_count": 95,
      "outputs": [
        {
          "output_type": "stream",
          "text": [
            "Epoch 1/15\n",
            "50/50 [==============================] - 3s 54ms/step - loss: 0.6909 - accuracy: 0.5261 - val_loss: 0.6994 - val_accuracy: 0.4311\n",
            "Epoch 2/15\n",
            "50/50 [==============================] - 1s 23ms/step - loss: 0.6211 - accuracy: 0.6761 - val_loss: 0.5893 - val_accuracy: 0.7444\n",
            "Epoch 3/15\n",
            "50/50 [==============================] - 1s 22ms/step - loss: 0.4557 - accuracy: 0.8079 - val_loss: 0.6514 - val_accuracy: 0.7068\n",
            "Epoch 4/15\n",
            "50/50 [==============================] - 1s 22ms/step - loss: 0.3377 - accuracy: 0.8707 - val_loss: 0.5439 - val_accuracy: 0.7719\n",
            "Epoch 5/15\n",
            "50/50 [==============================] - 1s 22ms/step - loss: 0.2788 - accuracy: 0.9014 - val_loss: 0.5482 - val_accuracy: 0.7769\n",
            "Epoch 6/15\n",
            "50/50 [==============================] - 1s 22ms/step - loss: 0.2247 - accuracy: 0.9322 - val_loss: 0.7626 - val_accuracy: 0.7293\n",
            "Epoch 7/15\n",
            "50/50 [==============================] - 1s 22ms/step - loss: 0.2036 - accuracy: 0.9341 - val_loss: 0.5776 - val_accuracy: 0.7820\n",
            "Epoch 8/15\n",
            "50/50 [==============================] - 1s 22ms/step - loss: 0.1880 - accuracy: 0.9416 - val_loss: 0.6868 - val_accuracy: 0.7569\n",
            "Epoch 9/15\n",
            "50/50 [==============================] - 1s 23ms/step - loss: 0.1507 - accuracy: 0.9554 - val_loss: 0.7362 - val_accuracy: 0.7519\n",
            "Epoch 10/15\n",
            "50/50 [==============================] - 1s 23ms/step - loss: 0.1451 - accuracy: 0.9554 - val_loss: 0.8015 - val_accuracy: 0.7393\n",
            "Epoch 11/15\n",
            "50/50 [==============================] - 1s 23ms/step - loss: 0.1254 - accuracy: 0.9642 - val_loss: 0.8386 - val_accuracy: 0.7494\n",
            "Epoch 12/15\n",
            "50/50 [==============================] - 1s 23ms/step - loss: 0.1050 - accuracy: 0.9730 - val_loss: 0.8843 - val_accuracy: 0.7594\n",
            "Epoch 13/15\n",
            "50/50 [==============================] - 1s 22ms/step - loss: 0.1122 - accuracy: 0.9699 - val_loss: 1.1582 - val_accuracy: 0.7093\n",
            "Epoch 14/15\n",
            "50/50 [==============================] - 1s 22ms/step - loss: 0.0909 - accuracy: 0.9793 - val_loss: 0.9017 - val_accuracy: 0.7594\n",
            "Epoch 15/15\n",
            "50/50 [==============================] - 1s 22ms/step - loss: 0.0795 - accuracy: 0.9818 - val_loss: 1.1291 - val_accuracy: 0.7368\n"
          ],
          "name": "stdout"
        }
      ]
    },
    {
      "cell_type": "code",
      "metadata": {
        "id": "tgTbnC2YcRVv",
        "outputId": "ac6962d1-7489-47ce-e317-6a44cab80bad",
        "colab": {
          "base_uri": "https://localhost:8080/",
          "height": 516
        }
      },
      "source": [
        "plt.clf()\n",
        "plt.plot(history2.epoch,history2.history['accuracy'])\n",
        "plt.plot(history2.epoch,history2.history['val_accuracy'])\n",
        "plt.show()\n",
        "plt.clf()\n",
        "plt.plot(history2.epoch,history2.history['loss'])\n",
        "plt.plot(history2.epoch,history2.history['val_loss'])\n",
        "plt.show()"
      ],
      "execution_count": 97,
      "outputs": [
        {
          "output_type": "display_data",
          "data": {
            "image/png": "[encoded data removed]",
            "text/plain": [
              "<Figure size 432x288 with 1 Axes>"
            ]
          },
          "metadata": {
            "tags": [],
            "needs_background": "light"
          }
        },
        {
          "output_type": "display_data",
          "data": {
            "image/png": "[encoded data removed]",
            "text/plain": [
              "<Figure size 432x288 with 1 Axes>"
            ]
          },
          "metadata": {
            "tags": [],
            "needs_background": "light"
          }
        }
      ]
    },
    {
      "cell_type": "code",
      "metadata": {
        "id": "IoluG-HrTQQf"
      },
      "source": [
        "model3=tf.keras.models.Sequential([\n",
        "    tf.keras.layers.Embedding(vocab_size,embedding_dim,input_length=sequence_size),\n",
        "    tf.keras.layers.Conv1D(128,5,activation='relu'),\n",
        "    tf.keras.layers.GlobalMaxPooling1D(),\n",
        "    tf.keras.layers.Dense(1,activation='sigmoid')\n",
        "])"
      ],
      "execution_count": 59,
      "outputs": []
    },
    {
      "cell_type": "code",
      "metadata": {
        "id": "SLnRHZxOUXEQ"
      },
      "source": [
        "model3.compile(loss='binary_crossentropy',\n",
        "                  optimizer=tf.keras.optimizers.Adam(0.0001), \n",
        "                  metrics=['accuracy'])"
      ],
      "execution_count": 60,
      "outputs": []
    },
    {
      "cell_type": "code",
      "metadata": {
        "id": "o1Slc-vfUtUA",
        "outputId": "16cbe180-be41-47b3-f55b-e5577c909ab8",
        "colab": {
          "base_uri": "https://localhost:8080/",
          "height": 286
        }
      },
      "source": [
        "model3.summary()"
      ],
      "execution_count": 61,
      "outputs": [
        {
          "output_type": "stream",
          "text": [
            "Model: \"sequential_9\"\n",
            "_________________________________________________________________\n",
            "Layer (type)                 Output Shape              Param #   \n",
            "=================================================================\n",
            "embedding_9 (Embedding)      (None, 50, 16)            16000     \n",
            "_________________________________________________________________\n",
            "conv1d_6 (Conv1D)            (None, 46, 128)           10368     \n",
            "_________________________________________________________________\n",
            "global_max_pooling1d_6 (Glob (None, 128)               0         \n",
            "_________________________________________________________________\n",
            "dense_12 (Dense)             (None, 1)                 129       \n",
            "=================================================================\n",
            "Total params: 26,497\n",
            "Trainable params: 26,497\n",
            "Non-trainable params: 0\n",
            "_________________________________________________________________\n"
          ],
          "name": "stdout"
        }
      ]
    },
    {
      "cell_type": "code",
      "metadata": {
        "id": "PDePVk4WUyTm",
        "outputId": "d9283362-ee17-4fa5-9ed2-a2eb38b978b1",
        "colab": {
          "base_uri": "https://localhost:8080/",
          "height": 1000
        }
      },
      "source": [
        "history3=model3.fit(padded_train_sentences,train_labels_final,epochs=33,validation_data=(padded_test_sentences,test_labels_final))"
      ],
      "execution_count": 62,
      "outputs": [
        {
          "output_type": "stream",
          "text": [
            "Epoch 1/33\n",
            "50/50 [==============================] - 0s 6ms/step - loss: 0.6933 - accuracy: 0.5009 - val_loss: 0.6939 - val_accuracy: 0.4436\n",
            "Epoch 2/33\n",
            "50/50 [==============================] - 0s 4ms/step - loss: 0.6919 - accuracy: 0.5210 - val_loss: 0.6960 - val_accuracy: 0.4110\n",
            "Epoch 3/33\n",
            "50/50 [==============================] - 0s 4ms/step - loss: 0.6906 - accuracy: 0.5223 - val_loss: 0.6972 - val_accuracy: 0.4110\n",
            "Epoch 4/33\n",
            "50/50 [==============================] - 0s 5ms/step - loss: 0.6896 - accuracy: 0.5223 - val_loss: 0.6973 - val_accuracy: 0.4110\n",
            "Epoch 5/33\n",
            "50/50 [==============================] - 0s 4ms/step - loss: 0.6884 - accuracy: 0.5223 - val_loss: 0.6976 - val_accuracy: 0.4110\n",
            "Epoch 6/33\n",
            "50/50 [==============================] - 0s 4ms/step - loss: 0.6873 - accuracy: 0.5223 - val_loss: 0.6974 - val_accuracy: 0.4110\n",
            "Epoch 7/33\n",
            "50/50 [==============================] - 0s 4ms/step - loss: 0.6862 - accuracy: 0.5223 - val_loss: 0.6976 - val_accuracy: 0.4110\n",
            "Epoch 8/33\n",
            "50/50 [==============================] - 0s 4ms/step - loss: 0.6846 - accuracy: 0.5223 - val_loss: 0.6960 - val_accuracy: 0.4110\n",
            "Epoch 9/33\n",
            "50/50 [==============================] - 0s 4ms/step - loss: 0.6828 - accuracy: 0.5223 - val_loss: 0.6957 - val_accuracy: 0.4110\n",
            "Epoch 10/33\n",
            "50/50 [==============================] - 0s 4ms/step - loss: 0.6807 - accuracy: 0.5279 - val_loss: 0.6938 - val_accuracy: 0.4110\n",
            "Epoch 11/33\n",
            "50/50 [==============================] - 0s 4ms/step - loss: 0.6780 - accuracy: 0.5687 - val_loss: 0.6909 - val_accuracy: 0.4461\n",
            "Epoch 12/33\n",
            "50/50 [==============================] - 0s 4ms/step - loss: 0.6745 - accuracy: 0.6077 - val_loss: 0.6875 - val_accuracy: 0.5313\n",
            "Epoch 13/33\n",
            "50/50 [==============================] - 0s 4ms/step - loss: 0.6701 - accuracy: 0.6384 - val_loss: 0.6838 - val_accuracy: 0.5589\n",
            "Epoch 14/33\n",
            "50/50 [==============================] - 0s 4ms/step - loss: 0.6644 - accuracy: 0.6560 - val_loss: 0.6788 - val_accuracy: 0.5890\n",
            "Epoch 15/33\n",
            "50/50 [==============================] - 0s 4ms/step - loss: 0.6570 - accuracy: 0.6999 - val_loss: 0.6698 - val_accuracy: 0.6316\n",
            "Epoch 16/33\n",
            "50/50 [==============================] - 0s 4ms/step - loss: 0.6478 - accuracy: 0.7583 - val_loss: 0.6606 - val_accuracy: 0.6541\n",
            "Epoch 17/33\n",
            "50/50 [==============================] - 0s 4ms/step - loss: 0.6365 - accuracy: 0.7960 - val_loss: 0.6485 - val_accuracy: 0.6867\n",
            "Epoch 18/33\n",
            "50/50 [==============================] - 0s 4ms/step - loss: 0.6229 - accuracy: 0.8079 - val_loss: 0.6358 - val_accuracy: 0.7068\n",
            "Epoch 19/33\n",
            "50/50 [==============================] - 0s 4ms/step - loss: 0.6073 - accuracy: 0.8267 - val_loss: 0.6218 - val_accuracy: 0.7393\n",
            "Epoch 20/33\n",
            "50/50 [==============================] - 0s 4ms/step - loss: 0.5896 - accuracy: 0.8255 - val_loss: 0.6079 - val_accuracy: 0.7393\n",
            "Epoch 21/33\n",
            "50/50 [==============================] - 0s 4ms/step - loss: 0.5701 - accuracy: 0.8393 - val_loss: 0.5913 - val_accuracy: 0.7544\n",
            "Epoch 22/33\n",
            "50/50 [==============================] - 0s 4ms/step - loss: 0.5493 - accuracy: 0.8399 - val_loss: 0.5774 - val_accuracy: 0.7519\n",
            "Epoch 23/33\n",
            "50/50 [==============================] - 0s 4ms/step - loss: 0.5276 - accuracy: 0.8475 - val_loss: 0.5613 - val_accuracy: 0.7669\n",
            "Epoch 24/33\n",
            "50/50 [==============================] - 0s 4ms/step - loss: 0.5059 - accuracy: 0.8537 - val_loss: 0.5475 - val_accuracy: 0.7594\n",
            "Epoch 25/33\n",
            "50/50 [==============================] - 0s 4ms/step - loss: 0.4843 - accuracy: 0.8600 - val_loss: 0.5349 - val_accuracy: 0.7669\n",
            "Epoch 26/33\n",
            "50/50 [==============================] - 0s 4ms/step - loss: 0.4634 - accuracy: 0.8594 - val_loss: 0.5234 - val_accuracy: 0.7694\n",
            "Epoch 27/33\n",
            "50/50 [==============================] - 0s 4ms/step - loss: 0.4431 - accuracy: 0.8694 - val_loss: 0.5119 - val_accuracy: 0.7820\n",
            "Epoch 28/33\n",
            "50/50 [==============================] - 0s 4ms/step - loss: 0.4240 - accuracy: 0.8757 - val_loss: 0.5005 - val_accuracy: 0.7920\n",
            "Epoch 29/33\n",
            "50/50 [==============================] - 0s 4ms/step - loss: 0.4057 - accuracy: 0.8795 - val_loss: 0.4922 - val_accuracy: 0.7920\n",
            "Epoch 30/33\n",
            "50/50 [==============================] - 0s 4ms/step - loss: 0.3886 - accuracy: 0.8845 - val_loss: 0.4858 - val_accuracy: 0.7895\n",
            "Epoch 31/33\n",
            "50/50 [==============================] - 0s 4ms/step - loss: 0.3729 - accuracy: 0.8870 - val_loss: 0.4811 - val_accuracy: 0.7870\n",
            "Epoch 32/33\n",
            "50/50 [==============================] - 0s 4ms/step - loss: 0.3578 - accuracy: 0.8883 - val_loss: 0.4751 - val_accuracy: 0.8020\n",
            "Epoch 33/33\n",
            "50/50 [==============================] - 0s 5ms/step - loss: 0.3439 - accuracy: 0.8933 - val_loss: 0.4701 - val_accuracy: 0.8045\n"
          ],
          "name": "stdout"
        }
      ]
    },
    {
      "cell_type": "code",
      "metadata": {
        "id": "Onzzq7DzWA_2",
        "outputId": "79eb3724-94c1-4da2-86bb-447cb97d4541",
        "colab": {
          "base_uri": "https://localhost:8080/",
          "height": 513
        }
      },
      "source": [
        "plt.clf()\n",
        "plt.plot(history3.epoch,history3.history['accuracy'])\n",
        "plt.plot(history3.epoch,history3.history['val_accuracy'])\n",
        "plt.show()\n",
        "plt.clf()\n",
        "plt.plot(history3.epoch,history3.history['loss'])\n",
        "plt.plot(history3.epoch,history3.history['val_loss'])\n",
        "plt.show()"
      ],
      "execution_count": 96,
      "outputs": [
        {
          "output_type": "display_data",
          "data": {
            "image/png": "[encoded data removed]",
            "text/plain": [
              "<Figure size 432x288 with 1 Axes>"
            ]
          },
          "metadata": {
            "tags": [],
            "needs_background": "light"
          }
        },
        {
          "output_type": "display_data",
          "data": {
            "image/png": "[encoded data removed]",
            "text/plain": [
              "<Figure size 432x288 with 1 Axes>"
            ]
          },
          "metadata": {
            "tags": [],
            "needs_background": "light"
          }
        }
      ]
    },
    {
      "cell_type": "code",
      "metadata": {
        "id": "G98AzuevZOV2"
      },
      "source": [
        "model4=tf.keras.models.Sequential([\n",
        "    tf.keras.layers.Embedding(vocab_size,embedding_dim,input_length=sequence_size),\n",
        "    tf.keras.layers.Bidirectional(tf.keras.layers.GRU(32)),\n",
        "    tf.keras.layers.Dense(1,activation='sigmoid')\n",
        "])"
      ],
      "execution_count": 87,
      "outputs": []
    },
    {
      "cell_type": "code",
      "metadata": {
        "id": "kGEGaLf-Zr0H"
      },
      "source": [
        "model4.compile(optimizer=tf.keras.optimizers.Adam(0.0001),loss='binary_crossentropy',metrics='accuracy')"
      ],
      "execution_count": 88,
      "outputs": []
    },
    {
      "cell_type": "code",
      "metadata": {
        "id": "Q-U9wL8wZ-_a",
        "outputId": "a0feae53-32ce-4efd-8fed-a9763ab536b8",
        "colab": {
          "base_uri": "https://localhost:8080/",
          "height": 252
        }
      },
      "source": [
        "model4.summary()"
      ],
      "execution_count": 89,
      "outputs": [
        {
          "output_type": "stream",
          "text": [
            "Model: \"sequential_13\"\n",
            "_________________________________________________________________\n",
            "Layer (type)                 Output Shape              Param #   \n",
            "=================================================================\n",
            "embedding_13 (Embedding)     (None, 50, 16)            16000     \n",
            "_________________________________________________________________\n",
            "bidirectional_6 (Bidirection (None, 64)                9600      \n",
            "_________________________________________________________________\n",
            "dense_16 (Dense)             (None, 1)                 65        \n",
            "=================================================================\n",
            "Total params: 25,665\n",
            "Trainable params: 25,665\n",
            "Non-trainable params: 0\n",
            "_________________________________________________________________\n"
          ],
          "name": "stdout"
        }
      ]
    },
    {
      "cell_type": "code",
      "metadata": {
        "id": "1M3Bv501aDQi",
        "outputId": "9aa408ec-5086-4816-e327-33d7d8eb6e7c",
        "colab": {
          "base_uri": "https://localhost:8080/",
          "height": 790
        }
      },
      "source": [
        "history4=model4.fit(padded_train_sentences,train_labels_final,epochs=23,validation_data=(padded_test_sentences,test_labels_final))"
      ],
      "execution_count": 90,
      "outputs": [
        {
          "output_type": "stream",
          "text": [
            "Epoch 1/23\n",
            "50/50 [==============================] - 1s 19ms/step - loss: 0.6922 - accuracy: 0.5292 - val_loss: 0.6963 - val_accuracy: 0.4135\n",
            "Epoch 2/23\n",
            "50/50 [==============================] - 0s 9ms/step - loss: 0.6913 - accuracy: 0.5229 - val_loss: 0.6967 - val_accuracy: 0.4135\n",
            "Epoch 3/23\n",
            "50/50 [==============================] - 0s 9ms/step - loss: 0.6903 - accuracy: 0.5235 - val_loss: 0.6985 - val_accuracy: 0.4110\n",
            "Epoch 4/23\n",
            "50/50 [==============================] - 0s 9ms/step - loss: 0.6893 - accuracy: 0.5229 - val_loss: 0.6980 - val_accuracy: 0.4135\n",
            "Epoch 5/23\n",
            "50/50 [==============================] - 0s 9ms/step - loss: 0.6878 - accuracy: 0.5229 - val_loss: 0.6982 - val_accuracy: 0.4135\n",
            "Epoch 6/23\n",
            "50/50 [==============================] - 0s 9ms/step - loss: 0.6856 - accuracy: 0.5235 - val_loss: 0.6972 - val_accuracy: 0.4185\n",
            "Epoch 7/23\n",
            "50/50 [==============================] - 0s 9ms/step - loss: 0.6824 - accuracy: 0.5374 - val_loss: 0.6963 - val_accuracy: 0.4261\n",
            "Epoch 8/23\n",
            "50/50 [==============================] - 0s 9ms/step - loss: 0.6773 - accuracy: 0.5530 - val_loss: 0.6921 - val_accuracy: 0.4712\n",
            "Epoch 9/23\n",
            "50/50 [==============================] - 0s 9ms/step - loss: 0.6684 - accuracy: 0.6190 - val_loss: 0.6858 - val_accuracy: 0.5163\n",
            "Epoch 10/23\n",
            "50/50 [==============================] - 0s 9ms/step - loss: 0.6509 - accuracy: 0.6240 - val_loss: 0.6726 - val_accuracy: 0.5714\n",
            "Epoch 11/23\n",
            "50/50 [==============================] - 0s 9ms/step - loss: 0.6100 - accuracy: 0.6911 - val_loss: 0.6427 - val_accuracy: 0.5965\n",
            "Epoch 12/23\n",
            "50/50 [==============================] - 0s 9ms/step - loss: 0.5528 - accuracy: 0.7458 - val_loss: 0.6047 - val_accuracy: 0.6792\n",
            "Epoch 13/23\n",
            "50/50 [==============================] - 0s 9ms/step - loss: 0.5153 - accuracy: 0.7746 - val_loss: 0.5692 - val_accuracy: 0.7569\n",
            "Epoch 14/23\n",
            "50/50 [==============================] - 0s 9ms/step - loss: 0.4814 - accuracy: 0.7941 - val_loss: 0.5731 - val_accuracy: 0.7318\n",
            "Epoch 15/23\n",
            "50/50 [==============================] - 0s 9ms/step - loss: 0.4592 - accuracy: 0.8173 - val_loss: 0.5717 - val_accuracy: 0.7519\n",
            "Epoch 16/23\n",
            "50/50 [==============================] - 0s 9ms/step - loss: 0.4317 - accuracy: 0.8180 - val_loss: 0.5383 - val_accuracy: 0.7945\n",
            "Epoch 17/23\n",
            "50/50 [==============================] - 0s 9ms/step - loss: 0.4131 - accuracy: 0.8368 - val_loss: 0.5808 - val_accuracy: 0.7419\n",
            "Epoch 18/23\n",
            "50/50 [==============================] - 0s 9ms/step - loss: 0.4031 - accuracy: 0.8324 - val_loss: 0.5573 - val_accuracy: 0.7569\n",
            "Epoch 19/23\n",
            "50/50 [==============================] - 0s 9ms/step - loss: 0.3721 - accuracy: 0.8493 - val_loss: 0.5453 - val_accuracy: 0.7719\n",
            "Epoch 20/23\n",
            "50/50 [==============================] - 0s 9ms/step - loss: 0.3522 - accuracy: 0.8644 - val_loss: 0.5415 - val_accuracy: 0.7870\n",
            "Epoch 21/23\n",
            "50/50 [==============================] - 0s 9ms/step - loss: 0.3526 - accuracy: 0.8531 - val_loss: 0.5409 - val_accuracy: 0.7845\n",
            "Epoch 22/23\n",
            "50/50 [==============================] - 0s 9ms/step - loss: 0.3337 - accuracy: 0.8694 - val_loss: 0.5733 - val_accuracy: 0.7719\n",
            "Epoch 23/23\n",
            "50/50 [==============================] - 0s 9ms/step - loss: 0.3134 - accuracy: 0.8788 - val_loss: 0.5935 - val_accuracy: 0.7694\n"
          ],
          "name": "stdout"
        }
      ]
    },
    {
      "cell_type": "code",
      "metadata": {
        "id": "FjDYwExybJeH",
        "outputId": "6067e69a-4181-4ce2-99a9-700c4d8d8db4",
        "colab": {
          "base_uri": "https://localhost:8080/",
          "height": 516
        }
      },
      "source": [
        "plt.clf()\n",
        "plt.plot(history4.epoch,history4.history['accuracy'])\n",
        "plt.plot(history4.epoch,history4.history['val_accuracy'])\n",
        "plt.show()\n",
        "plt.clf()\n",
        "plt.plot(history4.epoch,history4.history['loss'])\n",
        "plt.plot(history4.epoch,history4.history['val_loss'])\n",
        "plt.show()"
      ],
      "execution_count": 91,
      "outputs": [
        {
          "output_type": "display_data",
          "data": {
            "image/png": "[encoded data removed]",
            "text/plain": [
              "<Figure size 432x288 with 1 Axes>"
            ]
          },
          "metadata": {
            "tags": [],
            "needs_background": "light"
          }
        },
        {
          "output_type": "display_data",
          "data": {
            "image/png": "[encoded data removed]",
            "text/plain": [
              "<Figure size 432x288 with 1 Axes>"
            ]
          },
          "metadata": {
            "tags": [],
            "needs_background": "light"
          }
        }
      ]
    },
    {
      "cell_type": "code",
      "metadata": {
        "id": "sLQK9NtqVKlE"
      },
      "source": [
        "my_reviews =[\"lovely\", \"dreadful\", \"stay away\",\n",
        "             \"everything was hot exactly as I wanted\",\n",
        "             \"everything was not exactly as I wanted\",\n",
        "             \"they gave us free chocolate cake\",\n",
        "             \"I've never eaten anything so spicy in my life, my throat burned for hours\",\n",
        "             \"for a phone that is as expensive as this one I expect it to be much easier to use than this thing is\",\n",
        "             \"we left there very full for a low price so I'd say you just can't go wrong at this place\",\n",
        "             \"that place does not have quality meals and it isn't a good place to go for dinner\",\n",
        "             ]"
      ],
      "execution_count": 64,
      "outputs": []
    },
    {
      "cell_type": "code",
      "metadata": {
        "id": "UnTlJoVKVxfw"
      },
      "source": [
        "for i, sentence in enumerate(my_reviews):\n",
        "  my_reviews[i] = tokenizer.encode(sentence)"
      ],
      "execution_count": 65,
      "outputs": []
    },
    {
      "cell_type": "code",
      "metadata": {
        "id": "ZJS0j4huWKac"
      },
      "source": [
        "padded_my_reviews=pad_sequences(my_reviews,maxlen=sequence_size,padding=padding_type, truncating=truncating_type)"
      ],
      "execution_count": 66,
      "outputs": []
    },
    {
      "cell_type": "code",
      "metadata": {
        "id": "CoId8MljWcBu"
      },
      "source": [
        "pred=model.predict(padded_my_reviews)"
      ],
      "execution_count": 67,
      "outputs": []
    },
    {
      "cell_type": "code",
      "metadata": {
        "id": "cmaoIWoNWq5O"
      },
      "source": [
        "pred"
      ],
      "execution_count": null,
      "outputs": []
    },
    {
      "cell_type": "code",
      "metadata": {
        "id": "jPP7U_S-Wyvl"
      },
      "source": [
        ""
      ],
      "execution_count": 68,
      "outputs": []
    },
    {
      "cell_type": "code",
      "metadata": {
        "id": "hCMW8lxrW15N",
        "outputId": "f0c2b274-7422-4b9c-b6fc-fc9ed00f5c36",
        "colab": {
          "base_uri": "https://localhost:8080/",
          "height": 185
        }
      },
      "source": [
        "model1.predict(padded_my_reviews)"
      ],
      "execution_count": 69,
      "outputs": [
        {
          "output_type": "execute_result",
          "data": {
            "text/plain": [
              "array([[0.96830195],\n",
              "       [0.04606463],\n",
              "       [0.1019936 ],\n",
              "       [0.77481997],\n",
              "       [0.02345811],\n",
              "       [0.45330968],\n",
              "       [0.04356217],\n",
              "       [0.04206901],\n",
              "       [0.9999933 ],\n",
              "       [0.5522172 ]], dtype=float32)"
            ]
          },
          "metadata": {
            "tags": []
          },
          "execution_count": 69
        }
      ]
    },
    {
      "cell_type": "code",
      "metadata": {
        "id": "3lPhZ2lpWr1a",
        "outputId": "8eb3d0bf-c353-486d-d394-37cf314535e9",
        "colab": {
          "base_uri": "https://localhost:8080/",
          "height": 238
        }
      },
      "source": [
        "model2.predict(padded_my_reviews)"
      ],
      "execution_count": 98,
      "outputs": [
        {
          "output_type": "stream",
          "text": [
            "WARNING:tensorflow:7 out of the last 11 calls to <function Model.make_predict_function.<locals>.predict_function at 0x7f6ff9bdbb70> triggered tf.function retracing. Tracing is expensive and the excessive number of tracings could be due to (1) creating @tf.function repeatedly in a loop, (2) passing tensors with different shapes, (3) passing Python objects instead of tensors. For (1), please define your @tf.function outside of the loop. For (2), @tf.function has experimental_relax_shapes=True option that relaxes argument shapes that can avoid unnecessary retracing. For (3), please refer to https://www.tensorflow.org/tutorials/customization/performance#python_or_tensor_args and https://www.tensorflow.org/api_docs/python/tf/function for  more details.\n"
          ],
          "name": "stdout"
        },
        {
          "output_type": "stream",
          "text": [
            "WARNING:tensorflow:7 out of the last 11 calls to <function Model.make_predict_function.<locals>.predict_function at 0x7f6ff9bdbb70> triggered tf.function retracing. Tracing is expensive and the excessive number of tracings could be due to (1) creating @tf.function repeatedly in a loop, (2) passing tensors with different shapes, (3) passing Python objects instead of tensors. For (1), please define your @tf.function outside of the loop. For (2), @tf.function has experimental_relax_shapes=True option that relaxes argument shapes that can avoid unnecessary retracing. For (3), please refer to https://www.tensorflow.org/tutorials/customization/performance#python_or_tensor_args and https://www.tensorflow.org/api_docs/python/tf/function for  more details.\n"
          ],
          "name": "stderr"
        },
        {
          "output_type": "execute_result",
          "data": {
            "text/plain": [
              "array([[0.99840325],\n",
              "       [0.05090907],\n",
              "       [0.99718314],\n",
              "       [0.9908921 ],\n",
              "       [0.03991449],\n",
              "       [0.9978065 ],\n",
              "       [0.03730655],\n",
              "       [0.0352079 ],\n",
              "       [0.9948938 ],\n",
              "       [0.943513  ]], dtype=float32)"
            ]
          },
          "metadata": {
            "tags": []
          },
          "execution_count": 98
        }
      ]
    },
    {
      "cell_type": "code",
      "metadata": {
        "id": "9EEVVFmNbgFu",
        "outputId": "4ac3e261-a7f3-4e11-d21c-44dc8139970b",
        "colab": {
          "base_uri": "https://localhost:8080/",
          "height": 238
        }
      },
      "source": [
        "model3.predict(padded_my_reviews)"
      ],
      "execution_count": 92,
      "outputs": [
        {
          "output_type": "stream",
          "text": [
            "WARNING:tensorflow:5 out of the last 9 calls to <function Model.make_predict_function.<locals>.predict_function at 0x7f6feebe6b70> triggered tf.function retracing. Tracing is expensive and the excessive number of tracings could be due to (1) creating @tf.function repeatedly in a loop, (2) passing tensors with different shapes, (3) passing Python objects instead of tensors. For (1), please define your @tf.function outside of the loop. For (2), @tf.function has experimental_relax_shapes=True option that relaxes argument shapes that can avoid unnecessary retracing. For (3), please refer to https://www.tensorflow.org/tutorials/customization/performance#python_or_tensor_args and https://www.tensorflow.org/api_docs/python/tf/function for  more details.\n"
          ],
          "name": "stdout"
        },
        {
          "output_type": "stream",
          "text": [
            "WARNING:tensorflow:5 out of the last 9 calls to <function Model.make_predict_function.<locals>.predict_function at 0x7f6feebe6b70> triggered tf.function retracing. Tracing is expensive and the excessive number of tracings could be due to (1) creating @tf.function repeatedly in a loop, (2) passing tensors with different shapes, (3) passing Python objects instead of tensors. For (1), please define your @tf.function outside of the loop. For (2), @tf.function has experimental_relax_shapes=True option that relaxes argument shapes that can avoid unnecessary retracing. For (3), please refer to https://www.tensorflow.org/tutorials/customization/performance#python_or_tensor_args and https://www.tensorflow.org/api_docs/python/tf/function for  more details.\n"
          ],
          "name": "stderr"
        },
        {
          "output_type": "execute_result",
          "data": {
            "text/plain": [
              "array([[0.72660226],\n",
              "       [0.5659425 ],\n",
              "       [0.49851432],\n",
              "       [0.28057665],\n",
              "       [0.11370637],\n",
              "       [0.7033126 ],\n",
              "       [0.5165923 ],\n",
              "       [0.4147018 ],\n",
              "       [0.63498366],\n",
              "       [0.2525456 ]], dtype=float32)"
            ]
          },
          "metadata": {
            "tags": []
          },
          "execution_count": 92
        }
      ]
    },
    {
      "cell_type": "code",
      "metadata": {
        "id": "UJOepF4XXCjJ",
        "outputId": "ce7b96ac-44a1-49cd-8a4c-6362f8a85fb3",
        "colab": {
          "base_uri": "https://localhost:8080/",
          "height": 238
        }
      },
      "source": [
        "model4.predict(padded_my_reviews)"
      ],
      "execution_count": 93,
      "outputs": [
        {
          "output_type": "stream",
          "text": [
            "WARNING:tensorflow:6 out of the last 10 calls to <function Model.make_predict_function.<locals>.predict_function at 0x7f6feebd8b70> triggered tf.function retracing. Tracing is expensive and the excessive number of tracings could be due to (1) creating @tf.function repeatedly in a loop, (2) passing tensors with different shapes, (3) passing Python objects instead of tensors. For (1), please define your @tf.function outside of the loop. For (2), @tf.function has experimental_relax_shapes=True option that relaxes argument shapes that can avoid unnecessary retracing. For (3), please refer to https://www.tensorflow.org/tutorials/customization/performance#python_or_tensor_args and https://www.tensorflow.org/api_docs/python/tf/function for  more details.\n"
          ],
          "name": "stdout"
        },
        {
          "output_type": "stream",
          "text": [
            "WARNING:tensorflow:6 out of the last 10 calls to <function Model.make_predict_function.<locals>.predict_function at 0x7f6feebd8b70> triggered tf.function retracing. Tracing is expensive and the excessive number of tracings could be due to (1) creating @tf.function repeatedly in a loop, (2) passing tensors with different shapes, (3) passing Python objects instead of tensors. For (1), please define your @tf.function outside of the loop. For (2), @tf.function has experimental_relax_shapes=True option that relaxes argument shapes that can avoid unnecessary retracing. For (3), please refer to https://www.tensorflow.org/tutorials/customization/performance#python_or_tensor_args and https://www.tensorflow.org/api_docs/python/tf/function for  more details.\n"
          ],
          "name": "stderr"
        },
        {
          "output_type": "execute_result",
          "data": {
            "text/plain": [
              "array([[0.7396144 ],\n",
              "       [0.4668646 ],\n",
              "       [0.5675392 ],\n",
              "       [0.2846506 ],\n",
              "       [0.22574173],\n",
              "       [0.7404975 ],\n",
              "       [0.10538441],\n",
              "       [0.17210533],\n",
              "       [0.18368186],\n",
              "       [0.7627597 ]], dtype=float32)"
            ]
          },
          "metadata": {
            "tags": []
          },
          "execution_count": 93
        }
      ]
    },
    {
      "cell_type": "code",
      "metadata": {
        "id": "RnA0GSKvbCY9"
      },
      "source": [
        ""
      ],
      "execution_count": null,
      "outputs": []
    },
    {
      "cell_type": "code",
      "metadata": {
        "id": "I3HIVfswW_H3"
      },
      "source": [
        "[\"lovely\", \"dreadful\", \"stay away\",\n",
        "             \"everything was hot exactly as I wanted\",\n",
        "             \"everything was not exactly as I wanted\",\n",
        "             \"they gave us free chocolate cake\",\n",
        "             \"I've never eaten anything so spicy in my life, my throat burned for hours\",\n",
        "             \"for a phone that is as expensive as this one I expect it to be much easier to use than this thing is\",\n",
        "             \"we left there very full for a low price so I'd say you just can't go wrong at this place\",\n",
        "             \"that place does not have quality meals and it isn't a good place to go for dinner\",\n",
        "             ]"
      ],
      "execution_count": null,
      "outputs": []
    },
    {
      "cell_type": "code",
      "metadata": {
        "id": "ze1lAkcEXBNn"
      },
      "source": [
        ""
      ],
      "execution_count": null,
      "outputs": []
    }
  ]
}