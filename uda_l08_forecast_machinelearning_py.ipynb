{
  "nbformat": 4,
  "nbformat_minor": 0,
  "metadata": {
    "colab": {
      "name": "uda_l08_forecast_machinelearning.py.ipynb",
      "provenance": [],
      "collapsed_sections": [],
      "authorship_tag": "ABX9TyMMtHK3kNPKo+DiOKGNZzki",
      "include_colab_link": true
    },
    "kernelspec": {
      "name": "python3",
      "display_name": "Python 3"
    }
  },
  "cells": [
    {
      "cell_type": "markdown",
      "metadata": {
        "id": "view-in-github",
        "colab_type": "text"
      },
      "source": [
        "<a href=\"https://colab.research.google.com/github/venkat2ram/Keras-and-Tensorflow/blob/master/uda_l08_forecast_machinelearning_py.ipynb\" target=\"_parent\"><img src=\"https://colab.research.google.com/assets/colab-badge.svg\" alt=\"Open In Colab\"/></a>"
      ]
    },
    {
      "cell_type": "code",
      "metadata": {
        "id": "K3Jyoj_0Ize2",
        "colab_type": "code",
        "colab": {
          "base_uri": "https://localhost:8080/",
          "height": 279
        },
        "outputId": "b7f880cb-cca0-4aab-d213-4358e53605ac"
      },
      "source": [
        "import numpy as np\n",
        "import matplotlib.pyplot as plt\n",
        "import tensorflow as tf\n",
        "from tensorflow import keras\n",
        "\n",
        "\n",
        "#Function to plot the time series graph.\n",
        "def plot_series(time,series,start=0,end=None,format=\"_\",label=None):\n",
        "    plt.plot(time[start:end],series[start:end])\n",
        "    plt.xlabel(\"Time\")\n",
        "    plt.ylabel(\"Value\")\n",
        "    if label:\n",
        "        plt.legend(fontsize=14)\n",
        "    plt.grid(True)\n",
        "\n",
        "#Funtion to create trend in data for Y-axis\n",
        "def trend(time,slope):\n",
        "    return time*slope\n",
        "\n",
        "#Create X-axis values\n",
        "time=np.arange(4*365+1)\n",
        "#Baseline value\n",
        "baseline=10\n",
        "#Create y-axis values\n",
        "series=baseline+trend(time,0.1)\n",
        "\n",
        "#Plot the graph\n",
        "plot_series(time,series)\n",
        "#plt.show()\n",
        "\n",
        "#apply Cosine for the values less than 0.4 and apply exponetial to the values grater than or equal to 0.4\n",
        "def seasonal_pattern(season_tme):\n",
        "    return np.where(season_tme<0.4,np.cos(season_tme*2*np.pi),1/np.exp(3*season_tme))\n",
        "\n",
        "#Generate series values by converting values of time data set to be between 0 and 1 and by applying seasonal_pattern function.\n",
        "def seasonality(time,period=365,amplitude=1,phase=0):\n",
        "    season_time=(((time+phase)%period)/period)\n",
        "    return amplitude*seasonal_pattern(season_time)\n",
        "\n",
        "series=seasonality(time,period=365,amplitude=40,phase=0)\n",
        "\n",
        "plot_series(time,series)\n",
        "#plt.show()\n",
        "\n",
        "# let's create a series to include both tern and seasonality\n",
        "series=baseline+trend(time,slope=0.05)+seasonality(time,period=365,amplitude=40,phase=0)\n",
        "plot_series(time,series)\n",
        "#plt.show()\n",
        "\n",
        "#generate noise for each element in time dataset\n",
        "def white_noise(time,noise_level=1,seed=None):\n",
        "    rnd = np.random.RandomState(None)\n",
        "    return rnd.randn(len(time))*noise_level\n",
        "\n",
        "\n",
        "noise_level=5\n",
        "noise = white_noise(time,noise_level=5)\n",
        "plot_series(time,noise)\n",
        "#plt.show()\n",
        "\n",
        "plt.clf()\n",
        "#Now add the noise to the time series\n",
        "series=series+noise\n",
        "plot_series(time,series)\n",
        "#plt.show()"
      ],
      "execution_count": 5,
      "outputs": [
        {
          "output_type": "display_data",
          "data": {
            "image/png": "[encoded data removed]",
            "text/plain": [
              "<Figure size 432x288 with 1 Axes>"
            ]
          },
          "metadata": {
            "tags": [],
            "needs_background": "light"
          }
        }
      ]
    },
    {
      "cell_type": "code",
      "metadata": {
        "id": "AffGPVITJDZT",
        "colab_type": "code",
        "colab": {}
      },
      "source": [
        "dataset=tf.data.Dataset.from_tensor_slices(series)\n",
        "dataset=dataset.window(31,shift=1,drop_remainder=True)"
      ],
      "execution_count": 18,
      "outputs": []
    },
    {
      "cell_type": "code",
      "metadata": {
        "id": "bbAkzBZKKa6u",
        "colab_type": "code",
        "colab": {}
      },
      "source": [
        "for window_dataset in dataset:\n",
        "    for val in window_dataset:\n",
        "        print(val.numpy(), end=\" \")\n",
        "    print()"
      ],
      "execution_count": null,
      "outputs": []
    },
    {
      "cell_type": "code",
      "metadata": {
        "id": "1pMzKWDyJXUk",
        "colab_type": "code",
        "colab": {}
      },
      "source": [
        "tupl=lambda window: window.batch(31)\n",
        "dataset = dataset.flat_map(tupl)\n",
        "splt=lambda window: (window[:-1],window[-1:])\n",
        "dataset=dataset.map(splt)"
      ],
      "execution_count": 19,
      "outputs": []
    },
    {
      "cell_type": "code",
      "metadata": {
        "id": "HjvcoHttPgye",
        "colab_type": "code",
        "colab": {}
      },
      "source": [
        "dataset=dataset.shuffle(buffer_size=2)\n"
      ],
      "execution_count": 21,
      "outputs": []
    },
    {
      "cell_type": "code",
      "metadata": {
        "id": "HS-Z1_HpPnjc",
        "colab_type": "code",
        "colab": {}
      },
      "source": [
        "dataset=dataset.batch(10).prefetch(1)"
      ],
      "execution_count": 22,
      "outputs": []
    },
    {
      "cell_type": "code",
      "metadata": {
        "id": "5urL0JgHPxyr",
        "colab_type": "code",
        "colab": {}
      },
      "source": [
        "#create a function with all the above code to prepare data for machine learning algorithm.\n",
        "def window_dataset(series, window_size, batch_size=32,\n",
        "                   shuffle_buffer=1000):\n",
        "    dataset = tf.data.Dataset.from_tensor_slices(series)\n",
        "    dataset = dataset.window(window_size + 1, shift=1, drop_remainder=True)\n",
        "    dataset = dataset.flat_map(lambda window: window.batch(window_size + 1))\n",
        "    dataset = dataset.shuffle(shuffle_buffer)\n",
        "    dataset = dataset.map(lambda window: (window[:-1], window[-1]))\n",
        "    dataset = dataset.batch(batch_size).prefetch(1)\n",
        "    return dataset"
      ],
      "execution_count": 23,
      "outputs": []
    },
    {
      "cell_type": "code",
      "metadata": {
        "id": "CBMoMUlELDVd",
        "colab_type": "code",
        "colab": {}
      },
      "source": [
        "dataset=window_dataset(series,30,10,10)\n",
        "for x, y in dataset:\n",
        "    print(\"x =\", x.numpy())\n",
        "    print(\"y =\", y.numpy())"
      ],
      "execution_count": null,
      "outputs": []
    },
    {
      "cell_type": "code",
      "metadata": {
        "id": "g695dsrIQ_6y",
        "colab_type": "code",
        "colab": {}
      },
      "source": [
        ""
      ],
      "execution_count": null,
      "outputs": []
    }
  ]
}