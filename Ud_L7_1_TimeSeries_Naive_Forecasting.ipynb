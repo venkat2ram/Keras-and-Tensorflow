{
  "nbformat": 4,
  "nbformat_minor": 0,
  "metadata": {
    "colab": {
      "name": "Ud_L7_1_TimeSeries_Naive_Forecasting.ipynb",
      "provenance": [],
      "authorship_tag": "ABX9TyMwsKPJ4UFio9VljQmszrhj",
      "include_colab_link": true
    },
    "kernelspec": {
      "name": "python3",
      "display_name": "Python 3"
    },
    "accelerator": "GPU"
  },
  "cells": [
    {
      "cell_type": "markdown",
      "metadata": {
        "id": "view-in-github",
        "colab_type": "text"
      },
      "source": [
        "<a href=\"https://colab.research.google.com/github/venkat2ram/Keras-and-Tensorflow/blob/master/Ud_L7_1_TimeSeries_Naive_Forecasting.ipynb\" target=\"_parent\"><img src=\"https://colab.research.google.com/assets/colab-badge.svg\" alt=\"Open In Colab\"/></a>"
      ]
    },
    {
      "cell_type": "code",
      "metadata": {
        "id": "EeXRSESRJJdz",
        "colab_type": "code",
        "colab": {}
      },
      "source": [
        "import numpy as np\n",
        "from matplotlib import pyplot as plt"
      ],
      "execution_count": 2,
      "outputs": []
    },
    {
      "cell_type": "code",
      "metadata": {
        "id": "m70W2outJvRs",
        "colab_type": "code",
        "colab": {}
      },
      "source": [
        "def plot_series(time,series,start=0,end=None,label=None,format='-'):\n",
        "  plt.plot(time[start:end],series[start:end])\n",
        "\n",
        "\n",
        "def trend(time,slope):\n",
        "  return time*slope"
      ],
      "execution_count": 28,
      "outputs": []
    },
    {
      "cell_type": "code",
      "metadata": {
        "id": "NINexS2jOJ0W",
        "colab_type": "code",
        "colab": {}
      },
      "source": [
        "time=np.arange(4*365+1)\n",
        "baseline=10\n",
        "series=baseline + trend(time,0.1)"
      ],
      "execution_count": 33,
      "outputs": []
    },
    {
      "cell_type": "code",
      "metadata": {
        "id": "quHPeEdyOrYH",
        "colab_type": "code",
        "colab": {
          "base_uri": "https://localhost:8080/",
          "height": 265
        },
        "outputId": "a7f233ec-ad21-4e24-a34d-dd966cb80beb"
      },
      "source": [
        "plot_series(trend(time,slope),series)"
      ],
      "execution_count": 34,
      "outputs": [
        {
          "output_type": "display_data",
          "data": {
            "image/png": "[encoded data removed]",
            "text/plain": [
              "<Figure size 432x288 with 1 Axes>"
            ]
          },
          "metadata": {
            "tags": [],
            "needs_background": "light"
          }
        }
      ]
    }
  ]
}