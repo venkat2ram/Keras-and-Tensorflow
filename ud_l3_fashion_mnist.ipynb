{
  "nbformat": 4,
  "nbformat_minor": 0,
  "metadata": {
    "colab": {
      "name": "ud_l3_fashion_mnist.ipynb",
      "provenance": [],
      "authorship_tag": "ABX9TyMDzo8+B8LS4igPVEc1Uwnr",
      "include_colab_link": true
    },
    "kernelspec": {
      "name": "python3",
      "display_name": "Python 3"
    },
    "accelerator": "GPU"
  },
  "cells": [
    {
      "cell_type": "markdown",
      "metadata": {
        "id": "view-in-github",
        "colab_type": "text"
      },
      "source": [
        "<a href=\"https://colab.research.google.com/github/venkat2ram/Keras-and-Tensorflow/blob/master/ud_l3_fashion_mnist.ipynb\" target=\"_parent\"><img src=\"https://colab.research.google.com/assets/colab-badge.svg\" alt=\"Open In Colab\"/></a>"
      ]
    },
    {
      "cell_type": "code",
      "metadata": {
        "id": "bT6nk8C7oa4f",
        "colab_type": "code",
        "colab": {}
      },
      "source": [
        "import tensorflow as tf\n",
        "import numpy as np\n",
        "from tensorflow.keras.layers import Dense,Flatten,Softmax\n",
        "from tensorflow.nn import relu\n",
        "from matplotlib import pyplot as plt"
      ],
      "execution_count": 1,
      "outputs": []
    },
    {
      "cell_type": "code",
      "metadata": {
        "id": "rj1Fxyf7piIP",
        "colab_type": "code",
        "colab": {}
      },
      "source": [
        "import tf."
      ],
      "execution_count": null,
      "outputs": []
    }
  ]
}