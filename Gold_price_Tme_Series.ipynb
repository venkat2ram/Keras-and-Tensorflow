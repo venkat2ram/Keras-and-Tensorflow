{
  "nbformat": 4,
  "nbformat_minor": 0,
  "metadata": {
    "colab": {
      "name": "Gold_price_Tme_Series.ipynb",
      "provenance": [],
      "toc_visible": true,
      "authorship_tag": "ABX9TyO7BBjFcuGFkEEo6zPBUudF",
      "include_colab_link": true
    },
    "kernelspec": {
      "name": "python3",
      "display_name": "Python 3"
    },
    "accelerator": "GPU"
  },
  "cells": [
    {
      "cell_type": "markdown",
      "metadata": {
        "id": "view-in-github",
        "colab_type": "text"
      },
      "source": [
        "<a href=\"https://colab.research.google.com/github/venkat2ram/Keras-and-Tensorflow/blob/master/Gold_price_Tme_Series.ipynb\" target=\"_parent\"><img src=\"https://colab.research.google.com/assets/colab-badge.svg\" alt=\"Open In Colab\"/></a>"
      ]
    },
    {
      "cell_type": "code",
      "metadata": {
        "id": "n-dyR_JZ1GXc",
        "outputId": "f094af0f-e481-4c65-f789-cd8b44308782",
        "colab": {
          "base_uri": "https://localhost:8080/",
          "height": 70
        }
      },
      "source": [
        "import pandas as pd\n",
        "import numpy as np\n",
        "import tensorflow as tf\n",
        "import tensorflow.keras as keras\n",
        "import matplotlib.pyplot as plt\n",
        "from statsmodels.tsa.seasonal import seasonal_decompose"
      ],
      "execution_count": 1,
      "outputs": [
        {
          "output_type": "stream",
          "text": [
            "/usr/local/lib/python3.6/dist-packages/statsmodels/tools/_testing.py:19: FutureWarning: pandas.util.testing is deprecated. Use the functions in the public API at pandas.testing instead.\n",
            "  import pandas.util.testing as tm\n"
          ],
          "name": "stderr"
        }
      ]
    },
    {
      "cell_type": "code",
      "metadata": {
        "id": "6i6nzBnv1eWz"
      },
      "source": [
        "#data_pd=pd.read_csv(\"/content/Gold_Prices.csv\")\n",
        "data_pd=pd.read_csv(\"/content/Hasbros_Stock_History.csv\")"
      ],
      "execution_count": 2,
      "outputs": []
    },
    {
      "cell_type": "code",
      "metadata": {
        "id": "FjgdpknG13B-",
        "outputId": "c149bd6f-f042-4151-f19a-f1bf08082378",
        "colab": {
          "base_uri": "https://localhost:8080/",
          "height": 195
        }
      },
      "source": [
        "data_pd.head()"
      ],
      "execution_count": 3,
      "outputs": [
        {
          "output_type": "execute_result",
          "data": {
            "text/html": [
              "<div>\n",
              "<style scoped>\n",
              "    .dataframe tbody tr th:only-of-type {\n",
              "        vertical-align: middle;\n",
              "    }\n",
              "\n",
              "    .dataframe tbody tr th {\n",
              "        vertical-align: top;\n",
              "    }\n",
              "\n",
              "    .dataframe thead th {\n",
              "        text-align: right;\n",
              "    }\n",
              "</style>\n",
              "<table border=\"1\" class=\"dataframe\">\n",
              "  <thead>\n",
              "    <tr style=\"text-align: right;\">\n",
              "      <th></th>\n",
              "      <th>Day</th>\n",
              "      <th>Price</th>\n",
              "    </tr>\n",
              "  </thead>\n",
              "  <tbody>\n",
              "    <tr>\n",
              "      <th>0</th>\n",
              "      <td>1</td>\n",
              "      <td>0.10535</td>\n",
              "    </tr>\n",
              "    <tr>\n",
              "      <th>1</th>\n",
              "      <td>2</td>\n",
              "      <td>0.09877</td>\n",
              "    </tr>\n",
              "    <tr>\n",
              "      <th>2</th>\n",
              "      <td>3</td>\n",
              "      <td>0.10974</td>\n",
              "    </tr>\n",
              "    <tr>\n",
              "      <th>3</th>\n",
              "      <td>4</td>\n",
              "      <td>0.10755</td>\n",
              "    </tr>\n",
              "    <tr>\n",
              "      <th>4</th>\n",
              "      <td>5</td>\n",
              "      <td>0.10535</td>\n",
              "    </tr>\n",
              "  </tbody>\n",
              "</table>\n",
              "</div>"
            ],
            "text/plain": [
              "   Day    Price\n",
              "0    1  0.10535\n",
              "1    2  0.09877\n",
              "2    3  0.10974\n",
              "3    4  0.10755\n",
              "4    5  0.10535"
            ]
          },
          "metadata": {
            "tags": []
          },
          "execution_count": 3
        }
      ]
    },
    {
      "cell_type": "code",
      "metadata": {
        "id": "y27zF_1m2eR7"
      },
      "source": [
        "data_np=data_pd.to_numpy()"
      ],
      "execution_count": 4,
      "outputs": []
    },
    {
      "cell_type": "code",
      "metadata": {
        "id": "mSmm5Yfz2pPK",
        "outputId": "3dc2dca5-a764-4e15-ba8e-2d4358930605",
        "colab": {
          "base_uri": "https://localhost:8080/",
          "height": 134
        }
      },
      "source": [
        "data_np"
      ],
      "execution_count": 5,
      "outputs": [
        {
          "output_type": "execute_result",
          "data": {
            "text/plain": [
              "array([[1.0000e+00, 1.0535e-01],\n",
              "       [2.0000e+00, 9.8770e-02],\n",
              "       [3.0000e+00, 1.0974e-01],\n",
              "       ...,\n",
              "       [1.0214e+04, 7.8510e+01],\n",
              "       [1.0215e+04, 8.0410e+01],\n",
              "       [1.0216e+04, 7.9910e+01]])"
            ]
          },
          "metadata": {
            "tags": []
          },
          "execution_count": 5
        }
      ]
    },
    {
      "cell_type": "code",
      "metadata": {
        "id": "zxYtJy6z5T-R",
        "outputId": "090d8050-aa15-4d6d-b4d1-8af190a1773b",
        "colab": {
          "base_uri": "https://localhost:8080/",
          "height": 282
        }
      },
      "source": [
        "plt.plot(data_np[5000:7000,1])"
      ],
      "execution_count": 6,
      "outputs": [
        {
          "output_type": "execute_result",
          "data": {
            "text/plain": [
              "[<matplotlib.lines.Line2D at 0x7f4c837d60b8>]"
            ]
          },
          "metadata": {
            "tags": []
          },
          "execution_count": 6
        },
        {
          "output_type": "display_data",
          "data": {
            "image/png": "[encoded data removed]",
            "text/plain": [
              "<Figure size 432x288 with 1 Axes>"
            ]
          },
          "metadata": {
            "tags": [],
            "needs_background": "light"
          }
        }
      ]
    },
    {
      "cell_type": "code",
      "metadata": {
        "id": "hmtLCus12tAs",
        "outputId": "09b0107b-fdde-49ea-df7d-31c6e6280341",
        "colab": {
          "base_uri": "https://localhost:8080/",
          "height": 577
        }
      },
      "source": [
        "decomp=seasonal_decompose(data_np[9283:10036,1],freq=261,model='additive')\n",
        "decomp.plot()"
      ],
      "execution_count": 7,
      "outputs": [
        {
          "output_type": "execute_result",
          "data": {
            "image/png": "[encoded data removed]",
            "text/plain": [
              "<Figure size 432x288 with 4 Axes>"
            ]
          },
          "metadata": {
            "tags": []
          },
          "execution_count": 7
        },
        {
          "output_type": "display_data",
          "data": {
            "image/png": "[encoded data removed]",
            "text/plain": [
              "<Figure size 432x288 with 4 Axes>"
            ]
          },
          "metadata": {
            "tags": [],
            "needs_background": "light"
          }
        }
      ]
    },
    {
      "cell_type": "code",
      "metadata": {
        "id": "BFaf3WF-3BnF"
      },
      "source": [
        "def window_dataset(series, window_size, batch_size=32,\n",
        "                   shuffle_buffer=1000):\n",
        "    dataset = tf.data.Dataset.from_tensor_slices(series)\n",
        "    dataset = dataset.window(window_size + 1, shift=1, drop_remainder=True)\n",
        "    dataset = dataset.flat_map(lambda window: window.batch(window_size + 1))\n",
        "    dataset = dataset.shuffle(shuffle_buffer)\n",
        "    dataset = dataset.map(lambda window: (window[:-1], window[-1]))\n",
        "    dataset = dataset.batch(batch_size).prefetch(1)\n",
        "    return dataset"
      ],
      "execution_count": 8,
      "outputs": []
    },
    {
      "cell_type": "code",
      "metadata": {
        "id": "8TM1ojSI3qjW"
      },
      "source": [
        "time=data_np[:9700,0]\n",
        "series=data_np[:9700,1]\n",
        "split_time = 7000\n",
        "train_time=time[:split_time]\n",
        "valid_time=time[split_time:]\n",
        "train_series=series[:split_time]\n",
        "valid_series=series[split_time:]"
      ],
      "execution_count": 9,
      "outputs": []
    },
    {
      "cell_type": "code",
      "metadata": {
        "id": "eXY_g5Yr-7uL"
      },
      "source": [
        "window_size=100\n",
        "train_data=window_dataset(train_series,window_size)\n",
        "valid_data=window_dataset(valid_series,window_size)"
      ],
      "execution_count": 10,
      "outputs": []
    },
    {
      "cell_type": "code",
      "metadata": {
        "id": "VJrbKEVS_Gd5"
      },
      "source": [
        "keras.backend.clear_session()"
      ],
      "execution_count": 28,
      "outputs": []
    },
    {
      "cell_type": "code",
      "metadata": {
        "id": "RLA2bm9Q_NZZ"
      },
      "source": [
        "model=tf.keras.Sequential([tf.keras.layers.Dense(1,input_shape=[window_size])])"
      ],
      "execution_count": 29,
      "outputs": []
    },
    {
      "cell_type": "code",
      "metadata": {
        "id": "VUvFuwXz_PGh"
      },
      "source": [
        "model.compile(optimizer=tf.keras.optimizers.SGD(learning_rate=0.00001,momentum=0.9),loss=keras.losses.Huber(),metrics=[\"mae\"])"
      ],
      "execution_count": 30,
      "outputs": []
    },
    {
      "cell_type": "code",
      "metadata": {
        "id": "fomDdCB9_ZKf",
        "outputId": "ae47960b-f784-407b-f286-c4a113e61301",
        "colab": {
          "base_uri": "https://localhost:8080/",
          "height": 185
        }
      },
      "source": [
        "model.summary()"
      ],
      "execution_count": 31,
      "outputs": [
        {
          "output_type": "stream",
          "text": [
            "Model: \"sequential\"\n",
            "_________________________________________________________________\n",
            "Layer (type)                 Output Shape              Param #   \n",
            "=================================================================\n",
            "dense (Dense)                (None, 1)                 101       \n",
            "=================================================================\n",
            "Total params: 101\n",
            "Trainable params: 101\n",
            "Non-trainable params: 0\n",
            "_________________________________________________________________\n"
          ],
          "name": "stdout"
        }
      ]
    },
    {
      "cell_type": "code",
      "metadata": {
        "id": "02GReDft_rFl",
        "outputId": "41bfb615-c540-4c3e-d83b-5100c1bf4ad9",
        "colab": {
          "base_uri": "https://localhost:8080/",
          "height": 1000
        }
      },
      "source": [
        "model.fit(train_data,epochs=100,validation_data=valid_data)"
      ],
      "execution_count": 32,
      "outputs": [
        {
          "output_type": "stream",
          "text": [
            "Epoch 1/100\n",
            "216/216 [==============================] - 2s 9ms/step - loss: 2.2444 - mae: 2.6697 - val_loss: 2.7361 - val_mae: 3.2021\n",
            "Epoch 2/100\n",
            "216/216 [==============================] - 2s 9ms/step - loss: 0.5006 - mae: 0.8262 - val_loss: 2.3819 - val_mae: 2.8425\n",
            "Epoch 3/100\n",
            "216/216 [==============================] - 2s 9ms/step - loss: 0.4282 - mae: 0.7416 - val_loss: 2.2515 - val_mae: 2.7082\n",
            "Epoch 4/100\n",
            "216/216 [==============================] - 2s 9ms/step - loss: 0.3778 - mae: 0.6822 - val_loss: 2.1304 - val_mae: 2.5854\n",
            "Epoch 5/100\n",
            "216/216 [==============================] - 2s 9ms/step - loss: 0.3320 - mae: 0.6269 - val_loss: 1.6982 - val_mae: 2.1409\n",
            "Epoch 6/100\n",
            "216/216 [==============================] - 2s 9ms/step - loss: 0.3034 - mae: 0.5880 - val_loss: 1.5868 - val_mae: 2.0280\n",
            "Epoch 7/100\n",
            "216/216 [==============================] - 2s 9ms/step - loss: 0.2821 - mae: 0.5609 - val_loss: 1.7104 - val_mae: 2.1574\n",
            "Epoch 8/100\n",
            "216/216 [==============================] - 2s 9ms/step - loss: 0.2652 - mae: 0.5390 - val_loss: 1.4310 - val_mae: 1.8693\n",
            "Epoch 9/100\n",
            "216/216 [==============================] - 2s 9ms/step - loss: 0.2590 - mae: 0.5325 - val_loss: 1.3878 - val_mae: 1.8260\n",
            "Epoch 10/100\n",
            "216/216 [==============================] - 2s 9ms/step - loss: 0.2501 - mae: 0.5213 - val_loss: 1.3515 - val_mae: 1.7887\n",
            "Epoch 11/100\n",
            "216/216 [==============================] - 2s 9ms/step - loss: 0.2417 - mae: 0.5073 - val_loss: 1.3793 - val_mae: 1.8158\n",
            "Epoch 12/100\n",
            "216/216 [==============================] - 2s 9ms/step - loss: 0.2295 - mae: 0.4910 - val_loss: 1.2831 - val_mae: 1.7161\n",
            "Epoch 13/100\n",
            "216/216 [==============================] - 2s 9ms/step - loss: 0.2252 - mae: 0.4850 - val_loss: 1.3236 - val_mae: 1.7581\n",
            "Epoch 14/100\n",
            "216/216 [==============================] - 2s 9ms/step - loss: 0.2190 - mae: 0.4755 - val_loss: 1.3386 - val_mae: 1.7718\n",
            "Epoch 15/100\n",
            "216/216 [==============================] - 2s 9ms/step - loss: 0.2220 - mae: 0.4816 - val_loss: 1.2176 - val_mae: 1.6481\n",
            "Epoch 16/100\n",
            "216/216 [==============================] - 2s 9ms/step - loss: 0.2113 - mae: 0.4681 - val_loss: 1.2103 - val_mae: 1.6399\n",
            "Epoch 17/100\n",
            "216/216 [==============================] - 2s 9ms/step - loss: 0.2085 - mae: 0.4609 - val_loss: 1.2591 - val_mae: 1.6907\n",
            "Epoch 18/100\n",
            "216/216 [==============================] - 2s 9ms/step - loss: 0.2047 - mae: 0.4588 - val_loss: 1.1865 - val_mae: 1.6160\n",
            "Epoch 19/100\n",
            "216/216 [==============================] - 2s 9ms/step - loss: 0.2027 - mae: 0.4538 - val_loss: 1.1658 - val_mae: 1.5939\n",
            "Epoch 20/100\n",
            "216/216 [==============================] - 2s 9ms/step - loss: 0.1985 - mae: 0.4479 - val_loss: 1.1382 - val_mae: 1.5639\n",
            "Epoch 21/100\n",
            "216/216 [==============================] - 2s 9ms/step - loss: 0.1943 - mae: 0.4409 - val_loss: 1.1376 - val_mae: 1.5641\n",
            "Epoch 22/100\n",
            "216/216 [==============================] - 2s 9ms/step - loss: 0.1974 - mae: 0.4468 - val_loss: 1.3540 - val_mae: 1.7888\n",
            "Epoch 23/100\n",
            "216/216 [==============================] - 2s 9ms/step - loss: 0.1875 - mae: 0.4334 - val_loss: 1.1139 - val_mae: 1.5390\n",
            "Epoch 24/100\n",
            "216/216 [==============================] - 2s 9ms/step - loss: 0.1979 - mae: 0.4460 - val_loss: 1.0973 - val_mae: 1.5215\n",
            "Epoch 25/100\n",
            "216/216 [==============================] - 2s 10ms/step - loss: 0.1842 - mae: 0.4280 - val_loss: 1.1713 - val_mae: 1.5980\n",
            "Epoch 26/100\n",
            "216/216 [==============================] - 2s 10ms/step - loss: 0.1858 - mae: 0.4363 - val_loss: 1.0616 - val_mae: 1.4833\n",
            "Epoch 27/100\n",
            "216/216 [==============================] - 2s 10ms/step - loss: 0.1793 - mae: 0.4198 - val_loss: 1.0556 - val_mae: 1.4762\n",
            "Epoch 28/100\n",
            "216/216 [==============================] - 2s 10ms/step - loss: 0.1766 - mae: 0.4171 - val_loss: 1.0402 - val_mae: 1.4602\n",
            "Epoch 29/100\n",
            "216/216 [==============================] - 2s 9ms/step - loss: 0.1737 - mae: 0.4122 - val_loss: 1.1042 - val_mae: 1.5273\n",
            "Epoch 30/100\n",
            "216/216 [==============================] - 2s 9ms/step - loss: 0.1725 - mae: 0.4116 - val_loss: 1.0662 - val_mae: 1.4876\n",
            "Epoch 31/100\n",
            "216/216 [==============================] - 2s 9ms/step - loss: 0.1710 - mae: 0.4102 - val_loss: 1.0078 - val_mae: 1.4263\n",
            "Epoch 32/100\n",
            "216/216 [==============================] - 2s 9ms/step - loss: 0.1688 - mae: 0.4066 - val_loss: 1.3670 - val_mae: 1.8017\n",
            "Epoch 33/100\n",
            "216/216 [==============================] - 2s 9ms/step - loss: 0.1680 - mae: 0.4078 - val_loss: 0.9895 - val_mae: 1.4070\n",
            "Epoch 34/100\n",
            "216/216 [==============================] - 2s 9ms/step - loss: 0.1673 - mae: 0.4033 - val_loss: 0.9815 - val_mae: 1.3983\n",
            "Epoch 35/100\n",
            "216/216 [==============================] - 2s 9ms/step - loss: 0.1619 - mae: 0.3943 - val_loss: 1.0990 - val_mae: 1.5206\n",
            "Epoch 36/100\n",
            "216/216 [==============================] - 2s 9ms/step - loss: 0.1631 - mae: 0.4006 - val_loss: 0.9747 - val_mae: 1.3910\n",
            "Epoch 37/100\n",
            "216/216 [==============================] - 2s 9ms/step - loss: 0.1567 - mae: 0.3885 - val_loss: 0.9634 - val_mae: 1.3794\n",
            "Epoch 38/100\n",
            "216/216 [==============================] - 2s 9ms/step - loss: 0.1614 - mae: 0.3957 - val_loss: 1.5003 - val_mae: 1.9442\n",
            "Epoch 39/100\n",
            "216/216 [==============================] - 2s 9ms/step - loss: 0.1602 - mae: 0.3971 - val_loss: 1.0884 - val_mae: 1.5093\n",
            "Epoch 40/100\n",
            "216/216 [==============================] - 2s 10ms/step - loss: 0.1560 - mae: 0.3858 - val_loss: 0.9473 - val_mae: 1.3615\n",
            "Epoch 41/100\n",
            "216/216 [==============================] - 2s 9ms/step - loss: 0.1558 - mae: 0.3861 - val_loss: 0.9457 - val_mae: 1.3591\n",
            "Epoch 42/100\n",
            "216/216 [==============================] - 2s 9ms/step - loss: 0.1552 - mae: 0.3870 - val_loss: 0.9931 - val_mae: 1.4103\n",
            "Epoch 43/100\n",
            "216/216 [==============================] - 2s 9ms/step - loss: 0.1519 - mae: 0.3819 - val_loss: 0.9154 - val_mae: 1.3278\n",
            "Epoch 44/100\n",
            "216/216 [==============================] - 2s 9ms/step - loss: 0.1497 - mae: 0.3779 - val_loss: 0.9954 - val_mae: 1.4101\n",
            "Epoch 45/100\n",
            "216/216 [==============================] - 2s 9ms/step - loss: 0.1467 - mae: 0.3731 - val_loss: 0.8947 - val_mae: 1.3058\n",
            "Epoch 46/100\n",
            "216/216 [==============================] - 2s 9ms/step - loss: 0.1437 - mae: 0.3675 - val_loss: 0.9413 - val_mae: 1.3526\n",
            "Epoch 47/100\n",
            "216/216 [==============================] - 2s 9ms/step - loss: 0.1426 - mae: 0.3649 - val_loss: 0.9114 - val_mae: 1.3213\n",
            "Epoch 48/100\n",
            "216/216 [==============================] - 2s 9ms/step - loss: 0.1437 - mae: 0.3696 - val_loss: 0.9646 - val_mae: 1.3794\n",
            "Epoch 49/100\n",
            "216/216 [==============================] - 2s 9ms/step - loss: 0.1407 - mae: 0.3637 - val_loss: 1.1324 - val_mae: 1.5577\n",
            "Epoch 50/100\n",
            "216/216 [==============================] - 2s 9ms/step - loss: 0.1427 - mae: 0.3695 - val_loss: 0.8951 - val_mae: 1.3038\n",
            "Epoch 51/100\n",
            "216/216 [==============================] - 2s 9ms/step - loss: 0.1387 - mae: 0.3603 - val_loss: 0.8816 - val_mae: 1.2916\n",
            "Epoch 52/100\n",
            "216/216 [==============================] - 2s 9ms/step - loss: 0.1372 - mae: 0.3592 - val_loss: 0.8778 - val_mae: 1.2873\n",
            "Epoch 53/100\n",
            "216/216 [==============================] - 2s 9ms/step - loss: 0.1410 - mae: 0.3637 - val_loss: 0.9596 - val_mae: 1.3729\n",
            "Epoch 54/100\n",
            "216/216 [==============================] - 2s 9ms/step - loss: 0.1361 - mae: 0.3601 - val_loss: 0.8509 - val_mae: 1.2587\n",
            "Epoch 55/100\n",
            "216/216 [==============================] - 2s 10ms/step - loss: 0.1409 - mae: 0.3650 - val_loss: 0.8854 - val_mae: 1.2948\n",
            "Epoch 56/100\n",
            "216/216 [==============================] - 2s 9ms/step - loss: 0.1306 - mae: 0.3467 - val_loss: 0.8323 - val_mae: 1.2381\n",
            "Epoch 57/100\n",
            "216/216 [==============================] - 2s 9ms/step - loss: 0.1313 - mae: 0.3484 - val_loss: 0.8508 - val_mae: 1.2582\n",
            "Epoch 58/100\n",
            "216/216 [==============================] - 2s 9ms/step - loss: 0.1355 - mae: 0.3564 - val_loss: 0.8315 - val_mae: 1.2375\n",
            "Epoch 59/100\n",
            "216/216 [==============================] - 2s 9ms/step - loss: 0.1287 - mae: 0.3448 - val_loss: 0.9896 - val_mae: 1.4065\n",
            "Epoch 60/100\n",
            "216/216 [==============================] - 2s 9ms/step - loss: 0.1288 - mae: 0.3460 - val_loss: 0.8068 - val_mae: 1.2097\n",
            "Epoch 61/100\n",
            "216/216 [==============================] - 2s 9ms/step - loss: 0.1282 - mae: 0.3434 - val_loss: 0.8050 - val_mae: 1.2076\n",
            "Epoch 62/100\n",
            "216/216 [==============================] - 2s 9ms/step - loss: 0.1269 - mae: 0.3421 - val_loss: 0.7981 - val_mae: 1.2000\n",
            "Epoch 63/100\n",
            "216/216 [==============================] - 2s 10ms/step - loss: 0.1269 - mae: 0.3436 - val_loss: 0.8431 - val_mae: 1.2496\n",
            "Epoch 64/100\n",
            "216/216 [==============================] - 2s 9ms/step - loss: 0.1268 - mae: 0.3407 - val_loss: 0.8109 - val_mae: 1.2149\n",
            "Epoch 65/100\n",
            "216/216 [==============================] - 2s 9ms/step - loss: 0.1252 - mae: 0.3419 - val_loss: 0.8020 - val_mae: 1.2036\n",
            "Epoch 66/100\n",
            "216/216 [==============================] - 2s 9ms/step - loss: 0.1251 - mae: 0.3388 - val_loss: 0.8182 - val_mae: 1.2225\n",
            "Epoch 67/100\n",
            "216/216 [==============================] - 2s 9ms/step - loss: 0.1235 - mae: 0.3353 - val_loss: 0.7817 - val_mae: 1.1817\n",
            "Epoch 68/100\n",
            "216/216 [==============================] - 2s 9ms/step - loss: 0.1256 - mae: 0.3397 - val_loss: 0.7774 - val_mae: 1.1760\n",
            "Epoch 69/100\n",
            "216/216 [==============================] - 2s 9ms/step - loss: 0.1265 - mae: 0.3405 - val_loss: 0.7848 - val_mae: 1.1859\n",
            "Epoch 70/100\n",
            "216/216 [==============================] - 2s 9ms/step - loss: 0.1214 - mae: 0.3340 - val_loss: 0.8025 - val_mae: 1.2057\n",
            "Epoch 71/100\n",
            "216/216 [==============================] - 2s 9ms/step - loss: 0.1185 - mae: 0.3280 - val_loss: 0.8353 - val_mae: 1.2400\n",
            "Epoch 72/100\n",
            "216/216 [==============================] - 2s 9ms/step - loss: 0.1239 - mae: 0.3417 - val_loss: 0.7587 - val_mae: 1.1561\n",
            "Epoch 73/100\n",
            "216/216 [==============================] - 2s 9ms/step - loss: 0.1179 - mae: 0.3272 - val_loss: 0.7584 - val_mae: 1.1557\n",
            "Epoch 74/100\n",
            "216/216 [==============================] - 2s 9ms/step - loss: 0.1170 - mae: 0.3250 - val_loss: 0.7503 - val_mae: 1.1463\n",
            "Epoch 75/100\n",
            "216/216 [==============================] - 2s 10ms/step - loss: 0.1173 - mae: 0.3253 - val_loss: 0.7492 - val_mae: 1.1456\n",
            "Epoch 76/100\n",
            "216/216 [==============================] - 2s 9ms/step - loss: 0.1166 - mae: 0.3263 - val_loss: 0.7447 - val_mae: 1.1399\n",
            "Epoch 77/100\n",
            "216/216 [==============================] - 2s 10ms/step - loss: 0.1203 - mae: 0.3332 - val_loss: 0.7538 - val_mae: 1.1512\n",
            "Epoch 78/100\n",
            "216/216 [==============================] - 2s 9ms/step - loss: 0.1169 - mae: 0.3247 - val_loss: 0.7369 - val_mae: 1.1313\n",
            "Epoch 79/100\n",
            "216/216 [==============================] - 2s 9ms/step - loss: 0.1159 - mae: 0.3247 - val_loss: 0.7382 - val_mae: 1.1330\n",
            "Epoch 80/100\n",
            "216/216 [==============================] - 2s 9ms/step - loss: 0.1134 - mae: 0.3202 - val_loss: 0.7334 - val_mae: 1.1274\n",
            "Epoch 81/100\n",
            "216/216 [==============================] - 2s 9ms/step - loss: 0.1224 - mae: 0.3338 - val_loss: 0.8263 - val_mae: 1.2319\n",
            "Epoch 82/100\n",
            "216/216 [==============================] - 2s 9ms/step - loss: 0.1161 - mae: 0.3286 - val_loss: 1.0004 - val_mae: 1.4185\n",
            "Epoch 83/100\n",
            "216/216 [==============================] - 2s 9ms/step - loss: 0.1216 - mae: 0.3407 - val_loss: 0.8317 - val_mae: 1.2359\n",
            "Epoch 84/100\n",
            "216/216 [==============================] - 2s 9ms/step - loss: 0.1121 - mae: 0.3177 - val_loss: 0.8572 - val_mae: 1.2649\n",
            "Epoch 85/100\n",
            "216/216 [==============================] - 2s 9ms/step - loss: 0.1144 - mae: 0.3246 - val_loss: 0.8063 - val_mae: 1.2102\n",
            "Epoch 86/100\n",
            "216/216 [==============================] - 2s 9ms/step - loss: 0.1103 - mae: 0.3151 - val_loss: 0.7496 - val_mae: 1.1483\n",
            "Epoch 87/100\n",
            "216/216 [==============================] - 2s 9ms/step - loss: 0.1106 - mae: 0.3145 - val_loss: 0.7181 - val_mae: 1.1120\n",
            "Epoch 88/100\n",
            "216/216 [==============================] - 2s 9ms/step - loss: 0.1120 - mae: 0.3186 - val_loss: 0.7892 - val_mae: 1.1921\n",
            "Epoch 89/100\n",
            "216/216 [==============================] - 2s 9ms/step - loss: 0.1141 - mae: 0.3228 - val_loss: 0.7511 - val_mae: 1.1502\n",
            "Epoch 90/100\n",
            "216/216 [==============================] - 2s 9ms/step - loss: 0.1102 - mae: 0.3163 - val_loss: 0.7209 - val_mae: 1.1161\n",
            "Epoch 91/100\n",
            "216/216 [==============================] - 2s 9ms/step - loss: 0.1110 - mae: 0.3154 - val_loss: 0.7791 - val_mae: 1.1808\n",
            "Epoch 92/100\n",
            "216/216 [==============================] - 2s 9ms/step - loss: 0.1120 - mae: 0.3171 - val_loss: 0.8015 - val_mae: 1.2033\n",
            "Epoch 93/100\n",
            "216/216 [==============================] - 2s 9ms/step - loss: 0.1126 - mae: 0.3259 - val_loss: 0.7025 - val_mae: 1.0947\n",
            "Epoch 94/100\n",
            "216/216 [==============================] - 2s 9ms/step - loss: 0.1064 - mae: 0.3089 - val_loss: 0.7078 - val_mae: 1.1013\n",
            "Epoch 95/100\n",
            "216/216 [==============================] - 2s 9ms/step - loss: 0.1078 - mae: 0.3106 - val_loss: 0.6897 - val_mae: 1.0791\n",
            "Epoch 96/100\n",
            "216/216 [==============================] - 2s 9ms/step - loss: 0.1090 - mae: 0.3132 - val_loss: 0.7895 - val_mae: 1.1903\n",
            "Epoch 97/100\n",
            "216/216 [==============================] - 2s 9ms/step - loss: 0.1093 - mae: 0.3210 - val_loss: 0.7420 - val_mae: 1.1390\n",
            "Epoch 98/100\n",
            "216/216 [==============================] - 2s 9ms/step - loss: 0.1058 - mae: 0.3069 - val_loss: 0.8121 - val_mae: 1.2147\n",
            "Epoch 99/100\n",
            "216/216 [==============================] - 2s 9ms/step - loss: 0.1073 - mae: 0.3123 - val_loss: 0.6850 - val_mae: 1.0741\n",
            "Epoch 100/100\n",
            "216/216 [==============================] - 2s 9ms/step - loss: 0.1056 - mae: 0.3049 - val_loss: 0.6869 - val_mae: 1.0765\n"
          ],
          "name": "stdout"
        },
        {
          "output_type": "execute_result",
          "data": {
            "text/plain": [
              "<tensorflow.python.keras.callbacks.History at 0x7f4c08fcab70>"
            ]
          },
          "metadata": {
            "tags": []
          },
          "execution_count": 32
        }
      ]
    },
    {
      "cell_type": "code",
      "metadata": {
        "id": "3z5PZr7qAc9P"
      },
      "source": [
        "def model_forecast(model,series,window_size):\n",
        "  dataset=tf.data.Dataset.from_tensor_slices(series)\n",
        "  dataset=dataset.window(size=window_size, shift=1,drop_remainder=True)\n",
        "  dataset=dataset.flat_map(lambda w: w.batch(window_size))\n",
        "  dataset=dataset.batch(32).prefetch(1)\n",
        "  lin_forecast=model.predict(dataset)\n",
        "  return lin_forecast"
      ],
      "execution_count": 16,
      "outputs": []
    },
    {
      "cell_type": "code",
      "metadata": {
        "id": "VV90NbDwAgwb"
      },
      "source": [
        "#lin_forecast=model_forecast(model,series[split_time-window_size:-1],window_size)\n",
        "lin_forecast=model_forecast(model,data_np[8000-window_size:-1,1],window_size)"
      ],
      "execution_count": 17,
      "outputs": []
    },
    {
      "cell_type": "code",
      "metadata": {
        "id": "3KDlMUxDAl2R",
        "outputId": "768453a7-e917-4e8a-860a-81b75c19156f",
        "colab": {
          "base_uri": "https://localhost:8080/",
          "height": 265
        }
      },
      "source": [
        "#plt.plot(valid_time,valid_series)\n",
        "#plt.plot(valid_time,lin_forecast)\n",
        "plt.plot(data_np[8000:-1,1])\n",
        "plt.plot(lin_forecast)\n",
        "plt.show()"
      ],
      "execution_count": 18,
      "outputs": [
        {
          "output_type": "display_data",
          "data": {
            "image/png": "[encoded data removed]",
            "text/plain": [
              "<Figure size 432x288 with 1 Axes>"
            ]
          },
          "metadata": {
            "tags": [],
            "needs_background": "light"
          }
        }
      ]
    },
    {
      "cell_type": "code",
      "metadata": {
        "id": "kBBvaelj_WWd",
        "outputId": "224afff2-cd89-4220-b81f-8025fe4f9566",
        "colab": {
          "base_uri": "https://localhost:8080/",
          "height": 134
        }
      },
      "source": [
        "lin_forecast"
      ],
      "execution_count": 19,
      "outputs": [
        {
          "output_type": "execute_result",
          "data": {
            "text/plain": [
              "array([[42.172596],\n",
              "       [42.42984 ],\n",
              "       [43.363895],\n",
              "       ...,\n",
              "       [92.322266],\n",
              "       [92.68906 ],\n",
              "       [96.753105]], dtype=float32)"
            ]
          },
          "metadata": {
            "tags": []
          },
          "execution_count": 19
        }
      ]
    },
    {
      "cell_type": "markdown",
      "metadata": {
        "id": "3Xj-Ieq31zY8"
      },
      "source": [
        "# Reinforcement Learning:"
      ]
    },
    {
      "cell_type": "code",
      "metadata": {
        "id": "n5PJyBSp1VCU"
      },
      "source": [
        "initial_data=data_np[9700-window_size-1:9700,1]"
      ],
      "execution_count": 20,
      "outputs": []
    },
    {
      "cell_type": "code",
      "metadata": {
        "id": "7QBx0dhK26BY",
        "outputId": "82532add-6c6f-4940-a280-933c85a3ca90",
        "colab": {
          "base_uri": "https://localhost:8080/",
          "height": 1000
        }
      },
      "source": [
        "initial_data=data_np[9700-window_size-1:9700,1]\n",
        "rein_data=initial_data\n",
        "pred_rein=np.zeros(3100,dtype=float)\n",
        "for i in range(0,3100):\n",
        "  rein_forecast=model_forecast(model,rein_data,window_size)\n",
        "  rein_data=np.append(rein_data[1:],rein_forecast)\n",
        "  input_rein=window_dataset(rein_data,window_size,batch_size=1,shuffle_buffer=1)\n",
        "  model.fit(input_rein,epochs=10,validation_data=valid_data)\n",
        "  pred_rein[i]=rein_forecast[1]\n",
        "  "
      ],
      "execution_count": 33,
      "outputs": [
        {
          "output_type": "stream",
          "text": [
            "Epoch 1/10\n",
            "2/2 [==============================] - 1s 273ms/step - loss: 5.6430 - mae: 6.1430 - val_loss: 3.2908 - val_mae: 3.7850\n",
            "Epoch 2/10\n",
            "2/2 [==============================] - 1s 262ms/step - loss: 2.3043 - mae: 2.8043 - val_loss: 1.7899 - val_mae: 2.2576\n",
            "Epoch 3/10\n",
            "2/2 [==============================] - 1s 264ms/step - loss: 5.8073 - mae: 6.3073 - val_loss: 1.7755 - val_mae: 2.2429\n",
            "Epoch 4/10\n",
            "2/2 [==============================] - 1s 287ms/step - loss: 2.1712 - mae: 2.6712 - val_loss: 2.9864 - val_mae: 3.4777\n",
            "Epoch 5/10\n",
            "2/2 [==============================] - 1s 268ms/step - loss: 5.9151 - mae: 6.4151 - val_loss: 0.9986 - val_mae: 1.4193\n",
            "Epoch 6/10\n",
            "2/2 [==============================] - 1s 265ms/step - loss: 2.0478 - mae: 2.3673 - val_loss: 2.9188 - val_mae: 3.4094\n",
            "Epoch 7/10\n",
            "2/2 [==============================] - 1s 256ms/step - loss: 4.5406 - mae: 5.0406 - val_loss: 2.6438 - val_mae: 3.1316\n",
            "Epoch 8/10\n",
            "2/2 [==============================] - 1s 260ms/step - loss: 4.9396 - mae: 5.4396 - val_loss: 1.4744 - val_mae: 1.9281\n",
            "Epoch 9/10\n",
            "2/2 [==============================] - 1s 264ms/step - loss: 2.2695 - mae: 2.5951 - val_loss: 1.2686 - val_mae: 1.7121\n",
            "Epoch 10/10\n",
            "2/2 [==============================] - 1s 261ms/step - loss: 5.6631 - mae: 6.1631 - val_loss: 2.1018 - val_mae: 2.5788\n",
            "Epoch 1/10\n",
            "4/4 [==============================] - 1s 132ms/step - loss: 4.9968 - mae: 5.4968 - val_loss: 0.9732 - val_mae: 1.3917\n",
            "Epoch 2/10\n",
            "4/4 [==============================] - 1s 134ms/step - loss: 5.2078 - mae: 5.6549 - val_loss: 6.4874 - val_mae: 6.9874\n",
            "Epoch 3/10\n",
            "4/4 [==============================] - 1s 135ms/step - loss: 9.7842 - mae: 10.2842 - val_loss: 8.5156 - val_mae: 9.0156\n",
            "Epoch 4/10\n",
            "4/4 [==============================] - 1s 134ms/step - loss: 8.7957 - mae: 9.1860 - val_loss: 6.3521 - val_mae: 6.8521\n",
            "Epoch 5/10\n",
            "4/4 [==============================] - 1s 131ms/step - loss: 11.3052 - mae: 11.8052 - val_loss: 7.8677 - val_mae: 8.3677\n",
            "Epoch 6/10\n",
            "4/4 [==============================] - 1s 135ms/step - loss: 13.9009 - mae: 14.4009 - val_loss: 14.1051 - val_mae: 14.6051\n",
            "Epoch 7/10\n",
            "4/4 [==============================] - 1s 129ms/step - loss: 12.4806 - mae: 12.9806 - val_loss: 2.8312 - val_mae: 3.3211\n",
            "Epoch 8/10\n",
            "4/4 [==============================] - 1s 131ms/step - loss: 3.2349 - mae: 3.7349 - val_loss: 0.7721 - val_mae: 1.1728\n",
            "Epoch 9/10\n",
            "4/4 [==============================] - 1s 131ms/step - loss: 4.8500 - mae: 5.3500 - val_loss: 4.4444 - val_mae: 4.9426\n",
            "Epoch 10/10\n",
            "4/4 [==============================] - 1s 131ms/step - loss: 4.4869 - mae: 4.9869 - val_loss: 1.1679 - val_mae: 1.6032\n",
            "Epoch 1/10\n",
            "8/8 [==============================] - 1s 72ms/step - loss: 9.4738 - mae: 9.9738 - val_loss: 9.0282 - val_mae: 9.5282\n",
            "Epoch 2/10\n",
            "8/8 [==============================] - 1s 72ms/step - loss: 20.9220 - mae: 21.4137 - val_loss: 13.2647 - val_mae: 13.7647\n",
            "Epoch 3/10\n",
            "8/8 [==============================] - 1s 66ms/step - loss: 18.9515 - mae: 19.4515 - val_loss: 12.8126 - val_mae: 13.3126\n",
            "Epoch 4/10\n",
            "8/8 [==============================] - 1s 66ms/step - loss: 10.7207 - mae: 11.2207 - val_loss: 5.7499 - val_mae: 6.2489\n",
            "Epoch 5/10\n",
            "8/8 [==============================] - 1s 68ms/step - loss: 9.1289 - mae: 9.6289 - val_loss: 1.4238 - val_mae: 1.8754\n",
            "Epoch 6/10\n",
            "8/8 [==============================] - 1s 69ms/step - loss: 7.8021 - mae: 8.2821 - val_loss: 4.1481 - val_mae: 4.6455\n",
            "Epoch 7/10\n",
            "8/8 [==============================] - 1s 64ms/step - loss: 5.4655 - mae: 5.9655 - val_loss: 3.7959 - val_mae: 4.2920\n",
            "Epoch 8/10\n",
            "8/8 [==============================] - 1s 66ms/step - loss: 5.4516 - mae: 5.9516 - val_loss: 3.6617 - val_mae: 4.1574\n",
            "Epoch 9/10\n",
            "8/8 [==============================] - 1s 65ms/step - loss: 5.4349 - mae: 5.9349 - val_loss: 3.6210 - val_mae: 4.1166\n",
            "Epoch 10/10\n",
            "8/8 [==============================] - 1s 68ms/step - loss: 5.4169 - mae: 5.9169 - val_loss: 3.6205 - val_mae: 4.1160\n",
            "Epoch 1/10\n",
            "16/16 [==============================] - 1s 35ms/step - loss: 5.9540 - mae: 6.4233 - val_loss: 5.5883 - val_mae: 6.0880\n",
            "Epoch 2/10\n",
            "16/16 [==============================] - 1s 35ms/step - loss: 10.7955 - mae: 11.2723 - val_loss: 3.2271 - val_mae: 3.7208\n",
            "Epoch 3/10\n",
            "16/16 [==============================] - 1s 34ms/step - loss: 8.9280 - mae: 9.4240 - val_loss: 6.7660 - val_mae: 7.2660\n",
            "Epoch 4/10\n",
            "16/16 [==============================] - 1s 34ms/step - loss: 8.7433 - mae: 9.2433 - val_loss: 0.6822 - val_mae: 1.0711\n",
            "Epoch 5/10\n",
            "16/16 [==============================] - 1s 35ms/step - loss: 10.3669 - mae: 10.8499 - val_loss: 11.8228 - val_mae: 12.3228\n",
            "Epoch 6/10\n",
            "16/16 [==============================] - 1s 34ms/step - loss: 12.9935 - mae: 13.4915 - val_loss: 3.3568 - val_mae: 3.8508\n",
            "Epoch 7/10\n",
            "16/16 [==============================] - 1s 35ms/step - loss: 22.4084 - mae: 22.9084 - val_loss: 3.4572 - val_mae: 3.9517\n",
            "Epoch 8/10\n",
            "16/16 [==============================] - 1s 34ms/step - loss: 15.7114 - mae: 16.1913 - val_loss: 8.6788 - val_mae: 9.1788\n",
            "Epoch 9/10\n",
            "16/16 [==============================] - 1s 36ms/step - loss: 12.6679 - mae: 13.1671 - val_loss: 15.0745 - val_mae: 15.5745\n",
            "Epoch 10/10\n",
            "16/16 [==============================] - 1s 35ms/step - loss: 22.2023 - mae: 22.7023 - val_loss: 5.3166 - val_mae: 5.8160\n",
            "Epoch 1/10\n",
            "32/32 [==============================] - 1s 19ms/step - loss: 18.8409 - mae: 19.3409 - val_loss: 13.5506 - val_mae: 14.0506\n",
            "Epoch 2/10\n",
            "32/32 [==============================] - 1s 19ms/step - loss: 18.2122 - mae: 18.7122 - val_loss: 11.7418 - val_mae: 12.2418\n",
            "Epoch 3/10\n",
            "32/32 [==============================] - 1s 18ms/step - loss: 10.4523 - mae: 10.9388 - val_loss: 4.0987 - val_mae: 4.5960\n",
            "Epoch 4/10\n",
            "32/32 [==============================] - 1s 19ms/step - loss: 13.2985 - mae: 13.7985 - val_loss: 16.0340 - val_mae: 16.5340\n",
            "Epoch 5/10\n",
            "32/32 [==============================] - 1s 19ms/step - loss: 10.0650 - mae: 10.5566 - val_loss: 2.3970 - val_mae: 2.8799\n",
            "Epoch 6/10\n",
            "32/32 [==============================] - 1s 19ms/step - loss: 16.5684 - mae: 17.0672 - val_loss: 8.2217 - val_mae: 8.7217\n",
            "Epoch 7/10\n",
            "32/32 [==============================] - 1s 19ms/step - loss: 19.6244 - mae: 20.1212 - val_loss: 9.7734 - val_mae: 10.2734\n",
            "Epoch 8/10\n",
            "32/32 [==============================] - 1s 18ms/step - loss: 7.7498 - mae: 8.2264 - val_loss: 1.0521 - val_mae: 1.4744\n",
            "Epoch 9/10\n",
            "32/32 [==============================] - 1s 19ms/step - loss: 9.7621 - mae: 10.2621 - val_loss: 8.9827 - val_mae: 9.4827\n",
            "Epoch 10/10\n",
            "32/32 [==============================] - 1s 19ms/step - loss: 15.4351 - mae: 15.9344 - val_loss: 6.1466 - val_mae: 6.6457\n",
            "Epoch 1/10\n",
            "64/64 [==============================] - 1s 10ms/step - loss: 10.9001 - mae: 11.3898 - val_loss: 7.5493 - val_mae: 8.0490\n",
            "Epoch 2/10\n",
            "64/64 [==============================] - 1s 11ms/step - loss: 7.8426 - mae: 8.3379 - val_loss: 2.6502 - val_mae: 3.1292\n",
            "Epoch 3/10\n",
            "64/64 [==============================] - 1s 11ms/step - loss: 12.7999 - mae: 13.2940 - val_loss: 3.4788 - val_mae: 3.9690\n",
            "Epoch 4/10\n",
            "64/64 [==============================] - 1s 10ms/step - loss: 17.3071 - mae: 17.7985 - val_loss: 16.5502 - val_mae: 17.0502\n",
            "Epoch 5/10\n",
            "64/64 [==============================] - 1s 10ms/step - loss: 15.4014 - mae: 15.8867 - val_loss: 3.8222 - val_mae: 4.3157\n",
            "Epoch 6/10\n",
            "64/64 [==============================] - 1s 10ms/step - loss: 10.9823 - mae: 11.4813 - val_loss: 14.7640 - val_mae: 15.2640\n",
            "Epoch 7/10\n",
            "64/64 [==============================] - 1s 10ms/step - loss: 12.5198 - mae: 13.0095 - val_loss: 12.5561 - val_mae: 13.0561\n",
            "Epoch 8/10\n",
            "64/64 [==============================] - 1s 10ms/step - loss: 10.8099 - mae: 11.3020 - val_loss: 17.4866 - val_mae: 17.9866\n",
            "Epoch 9/10\n",
            "64/64 [==============================] - 1s 11ms/step - loss: 14.8843 - mae: 15.3766 - val_loss: 2.6799 - val_mae: 3.1598\n",
            "Epoch 10/10\n",
            "64/64 [==============================] - 1s 10ms/step - loss: 19.7227 - mae: 20.2166 - val_loss: 20.6308 - val_mae: 21.1308\n",
            "Epoch 1/10\n",
            "128/128 [==============================] - 1s 6ms/step - loss: 18.1790 - mae: 18.6695 - val_loss: 3.1331 - val_mae: 3.6196\n",
            "Epoch 2/10\n",
            "128/128 [==============================] - 1s 6ms/step - loss: 14.5888 - mae: 15.0816 - val_loss: 1.8028 - val_mae: 2.2580\n",
            "Epoch 3/10\n",
            "128/128 [==============================] - 1s 6ms/step - loss: 19.8606 - mae: 20.3605 - val_loss: 39.3110 - val_mae: 39.8110\n",
            "Epoch 4/10\n",
            "128/128 [==============================] - 1s 6ms/step - loss: 18.8102 - mae: 19.3056 - val_loss: 48.1716 - val_mae: 48.6716\n",
            "Epoch 5/10\n",
            "128/128 [==============================] - 1s 6ms/step - loss: 14.5900 - mae: 15.0742 - val_loss: 2.9322 - val_mae: 3.4142\n",
            "Epoch 6/10\n",
            "128/128 [==============================] - 1s 6ms/step - loss: 16.1616 - mae: 16.6586 - val_loss: 1.9269 - val_mae: 2.3868\n",
            "Epoch 7/10\n",
            "128/128 [==============================] - 1s 6ms/step - loss: 21.5366 - mae: 22.0303 - val_loss: 6.0641 - val_mae: 6.5624\n",
            "Epoch 8/10\n",
            "128/128 [==============================] - 1s 6ms/step - loss: 15.1909 - mae: 15.6847 - val_loss: 13.3542 - val_mae: 13.8542\n",
            "Epoch 9/10\n",
            "128/128 [==============================] - 1s 6ms/step - loss: 19.5209 - mae: 20.0140 - val_loss: 1.7666 - val_mae: 2.2158\n",
            "Epoch 10/10\n",
            "128/128 [==============================] - 1s 6ms/step - loss: 17.7271 - mae: 18.2220 - val_loss: 16.4183 - val_mae: 16.9183\n",
            "Epoch 1/10\n",
            "256/256 [==============================] - 1s 4ms/step - loss: 18.4519 - mae: 18.9451 - val_loss: 35.7636 - val_mae: 36.2636\n",
            "Epoch 2/10\n",
            "256/256 [==============================] - 1s 4ms/step - loss: 20.9656 - mae: 21.4585 - val_loss: 63.8241 - val_mae: 64.3241\n",
            "Epoch 3/10\n",
            "256/256 [==============================] - 1s 4ms/step - loss: 29.7905 - mae: 30.2864 - val_loss: 59.7983 - val_mae: 60.2983\n",
            "Epoch 4/10\n",
            "256/256 [==============================] - 1s 4ms/step - loss: 29.8052 - mae: 30.2984 - val_loss: 35.1112 - val_mae: 35.6112\n",
            "Epoch 5/10\n",
            "256/256 [==============================] - 1s 4ms/step - loss: 23.9453 - mae: 24.4418 - val_loss: 18.8815 - val_mae: 19.3797\n",
            "Epoch 6/10\n",
            "256/256 [==============================] - 1s 4ms/step - loss: 25.1692 - mae: 25.6668 - val_loss: 28.8129 - val_mae: 29.3129\n",
            "Epoch 7/10\n",
            "256/256 [==============================] - 1s 4ms/step - loss: 19.4933 - mae: 19.9863 - val_loss: 51.8961 - val_mae: 52.3961\n",
            "Epoch 8/10\n",
            "256/256 [==============================] - 1s 4ms/step - loss: 18.3261 - mae: 18.8175 - val_loss: 28.4645 - val_mae: 28.9644\n",
            "Epoch 9/10\n",
            "256/256 [==============================] - 1s 4ms/step - loss: 20.7213 - mae: 21.2160 - val_loss: 13.7016 - val_mae: 14.1952\n",
            "Epoch 10/10\n",
            "256/256 [==============================] - 1s 4ms/step - loss: 26.1318 - mae: 26.6247 - val_loss: 103.6140 - val_mae: 104.1140\n",
            "Epoch 1/10\n",
            "512/512 [==============================] - 2s 3ms/step - loss: 114.4133 - mae: 114.9110 - val_loss: 163.3033 - val_mae: 163.8033\n",
            "Epoch 2/10\n",
            "512/512 [==============================] - 2s 3ms/step - loss: 160.1694 - mae: 160.6682 - val_loss: 52.0948 - val_mae: 52.5942\n",
            "Epoch 3/10\n",
            "512/512 [==============================] - 1s 3ms/step - loss: 316.4995 - mae: 316.9985 - val_loss: 86.2866 - val_mae: 86.7866\n",
            "Epoch 4/10\n",
            "512/512 [==============================] - 1s 3ms/step - loss: 149.1810 - mae: 149.6798 - val_loss: 69.7723 - val_mae: 70.2722\n",
            "Epoch 5/10\n",
            "512/512 [==============================] - 2s 3ms/step - loss: 156.4280 - mae: 156.9279 - val_loss: 71.8756 - val_mae: 72.3752\n",
            "Epoch 6/10\n",
            "512/512 [==============================] - 2s 3ms/step - loss: 231.4336 - mae: 231.9328 - val_loss: 78.1256 - val_mae: 78.6244\n",
            "Epoch 7/10\n",
            "512/512 [==============================] - 1s 3ms/step - loss: 221.1113 - mae: 221.6100 - val_loss: 81.6286 - val_mae: 82.1273\n",
            "Epoch 8/10\n",
            "512/512 [==============================] - 1s 3ms/step - loss: 303.9808 - mae: 304.4799 - val_loss: 104.2504 - val_mae: 104.7498\n",
            "Epoch 9/10\n",
            "512/512 [==============================] - 1s 3ms/step - loss: 402.7880 - mae: 403.2875 - val_loss: 152.5856 - val_mae: 153.0850\n",
            "Epoch 10/10\n",
            "512/512 [==============================] - 1s 3ms/step - loss: 399.9678 - mae: 400.4677 - val_loss: 188.6577 - val_mae: 189.1575\n",
            "Epoch 1/10\n",
            "1024/1024 [==============================] - 2s 2ms/step - loss: 16031.0127 - mae: 16031.5186 - val_loss: 7444.9053 - val_mae: 7445.4053\n",
            "Epoch 2/10\n",
            "1024/1024 [==============================] - 3s 2ms/step - loss: 27313.9863 - mae: 27314.4961 - val_loss: 4205.8721 - val_mae: 4206.3721\n",
            "Epoch 3/10\n",
            "1024/1024 [==============================] - 3s 2ms/step - loss: 30639.2715 - mae: 30639.7773 - val_loss: 307.8372 - val_mae: 308.3366\n",
            "Epoch 4/10\n",
            "1024/1024 [==============================] - 2s 2ms/step - loss: 16021.5684 - mae: 16022.0684 - val_loss: 8530.4102 - val_mae: 8530.9102\n",
            "Epoch 5/10\n",
            "1024/1024 [==============================] - 2s 2ms/step - loss: 29273.3926 - mae: 29273.9023 - val_loss: 2541.3567 - val_mae: 2541.8567\n",
            "Epoch 6/10\n",
            "1024/1024 [==============================] - 2s 2ms/step - loss: 26702.4141 - mae: 26702.9180 - val_loss: 365.5864 - val_mae: 366.0862\n",
            "Epoch 7/10\n",
            "1024/1024 [==============================] - 2s 2ms/step - loss: 10730.3145 - mae: 10730.8135 - val_loss: 5282.6353 - val_mae: 5283.1353\n",
            "Epoch 8/10\n",
            "1024/1024 [==============================] - 2s 2ms/step - loss: 15859.5615 - mae: 15860.0527 - val_loss: 6065.0156 - val_mae: 6065.5156\n",
            "Epoch 9/10\n",
            "1024/1024 [==============================] - 2s 2ms/step - loss: 29737.6582 - mae: 29738.1504 - val_loss: 3739.3384 - val_mae: 3739.8384\n",
            "Epoch 10/10\n",
            "1024/1024 [==============================] - 3s 2ms/step - loss: 20656.4453 - mae: 20656.9414 - val_loss: 2579.7722 - val_mae: 2580.2722\n",
            "Epoch 1/10\n",
            "2048/2048 [==============================] - 5s 2ms/step - loss: 62904964.0000 - mae: 62904964.0000 - val_loss: 2640227.5000 - val_mae: 2640227.7500\n",
            "Epoch 2/10\n",
            "2048/2048 [==============================] - 5s 2ms/step - loss: 486668608.0000 - mae: 486668608.0000 - val_loss: 2258783.0000 - val_mae: 2258783.5000\n",
            "Epoch 3/10\n",
            "2048/2048 [==============================] - 5s 2ms/step - loss: 224966432.0000 - mae: 224966432.0000 - val_loss: 2993878.2500 - val_mae: 2993879.0000\n",
            "Epoch 4/10\n",
            "2048/2048 [==============================] - 4s 2ms/step - loss: 432059520.0000 - mae: 432059520.0000 - val_loss: 2780277.7500 - val_mae: 2780278.0000\n",
            "Epoch 5/10\n",
            "2048/2048 [==============================] - 4s 2ms/step - loss: 220375680.0000 - mae: 220375680.0000 - val_loss: 2384367.0000 - val_mae: 2384367.5000\n",
            "Epoch 6/10\n",
            "2048/2048 [==============================] - 4s 2ms/step - loss: 352530432.0000 - mae: 352530432.0000 - val_loss: 2953742.5000 - val_mae: 2953743.0000\n",
            "Epoch 7/10\n",
            "2048/2048 [==============================] - 5s 2ms/step - loss: 330839488.0000 - mae: 330839488.0000 - val_loss: 2957066.0000 - val_mae: 2957067.0000\n",
            "Epoch 8/10\n",
            "2048/2048 [==============================] - 5s 2ms/step - loss: 307777312.0000 - mae: 307777312.0000 - val_loss: 2749094.7500 - val_mae: 2749095.5000\n",
            "Epoch 9/10\n",
            "2048/2048 [==============================] - 4s 2ms/step - loss: 318390624.0000 - mae: 318390624.0000 - val_loss: 2790648.5000 - val_mae: 2790649.0000\n",
            "Epoch 10/10\n",
            "2048/2048 [==============================] - 4s 2ms/step - loss: 282330080.0000 - mae: 282330080.0000 - val_loss: 2196573.0000 - val_mae: 2196573.2500\n",
            "Epoch 1/10\n",
            "4096/4096 [==============================] - 8s 2ms/step - loss: 126649918315036672.0000 - mae: 126649918315036672.0000 - val_loss: 14579666944.0000 - val_mae: 14579666944.0000\n",
            "Epoch 2/10\n",
            "4096/4096 [==============================] - 8s 2ms/step - loss: 215566985566617600.0000 - mae: 215566985566617600.0000 - val_loss: 6682140160.0000 - val_mae: 6682140160.0000\n",
            "Epoch 3/10\n",
            "4096/4096 [==============================] - 8s 2ms/step - loss: 180900672433029120.0000 - mae: 180900672433029120.0000 - val_loss: 9502248960.0000 - val_mae: 9502248960.0000\n",
            "Epoch 4/10\n",
            "4096/4096 [==============================] - 8s 2ms/step - loss: 228760145847386112.0000 - mae: 228760145847386112.0000 - val_loss: 31046350848.0000 - val_mae: 31046350848.0000\n",
            "Epoch 5/10\n",
            "4096/4096 [==============================] - 8s 2ms/step - loss: 205724415172804608.0000 - mae: 205724415172804608.0000 - val_loss: 35842957312.0000 - val_mae: 35842957312.0000\n",
            "Epoch 6/10\n",
            "4096/4096 [==============================] - 8s 2ms/step - loss: 181319070967136256.0000 - mae: 181319070967136256.0000 - val_loss: 37162545152.0000 - val_mae: 37162545152.0000\n",
            "Epoch 7/10\n",
            "4096/4096 [==============================] - 8s 2ms/step - loss: 174566162607112192.0000 - mae: 174566162607112192.0000 - val_loss: 38946504704.0000 - val_mae: 38946504704.0000\n",
            "Epoch 8/10\n",
            "4096/4096 [==============================] - 8s 2ms/step - loss: 167508964404101120.0000 - mae: 167508964404101120.0000 - val_loss: 44820226048.0000 - val_mae: 44820226048.0000\n",
            "Epoch 9/10\n",
            "4096/4096 [==============================] - 8s 2ms/step - loss: 149533203420413952.0000 - mae: 149533203420413952.0000 - val_loss: 33743994880.0000 - val_mae: 33743994880.0000\n",
            "Epoch 10/10\n",
            "4096/4096 [==============================] - 8s 2ms/step - loss: 142869192293482496.0000 - mae: 142869192293482496.0000 - val_loss: 31487168512.0000 - val_mae: 31487168512.0000\n",
            "Epoch 1/10\n",
            "8192/8192 [==============================] - 16s 2ms/step - loss: 10578226108314478012759339173937152.0000 - mae: 10578226108314478012759339173937152.0000 - val_loss: 11146266141230366720.0000 - val_mae: 11146266141230366720.0000\n",
            "Epoch 2/10\n",
            "8192/8192 [==============================] - 16s 2ms/step - loss: 28128580035485789148961541942411264.0000 - mae: 28128580035485789148961541942411264.0000 - val_loss: 4038259918216626176.0000 - val_mae: 4038259918216626176.0000\n",
            "Epoch 3/10\n",
            "7367/8192 [=========================>....] - ETA: 1s - loss: 5042617837869842120837511944077312.0000 - mae: 5042617837869842120837511944077312.0000"
          ],
          "name": "stdout"
        },
        {
          "output_type": "error",
          "ename": "KeyboardInterrupt",
          "evalue": "ignored",
          "traceback": [
            "\u001b[0;31m---------------------------------------------------------------------------\u001b[0m",
            "\u001b[0;31mKeyboardInterrupt\u001b[0m                         Traceback (most recent call last)",
            "\u001b[0;32m<ipython-input-33-384040a70bdf>\u001b[0m in \u001b[0;36m<module>\u001b[0;34m()\u001b[0m\n\u001b[1;32m      6\u001b[0m   \u001b[0mrein_data\u001b[0m\u001b[0;34m=\u001b[0m\u001b[0mnp\u001b[0m\u001b[0;34m.\u001b[0m\u001b[0mappend\u001b[0m\u001b[0;34m(\u001b[0m\u001b[0mrein_data\u001b[0m\u001b[0;34m[\u001b[0m\u001b[0;36m1\u001b[0m\u001b[0;34m:\u001b[0m\u001b[0;34m]\u001b[0m\u001b[0;34m,\u001b[0m\u001b[0mrein_forecast\u001b[0m\u001b[0;34m)\u001b[0m\u001b[0;34m\u001b[0m\u001b[0;34m\u001b[0m\u001b[0m\n\u001b[1;32m      7\u001b[0m   \u001b[0minput_rein\u001b[0m\u001b[0;34m=\u001b[0m\u001b[0mwindow_dataset\u001b[0m\u001b[0;34m(\u001b[0m\u001b[0mrein_data\u001b[0m\u001b[0;34m,\u001b[0m\u001b[0mwindow_size\u001b[0m\u001b[0;34m,\u001b[0m\u001b[0mbatch_size\u001b[0m\u001b[0;34m=\u001b[0m\u001b[0;36m1\u001b[0m\u001b[0;34m,\u001b[0m\u001b[0mshuffle_buffer\u001b[0m\u001b[0;34m=\u001b[0m\u001b[0;36m1\u001b[0m\u001b[0;34m)\u001b[0m\u001b[0;34m\u001b[0m\u001b[0;34m\u001b[0m\u001b[0m\n\u001b[0;32m----> 8\u001b[0;31m   \u001b[0mmodel\u001b[0m\u001b[0;34m.\u001b[0m\u001b[0mfit\u001b[0m\u001b[0;34m(\u001b[0m\u001b[0minput_rein\u001b[0m\u001b[0;34m,\u001b[0m\u001b[0mepochs\u001b[0m\u001b[0;34m=\u001b[0m\u001b[0;36m10\u001b[0m\u001b[0;34m,\u001b[0m\u001b[0mvalidation_data\u001b[0m\u001b[0;34m=\u001b[0m\u001b[0mvalid_data\u001b[0m\u001b[0;34m)\u001b[0m\u001b[0;34m\u001b[0m\u001b[0;34m\u001b[0m\u001b[0m\n\u001b[0m\u001b[1;32m      9\u001b[0m   \u001b[0mpred_rein\u001b[0m\u001b[0;34m[\u001b[0m\u001b[0mi\u001b[0m\u001b[0;34m]\u001b[0m\u001b[0;34m=\u001b[0m\u001b[0mrein_forecast\u001b[0m\u001b[0;34m[\u001b[0m\u001b[0;36m1\u001b[0m\u001b[0;34m]\u001b[0m\u001b[0;34m\u001b[0m\u001b[0;34m\u001b[0m\u001b[0m\n\u001b[1;32m     10\u001b[0m \u001b[0;34m\u001b[0m\u001b[0m\n",
            "\u001b[0;32m/usr/local/lib/python3.6/dist-packages/tensorflow/python/keras/engine/training.py\u001b[0m in \u001b[0;36m_method_wrapper\u001b[0;34m(self, *args, **kwargs)\u001b[0m\n\u001b[1;32m    106\u001b[0m   \u001b[0;32mdef\u001b[0m \u001b[0m_method_wrapper\u001b[0m\u001b[0;34m(\u001b[0m\u001b[0mself\u001b[0m\u001b[0;34m,\u001b[0m \u001b[0;34m*\u001b[0m\u001b[0margs\u001b[0m\u001b[0;34m,\u001b[0m \u001b[0;34m**\u001b[0m\u001b[0mkwargs\u001b[0m\u001b[0;34m)\u001b[0m\u001b[0;34m:\u001b[0m\u001b[0;34m\u001b[0m\u001b[0;34m\u001b[0m\u001b[0m\n\u001b[1;32m    107\u001b[0m     \u001b[0;32mif\u001b[0m \u001b[0;32mnot\u001b[0m \u001b[0mself\u001b[0m\u001b[0;34m.\u001b[0m\u001b[0m_in_multi_worker_mode\u001b[0m\u001b[0;34m(\u001b[0m\u001b[0;34m)\u001b[0m\u001b[0;34m:\u001b[0m  \u001b[0;31m# pylint: disable=protected-access\u001b[0m\u001b[0;34m\u001b[0m\u001b[0;34m\u001b[0m\u001b[0m\n\u001b[0;32m--> 108\u001b[0;31m       \u001b[0;32mreturn\u001b[0m \u001b[0mmethod\u001b[0m\u001b[0;34m(\u001b[0m\u001b[0mself\u001b[0m\u001b[0;34m,\u001b[0m \u001b[0;34m*\u001b[0m\u001b[0margs\u001b[0m\u001b[0;34m,\u001b[0m \u001b[0;34m**\u001b[0m\u001b[0mkwargs\u001b[0m\u001b[0;34m)\u001b[0m\u001b[0;34m\u001b[0m\u001b[0;34m\u001b[0m\u001b[0m\n\u001b[0m\u001b[1;32m    109\u001b[0m \u001b[0;34m\u001b[0m\u001b[0m\n\u001b[1;32m    110\u001b[0m     \u001b[0;31m# Running inside `run_distribute_coordinator` already.\u001b[0m\u001b[0;34m\u001b[0m\u001b[0;34m\u001b[0m\u001b[0;34m\u001b[0m\u001b[0m\n",
            "\u001b[0;32m/usr/local/lib/python3.6/dist-packages/tensorflow/python/keras/engine/training.py\u001b[0m in \u001b[0;36mfit\u001b[0;34m(self, x, y, batch_size, epochs, verbose, callbacks, validation_split, validation_data, shuffle, class_weight, sample_weight, initial_epoch, steps_per_epoch, validation_steps, validation_batch_size, validation_freq, max_queue_size, workers, use_multiprocessing)\u001b[0m\n\u001b[1;32m   1101\u001b[0m               \u001b[0mlogs\u001b[0m \u001b[0;34m=\u001b[0m \u001b[0mtmp_logs\u001b[0m  \u001b[0;31m# No error, now safe to assign to logs.\u001b[0m\u001b[0;34m\u001b[0m\u001b[0;34m\u001b[0m\u001b[0m\n\u001b[1;32m   1102\u001b[0m               \u001b[0mend_step\u001b[0m \u001b[0;34m=\u001b[0m \u001b[0mstep\u001b[0m \u001b[0;34m+\u001b[0m \u001b[0mdata_handler\u001b[0m\u001b[0;34m.\u001b[0m\u001b[0mstep_increment\u001b[0m\u001b[0;34m\u001b[0m\u001b[0;34m\u001b[0m\u001b[0m\n\u001b[0;32m-> 1103\u001b[0;31m               \u001b[0mcallbacks\u001b[0m\u001b[0;34m.\u001b[0m\u001b[0mon_train_batch_end\u001b[0m\u001b[0;34m(\u001b[0m\u001b[0mend_step\u001b[0m\u001b[0;34m,\u001b[0m \u001b[0mlogs\u001b[0m\u001b[0;34m)\u001b[0m\u001b[0;34m\u001b[0m\u001b[0;34m\u001b[0m\u001b[0m\n\u001b[0m\u001b[1;32m   1104\u001b[0m         \u001b[0mepoch_logs\u001b[0m \u001b[0;34m=\u001b[0m \u001b[0mcopy\u001b[0m\u001b[0;34m.\u001b[0m\u001b[0mcopy\u001b[0m\u001b[0;34m(\u001b[0m\u001b[0mlogs\u001b[0m\u001b[0;34m)\u001b[0m\u001b[0;34m\u001b[0m\u001b[0;34m\u001b[0m\u001b[0m\n\u001b[1;32m   1105\u001b[0m \u001b[0;34m\u001b[0m\u001b[0m\n",
            "\u001b[0;32m/usr/local/lib/python3.6/dist-packages/tensorflow/python/keras/callbacks.py\u001b[0m in \u001b[0;36mon_train_batch_end\u001b[0;34m(self, batch, logs)\u001b[0m\n\u001b[1;32m    438\u001b[0m     \"\"\"\n\u001b[1;32m    439\u001b[0m     \u001b[0;32mif\u001b[0m \u001b[0mself\u001b[0m\u001b[0;34m.\u001b[0m\u001b[0m_should_call_train_batch_hooks\u001b[0m\u001b[0;34m:\u001b[0m\u001b[0;34m\u001b[0m\u001b[0;34m\u001b[0m\u001b[0m\n\u001b[0;32m--> 440\u001b[0;31m       \u001b[0mself\u001b[0m\u001b[0;34m.\u001b[0m\u001b[0m_call_batch_hook\u001b[0m\u001b[0;34m(\u001b[0m\u001b[0mModeKeys\u001b[0m\u001b[0;34m.\u001b[0m\u001b[0mTRAIN\u001b[0m\u001b[0;34m,\u001b[0m \u001b[0;34m'end'\u001b[0m\u001b[0;34m,\u001b[0m \u001b[0mbatch\u001b[0m\u001b[0;34m,\u001b[0m \u001b[0mlogs\u001b[0m\u001b[0;34m=\u001b[0m\u001b[0mlogs\u001b[0m\u001b[0;34m)\u001b[0m\u001b[0;34m\u001b[0m\u001b[0;34m\u001b[0m\u001b[0m\n\u001b[0m\u001b[1;32m    441\u001b[0m \u001b[0;34m\u001b[0m\u001b[0m\n\u001b[1;32m    442\u001b[0m   \u001b[0;32mdef\u001b[0m \u001b[0mon_test_batch_begin\u001b[0m\u001b[0;34m(\u001b[0m\u001b[0mself\u001b[0m\u001b[0;34m,\u001b[0m \u001b[0mbatch\u001b[0m\u001b[0;34m,\u001b[0m \u001b[0mlogs\u001b[0m\u001b[0;34m=\u001b[0m\u001b[0;32mNone\u001b[0m\u001b[0;34m)\u001b[0m\u001b[0;34m:\u001b[0m\u001b[0;34m\u001b[0m\u001b[0;34m\u001b[0m\u001b[0m\n",
            "\u001b[0;32m/usr/local/lib/python3.6/dist-packages/tensorflow/python/keras/callbacks.py\u001b[0m in \u001b[0;36m_call_batch_hook\u001b[0;34m(self, mode, hook, batch, logs)\u001b[0m\n\u001b[1;32m    287\u001b[0m       \u001b[0mself\u001b[0m\u001b[0;34m.\u001b[0m\u001b[0m_call_batch_begin_hook\u001b[0m\u001b[0;34m(\u001b[0m\u001b[0mmode\u001b[0m\u001b[0;34m,\u001b[0m \u001b[0mbatch\u001b[0m\u001b[0;34m,\u001b[0m \u001b[0mlogs\u001b[0m\u001b[0;34m)\u001b[0m\u001b[0;34m\u001b[0m\u001b[0;34m\u001b[0m\u001b[0m\n\u001b[1;32m    288\u001b[0m     \u001b[0;32melif\u001b[0m \u001b[0mhook\u001b[0m \u001b[0;34m==\u001b[0m \u001b[0;34m'end'\u001b[0m\u001b[0;34m:\u001b[0m\u001b[0;34m\u001b[0m\u001b[0;34m\u001b[0m\u001b[0m\n\u001b[0;32m--> 289\u001b[0;31m       \u001b[0mself\u001b[0m\u001b[0;34m.\u001b[0m\u001b[0m_call_batch_end_hook\u001b[0m\u001b[0;34m(\u001b[0m\u001b[0mmode\u001b[0m\u001b[0;34m,\u001b[0m \u001b[0mbatch\u001b[0m\u001b[0;34m,\u001b[0m \u001b[0mlogs\u001b[0m\u001b[0;34m)\u001b[0m\u001b[0;34m\u001b[0m\u001b[0;34m\u001b[0m\u001b[0m\n\u001b[0m\u001b[1;32m    290\u001b[0m     \u001b[0;32melse\u001b[0m\u001b[0;34m:\u001b[0m\u001b[0;34m\u001b[0m\u001b[0;34m\u001b[0m\u001b[0m\n\u001b[1;32m    291\u001b[0m       \u001b[0;32mraise\u001b[0m \u001b[0mValueError\u001b[0m\u001b[0;34m(\u001b[0m\u001b[0;34m'Unrecognized hook: {}'\u001b[0m\u001b[0;34m.\u001b[0m\u001b[0mformat\u001b[0m\u001b[0;34m(\u001b[0m\u001b[0mhook\u001b[0m\u001b[0;34m)\u001b[0m\u001b[0;34m)\u001b[0m\u001b[0;34m\u001b[0m\u001b[0;34m\u001b[0m\u001b[0m\n",
            "\u001b[0;32m/usr/local/lib/python3.6/dist-packages/tensorflow/python/keras/callbacks.py\u001b[0m in \u001b[0;36m_call_batch_end_hook\u001b[0;34m(self, mode, batch, logs)\u001b[0m\n\u001b[1;32m    307\u001b[0m       \u001b[0mbatch_time\u001b[0m \u001b[0;34m=\u001b[0m \u001b[0mtime\u001b[0m\u001b[0;34m.\u001b[0m\u001b[0mtime\u001b[0m\u001b[0;34m(\u001b[0m\u001b[0;34m)\u001b[0m \u001b[0;34m-\u001b[0m \u001b[0mself\u001b[0m\u001b[0;34m.\u001b[0m\u001b[0m_batch_start_time\u001b[0m\u001b[0;34m\u001b[0m\u001b[0;34m\u001b[0m\u001b[0m\n\u001b[1;32m    308\u001b[0m \u001b[0;34m\u001b[0m\u001b[0m\n\u001b[0;32m--> 309\u001b[0;31m     \u001b[0mself\u001b[0m\u001b[0;34m.\u001b[0m\u001b[0m_call_batch_hook_helper\u001b[0m\u001b[0;34m(\u001b[0m\u001b[0mhook_name\u001b[0m\u001b[0;34m,\u001b[0m \u001b[0mbatch\u001b[0m\u001b[0;34m,\u001b[0m \u001b[0mlogs\u001b[0m\u001b[0;34m)\u001b[0m\u001b[0;34m\u001b[0m\u001b[0;34m\u001b[0m\u001b[0m\n\u001b[0m\u001b[1;32m    310\u001b[0m \u001b[0;34m\u001b[0m\u001b[0m\n\u001b[1;32m    311\u001b[0m     \u001b[0;32mif\u001b[0m \u001b[0mself\u001b[0m\u001b[0;34m.\u001b[0m\u001b[0m_check_timing\u001b[0m\u001b[0;34m:\u001b[0m\u001b[0;34m\u001b[0m\u001b[0;34m\u001b[0m\u001b[0m\n",
            "\u001b[0;32m/usr/local/lib/python3.6/dist-packages/tensorflow/python/keras/callbacks.py\u001b[0m in \u001b[0;36m_call_batch_hook_helper\u001b[0;34m(self, hook_name, batch, logs)\u001b[0m\n\u001b[1;32m    340\u001b[0m       \u001b[0mhook\u001b[0m \u001b[0;34m=\u001b[0m \u001b[0mgetattr\u001b[0m\u001b[0;34m(\u001b[0m\u001b[0mcallback\u001b[0m\u001b[0;34m,\u001b[0m \u001b[0mhook_name\u001b[0m\u001b[0;34m)\u001b[0m\u001b[0;34m\u001b[0m\u001b[0;34m\u001b[0m\u001b[0m\n\u001b[1;32m    341\u001b[0m       \u001b[0;32mif\u001b[0m \u001b[0mgetattr\u001b[0m\u001b[0;34m(\u001b[0m\u001b[0mcallback\u001b[0m\u001b[0;34m,\u001b[0m \u001b[0;34m'_supports_tf_logs'\u001b[0m\u001b[0;34m,\u001b[0m \u001b[0;32mFalse\u001b[0m\u001b[0;34m)\u001b[0m\u001b[0;34m:\u001b[0m\u001b[0;34m\u001b[0m\u001b[0;34m\u001b[0m\u001b[0m\n\u001b[0;32m--> 342\u001b[0;31m         \u001b[0mhook\u001b[0m\u001b[0;34m(\u001b[0m\u001b[0mbatch\u001b[0m\u001b[0;34m,\u001b[0m \u001b[0mlogs\u001b[0m\u001b[0;34m)\u001b[0m\u001b[0;34m\u001b[0m\u001b[0;34m\u001b[0m\u001b[0m\n\u001b[0m\u001b[1;32m    343\u001b[0m       \u001b[0;32melse\u001b[0m\u001b[0;34m:\u001b[0m\u001b[0;34m\u001b[0m\u001b[0;34m\u001b[0m\u001b[0m\n\u001b[1;32m    344\u001b[0m         \u001b[0;32mif\u001b[0m \u001b[0mnumpy_logs\u001b[0m \u001b[0;32mis\u001b[0m \u001b[0;32mNone\u001b[0m\u001b[0;34m:\u001b[0m  \u001b[0;31m# Only convert once.\u001b[0m\u001b[0;34m\u001b[0m\u001b[0;34m\u001b[0m\u001b[0m\n",
            "\u001b[0;32m/usr/local/lib/python3.6/dist-packages/tensorflow/python/keras/callbacks.py\u001b[0m in \u001b[0;36mon_train_batch_end\u001b[0;34m(self, batch, logs)\u001b[0m\n\u001b[1;32m    959\u001b[0m \u001b[0;34m\u001b[0m\u001b[0m\n\u001b[1;32m    960\u001b[0m   \u001b[0;32mdef\u001b[0m \u001b[0mon_train_batch_end\u001b[0m\u001b[0;34m(\u001b[0m\u001b[0mself\u001b[0m\u001b[0;34m,\u001b[0m \u001b[0mbatch\u001b[0m\u001b[0;34m,\u001b[0m \u001b[0mlogs\u001b[0m\u001b[0;34m=\u001b[0m\u001b[0;32mNone\u001b[0m\u001b[0;34m)\u001b[0m\u001b[0;34m:\u001b[0m\u001b[0;34m\u001b[0m\u001b[0;34m\u001b[0m\u001b[0m\n\u001b[0;32m--> 961\u001b[0;31m     \u001b[0mself\u001b[0m\u001b[0;34m.\u001b[0m\u001b[0m_batch_update_progbar\u001b[0m\u001b[0;34m(\u001b[0m\u001b[0mbatch\u001b[0m\u001b[0;34m,\u001b[0m \u001b[0mlogs\u001b[0m\u001b[0;34m)\u001b[0m\u001b[0;34m\u001b[0m\u001b[0;34m\u001b[0m\u001b[0m\n\u001b[0m\u001b[1;32m    962\u001b[0m \u001b[0;34m\u001b[0m\u001b[0m\n\u001b[1;32m    963\u001b[0m   \u001b[0;32mdef\u001b[0m \u001b[0mon_test_batch_end\u001b[0m\u001b[0;34m(\u001b[0m\u001b[0mself\u001b[0m\u001b[0;34m,\u001b[0m \u001b[0mbatch\u001b[0m\u001b[0;34m,\u001b[0m \u001b[0mlogs\u001b[0m\u001b[0;34m=\u001b[0m\u001b[0;32mNone\u001b[0m\u001b[0;34m)\u001b[0m\u001b[0;34m:\u001b[0m\u001b[0;34m\u001b[0m\u001b[0;34m\u001b[0m\u001b[0m\n",
            "\u001b[0;32m/usr/local/lib/python3.6/dist-packages/tensorflow/python/keras/callbacks.py\u001b[0m in \u001b[0;36m_batch_update_progbar\u001b[0;34m(self, batch, logs)\u001b[0m\n\u001b[1;32m   1014\u001b[0m     \u001b[0;32mif\u001b[0m \u001b[0mself\u001b[0m\u001b[0;34m.\u001b[0m\u001b[0mverbose\u001b[0m \u001b[0;34m==\u001b[0m \u001b[0;36m1\u001b[0m\u001b[0;34m:\u001b[0m\u001b[0;34m\u001b[0m\u001b[0;34m\u001b[0m\u001b[0m\n\u001b[1;32m   1015\u001b[0m       \u001b[0;31m# Only block async when verbose = 1.\u001b[0m\u001b[0;34m\u001b[0m\u001b[0;34m\u001b[0m\u001b[0;34m\u001b[0m\u001b[0m\n\u001b[0;32m-> 1016\u001b[0;31m       \u001b[0mlogs\u001b[0m \u001b[0;34m=\u001b[0m \u001b[0mtf_utils\u001b[0m\u001b[0;34m.\u001b[0m\u001b[0mto_numpy_or_python_type\u001b[0m\u001b[0;34m(\u001b[0m\u001b[0mlogs\u001b[0m\u001b[0;34m)\u001b[0m\u001b[0;34m\u001b[0m\u001b[0;34m\u001b[0m\u001b[0m\n\u001b[0m\u001b[1;32m   1017\u001b[0m       \u001b[0mself\u001b[0m\u001b[0;34m.\u001b[0m\u001b[0mprogbar\u001b[0m\u001b[0;34m.\u001b[0m\u001b[0mupdate\u001b[0m\u001b[0;34m(\u001b[0m\u001b[0mself\u001b[0m\u001b[0;34m.\u001b[0m\u001b[0mseen\u001b[0m\u001b[0;34m,\u001b[0m \u001b[0mlist\u001b[0m\u001b[0;34m(\u001b[0m\u001b[0mlogs\u001b[0m\u001b[0;34m.\u001b[0m\u001b[0mitems\u001b[0m\u001b[0;34m(\u001b[0m\u001b[0;34m)\u001b[0m\u001b[0;34m)\u001b[0m\u001b[0;34m,\u001b[0m \u001b[0mfinalize\u001b[0m\u001b[0;34m=\u001b[0m\u001b[0;32mFalse\u001b[0m\u001b[0;34m)\u001b[0m\u001b[0;34m\u001b[0m\u001b[0;34m\u001b[0m\u001b[0m\n\u001b[1;32m   1018\u001b[0m \u001b[0;34m\u001b[0m\u001b[0m\n",
            "\u001b[0;32m/usr/local/lib/python3.6/dist-packages/tensorflow/python/keras/utils/tf_utils.py\u001b[0m in \u001b[0;36mto_numpy_or_python_type\u001b[0;34m(tensors)\u001b[0m\n\u001b[1;32m    535\u001b[0m     \u001b[0;32mreturn\u001b[0m \u001b[0mt\u001b[0m  \u001b[0;31m# Don't turn ragged or sparse tensors to NumPy.\u001b[0m\u001b[0;34m\u001b[0m\u001b[0;34m\u001b[0m\u001b[0m\n\u001b[1;32m    536\u001b[0m \u001b[0;34m\u001b[0m\u001b[0m\n\u001b[0;32m--> 537\u001b[0;31m   \u001b[0;32mreturn\u001b[0m \u001b[0mnest\u001b[0m\u001b[0;34m.\u001b[0m\u001b[0mmap_structure\u001b[0m\u001b[0;34m(\u001b[0m\u001b[0m_to_single_numpy_or_python_type\u001b[0m\u001b[0;34m,\u001b[0m \u001b[0mtensors\u001b[0m\u001b[0;34m)\u001b[0m\u001b[0;34m\u001b[0m\u001b[0;34m\u001b[0m\u001b[0m\n\u001b[0m\u001b[1;32m    538\u001b[0m \u001b[0;34m\u001b[0m\u001b[0m\n\u001b[1;32m    539\u001b[0m \u001b[0;34m\u001b[0m\u001b[0m\n",
            "\u001b[0;32m/usr/local/lib/python3.6/dist-packages/tensorflow/python/util/nest.py\u001b[0m in \u001b[0;36mmap_structure\u001b[0;34m(func, *structure, **kwargs)\u001b[0m\n\u001b[1;32m    633\u001b[0m \u001b[0;34m\u001b[0m\u001b[0m\n\u001b[1;32m    634\u001b[0m   return pack_sequence_as(\n\u001b[0;32m--> 635\u001b[0;31m       \u001b[0mstructure\u001b[0m\u001b[0;34m[\u001b[0m\u001b[0;36m0\u001b[0m\u001b[0;34m]\u001b[0m\u001b[0;34m,\u001b[0m \u001b[0;34m[\u001b[0m\u001b[0mfunc\u001b[0m\u001b[0;34m(\u001b[0m\u001b[0;34m*\u001b[0m\u001b[0mx\u001b[0m\u001b[0;34m)\u001b[0m \u001b[0;32mfor\u001b[0m \u001b[0mx\u001b[0m \u001b[0;32min\u001b[0m \u001b[0mentries\u001b[0m\u001b[0;34m]\u001b[0m\u001b[0;34m,\u001b[0m\u001b[0;34m\u001b[0m\u001b[0;34m\u001b[0m\u001b[0m\n\u001b[0m\u001b[1;32m    636\u001b[0m       expand_composites=expand_composites)\n\u001b[1;32m    637\u001b[0m \u001b[0;34m\u001b[0m\u001b[0m\n",
            "\u001b[0;32m/usr/local/lib/python3.6/dist-packages/tensorflow/python/util/nest.py\u001b[0m in \u001b[0;36m<listcomp>\u001b[0;34m(.0)\u001b[0m\n\u001b[1;32m    633\u001b[0m \u001b[0;34m\u001b[0m\u001b[0m\n\u001b[1;32m    634\u001b[0m   return pack_sequence_as(\n\u001b[0;32m--> 635\u001b[0;31m       \u001b[0mstructure\u001b[0m\u001b[0;34m[\u001b[0m\u001b[0;36m0\u001b[0m\u001b[0;34m]\u001b[0m\u001b[0;34m,\u001b[0m \u001b[0;34m[\u001b[0m\u001b[0mfunc\u001b[0m\u001b[0;34m(\u001b[0m\u001b[0;34m*\u001b[0m\u001b[0mx\u001b[0m\u001b[0;34m)\u001b[0m \u001b[0;32mfor\u001b[0m \u001b[0mx\u001b[0m \u001b[0;32min\u001b[0m \u001b[0mentries\u001b[0m\u001b[0;34m]\u001b[0m\u001b[0;34m,\u001b[0m\u001b[0;34m\u001b[0m\u001b[0;34m\u001b[0m\u001b[0m\n\u001b[0m\u001b[1;32m    636\u001b[0m       expand_composites=expand_composites)\n\u001b[1;32m    637\u001b[0m \u001b[0;34m\u001b[0m\u001b[0m\n",
            "\u001b[0;32m/usr/local/lib/python3.6/dist-packages/tensorflow/python/keras/utils/tf_utils.py\u001b[0m in \u001b[0;36m_to_single_numpy_or_python_type\u001b[0;34m(t)\u001b[0m\n\u001b[1;32m    531\u001b[0m   \u001b[0;32mdef\u001b[0m \u001b[0m_to_single_numpy_or_python_type\u001b[0m\u001b[0;34m(\u001b[0m\u001b[0mt\u001b[0m\u001b[0;34m)\u001b[0m\u001b[0;34m:\u001b[0m\u001b[0;34m\u001b[0m\u001b[0;34m\u001b[0m\u001b[0m\n\u001b[1;32m    532\u001b[0m     \u001b[0;32mif\u001b[0m \u001b[0misinstance\u001b[0m\u001b[0;34m(\u001b[0m\u001b[0mt\u001b[0m\u001b[0;34m,\u001b[0m \u001b[0mops\u001b[0m\u001b[0;34m.\u001b[0m\u001b[0mTensor\u001b[0m\u001b[0;34m)\u001b[0m\u001b[0;34m:\u001b[0m\u001b[0;34m\u001b[0m\u001b[0;34m\u001b[0m\u001b[0m\n\u001b[0;32m--> 533\u001b[0;31m       \u001b[0mx\u001b[0m \u001b[0;34m=\u001b[0m \u001b[0mt\u001b[0m\u001b[0;34m.\u001b[0m\u001b[0mnumpy\u001b[0m\u001b[0;34m(\u001b[0m\u001b[0;34m)\u001b[0m\u001b[0;34m\u001b[0m\u001b[0;34m\u001b[0m\u001b[0m\n\u001b[0m\u001b[1;32m    534\u001b[0m       \u001b[0;32mreturn\u001b[0m \u001b[0mx\u001b[0m\u001b[0;34m.\u001b[0m\u001b[0mitem\u001b[0m\u001b[0;34m(\u001b[0m\u001b[0;34m)\u001b[0m \u001b[0;32mif\u001b[0m \u001b[0mnp\u001b[0m\u001b[0;34m.\u001b[0m\u001b[0mndim\u001b[0m\u001b[0;34m(\u001b[0m\u001b[0mx\u001b[0m\u001b[0;34m)\u001b[0m \u001b[0;34m==\u001b[0m \u001b[0;36m0\u001b[0m \u001b[0;32melse\u001b[0m \u001b[0mx\u001b[0m\u001b[0;34m\u001b[0m\u001b[0;34m\u001b[0m\u001b[0m\n\u001b[1;32m    535\u001b[0m     \u001b[0;32mreturn\u001b[0m \u001b[0mt\u001b[0m  \u001b[0;31m# Don't turn ragged or sparse tensors to NumPy.\u001b[0m\u001b[0;34m\u001b[0m\u001b[0;34m\u001b[0m\u001b[0m\n",
            "\u001b[0;32m/usr/local/lib/python3.6/dist-packages/tensorflow/python/framework/ops.py\u001b[0m in \u001b[0;36mnumpy\u001b[0;34m(self)\u001b[0m\n\u001b[1;32m   1061\u001b[0m     \"\"\"\n\u001b[1;32m   1062\u001b[0m     \u001b[0;31m# TODO(slebedev): Consider avoiding a copy for non-CPU or remote tensors.\u001b[0m\u001b[0;34m\u001b[0m\u001b[0;34m\u001b[0m\u001b[0;34m\u001b[0m\u001b[0m\n\u001b[0;32m-> 1063\u001b[0;31m     \u001b[0mmaybe_arr\u001b[0m \u001b[0;34m=\u001b[0m \u001b[0mself\u001b[0m\u001b[0;34m.\u001b[0m\u001b[0m_numpy\u001b[0m\u001b[0;34m(\u001b[0m\u001b[0;34m)\u001b[0m  \u001b[0;31m# pylint: disable=protected-access\u001b[0m\u001b[0;34m\u001b[0m\u001b[0;34m\u001b[0m\u001b[0m\n\u001b[0m\u001b[1;32m   1064\u001b[0m     \u001b[0;32mreturn\u001b[0m \u001b[0mmaybe_arr\u001b[0m\u001b[0;34m.\u001b[0m\u001b[0mcopy\u001b[0m\u001b[0;34m(\u001b[0m\u001b[0;34m)\u001b[0m \u001b[0;32mif\u001b[0m \u001b[0misinstance\u001b[0m\u001b[0;34m(\u001b[0m\u001b[0mmaybe_arr\u001b[0m\u001b[0;34m,\u001b[0m \u001b[0mnp\u001b[0m\u001b[0;34m.\u001b[0m\u001b[0mndarray\u001b[0m\u001b[0;34m)\u001b[0m \u001b[0;32melse\u001b[0m \u001b[0mmaybe_arr\u001b[0m\u001b[0;34m\u001b[0m\u001b[0;34m\u001b[0m\u001b[0m\n\u001b[1;32m   1065\u001b[0m \u001b[0;34m\u001b[0m\u001b[0m\n",
            "\u001b[0;32m/usr/local/lib/python3.6/dist-packages/tensorflow/python/framework/ops.py\u001b[0m in \u001b[0;36m_numpy\u001b[0;34m(self)\u001b[0m\n\u001b[1;32m   1027\u001b[0m   \u001b[0;32mdef\u001b[0m \u001b[0m_numpy\u001b[0m\u001b[0;34m(\u001b[0m\u001b[0mself\u001b[0m\u001b[0;34m)\u001b[0m\u001b[0;34m:\u001b[0m\u001b[0;34m\u001b[0m\u001b[0;34m\u001b[0m\u001b[0m\n\u001b[1;32m   1028\u001b[0m     \u001b[0;32mtry\u001b[0m\u001b[0;34m:\u001b[0m\u001b[0;34m\u001b[0m\u001b[0;34m\u001b[0m\u001b[0m\n\u001b[0;32m-> 1029\u001b[0;31m       \u001b[0;32mreturn\u001b[0m \u001b[0mself\u001b[0m\u001b[0;34m.\u001b[0m\u001b[0m_numpy_internal\u001b[0m\u001b[0;34m(\u001b[0m\u001b[0;34m)\u001b[0m\u001b[0;34m\u001b[0m\u001b[0;34m\u001b[0m\u001b[0m\n\u001b[0m\u001b[1;32m   1030\u001b[0m     \u001b[0;32mexcept\u001b[0m \u001b[0mcore\u001b[0m\u001b[0;34m.\u001b[0m\u001b[0m_NotOkStatusException\u001b[0m \u001b[0;32mas\u001b[0m \u001b[0me\u001b[0m\u001b[0;34m:\u001b[0m  \u001b[0;31m# pylint: disable=protected-access\u001b[0m\u001b[0;34m\u001b[0m\u001b[0;34m\u001b[0m\u001b[0m\n\u001b[1;32m   1031\u001b[0m       \u001b[0msix\u001b[0m\u001b[0;34m.\u001b[0m\u001b[0mraise_from\u001b[0m\u001b[0;34m(\u001b[0m\u001b[0mcore\u001b[0m\u001b[0;34m.\u001b[0m\u001b[0m_status_to_exception\u001b[0m\u001b[0;34m(\u001b[0m\u001b[0me\u001b[0m\u001b[0;34m.\u001b[0m\u001b[0mcode\u001b[0m\u001b[0;34m,\u001b[0m \u001b[0me\u001b[0m\u001b[0;34m.\u001b[0m\u001b[0mmessage\u001b[0m\u001b[0;34m)\u001b[0m\u001b[0;34m,\u001b[0m \u001b[0;32mNone\u001b[0m\u001b[0;34m)\u001b[0m  \u001b[0;31m# pylint: disable=protected-access\u001b[0m\u001b[0;34m\u001b[0m\u001b[0;34m\u001b[0m\u001b[0m\n",
            "\u001b[0;31mKeyboardInterrupt\u001b[0m: "
          ]
        }
      ]
    },
    {
      "cell_type": "code",
      "metadata": {
        "id": "pJdalJDt3MlN",
        "outputId": "bf635e07-dd9d-4950-fb28-87637e3266a0",
        "colab": {
          "base_uri": "https://localhost:8080/",
          "height": 34
        }
      },
      "source": [
        "rein_forecast.size"
      ],
      "execution_count": 35,
      "outputs": [
        {
          "output_type": "execute_result",
          "data": {
            "text/plain": [
              "4097"
            ]
          },
          "metadata": {
            "tags": []
          },
          "execution_count": 35
        }
      ]
    },
    {
      "cell_type": "code",
      "metadata": {
        "id": "Gtbylndn5E_R"
      },
      "source": [
        "plt.clf()\n",
        "plt.plot(data_np[9700:-1,1])\n",
        "plt.show()\n",
        "plt.plot(pred_rein)\n",
        "plt.show()"
      ],
      "execution_count": null,
      "outputs": []
    },
    {
      "cell_type": "code",
      "metadata": {
        "id": "TP55iNjM7o9y"
      },
      "source": [
        "input_rein=window_dataset(initial_data,window_size,batch_size=1,shuffle_buffer=1)"
      ],
      "execution_count": null,
      "outputs": []
    },
    {
      "cell_type": "code",
      "metadata": {
        "id": "LVaeQpCa8GeC"
      },
      "source": [
        "model.fit(input_rein,epochs=2)"
      ],
      "execution_count": null,
      "outputs": []
    },
    {
      "cell_type": "code",
      "metadata": {
        "id": "hiQzzs1O7MN9"
      },
      "source": [
        "input_rein.take(1)"
      ],
      "execution_count": null,
      "outputs": []
    },
    {
      "cell_type": "code",
      "metadata": {
        "id": "3aJiw7jU7P0n"
      },
      "source": [
        "train_data"
      ],
      "execution_count": null,
      "outputs": []
    },
    {
      "cell_type": "code",
      "metadata": {
        "id": "bRPD1ZVP7a88"
      },
      "source": [
        "for i in range(len(pred_rein)):\n",
        "  print(pred_rein[i])"
      ],
      "execution_count": null,
      "outputs": []
    },
    {
      "cell_type": "code",
      "metadata": {
        "id": "XlZMTCvG7wwP"
      },
      "source": [
        ""
      ],
      "execution_count": null,
      "outputs": []
    },
    {
      "cell_type": "code",
      "metadata": {
        "id": "UCb-1Hyq8TkF"
      },
      "source": [
        ""
      ],
      "execution_count": null,
      "outputs": []
    }
  ]
}