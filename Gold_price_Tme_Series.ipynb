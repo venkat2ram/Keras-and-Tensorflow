{
  "nbformat": 4,
  "nbformat_minor": 0,
  "metadata": {
    "colab": {
      "name": "Gold_price_Tme_Series.ipynb",
      "provenance": [],
      "authorship_tag": "ABX9TyNzr+LcW2wu0B56RP+v4ip+",
      "include_colab_link": true
    },
    "kernelspec": {
      "name": "python3",
      "display_name": "Python 3"
    }
  },
  "cells": [
    {
      "cell_type": "markdown",
      "metadata": {
        "id": "view-in-github",
        "colab_type": "text"
      },
      "source": [
        "<a href=\"https://colab.research.google.com/github/venkat2ram/Keras-and-Tensorflow/blob/master/Gold_price_Tme_Series.ipynb\" target=\"_parent\"><img src=\"https://colab.research.google.com/assets/colab-badge.svg\" alt=\"Open In Colab\"/></a>"
      ]
    },
    {
      "cell_type": "code",
      "metadata": {
        "id": "n-dyR_JZ1GXc",
        "colab_type": "code",
        "colab": {
          "base_uri": "https://localhost:8080/",
          "height": 70
        },
        "outputId": "dff55d82-002b-4d8a-940c-3e13f1ad8bb3"
      },
      "source": [
        "import pandas as pd\n",
        "import numpy as np\n",
        "import tensorflow as tf\n",
        "import tensorflow.keras as keras\n",
        "import matplotlib.pyplot as plt\n",
        "from statsmodels.tsa.seasonal import seasonal_decompose"
      ],
      "execution_count": 1,
      "outputs": [
        {
          "output_type": "stream",
          "text": [
            "/usr/local/lib/python3.6/dist-packages/statsmodels/tools/_testing.py:19: FutureWarning: pandas.util.testing is deprecated. Use the functions in the public API at pandas.testing instead.\n",
            "  import pandas.util.testing as tm\n"
          ],
          "name": "stderr"
        }
      ]
    },
    {
      "cell_type": "code",
      "metadata": {
        "id": "6i6nzBnv1eWz",
        "colab_type": "code",
        "colab": {}
      },
      "source": [
        "#data_pd=pd.read_csv(\"/content/Gold_Prices.csv\")\n",
        "data_pd=pd.read_csv(\"/content/Hasbros_Stock_History.csv\")"
      ],
      "execution_count": 2,
      "outputs": []
    },
    {
      "cell_type": "code",
      "metadata": {
        "id": "FjgdpknG13B-",
        "colab_type": "code",
        "colab": {
          "base_uri": "https://localhost:8080/",
          "height": 195
        },
        "outputId": "33aae79c-ef15-4cc5-d47c-ea7a0ae3334d"
      },
      "source": [
        "data_pd.head()"
      ],
      "execution_count": 3,
      "outputs": [
        {
          "output_type": "execute_result",
          "data": {
            "text/html": [
              "<div>\n",
              "<style scoped>\n",
              "    .dataframe tbody tr th:only-of-type {\n",
              "        vertical-align: middle;\n",
              "    }\n",
              "\n",
              "    .dataframe tbody tr th {\n",
              "        vertical-align: top;\n",
              "    }\n",
              "\n",
              "    .dataframe thead th {\n",
              "        text-align: right;\n",
              "    }\n",
              "</style>\n",
              "<table border=\"1\" class=\"dataframe\">\n",
              "  <thead>\n",
              "    <tr style=\"text-align: right;\">\n",
              "      <th></th>\n",
              "      <th>Day</th>\n",
              "      <th>Price</th>\n",
              "    </tr>\n",
              "  </thead>\n",
              "  <tbody>\n",
              "    <tr>\n",
              "      <th>0</th>\n",
              "      <td>1</td>\n",
              "      <td>0.10535</td>\n",
              "    </tr>\n",
              "    <tr>\n",
              "      <th>1</th>\n",
              "      <td>2</td>\n",
              "      <td>0.09877</td>\n",
              "    </tr>\n",
              "    <tr>\n",
              "      <th>2</th>\n",
              "      <td>3</td>\n",
              "      <td>0.10974</td>\n",
              "    </tr>\n",
              "    <tr>\n",
              "      <th>3</th>\n",
              "      <td>4</td>\n",
              "      <td>0.10755</td>\n",
              "    </tr>\n",
              "    <tr>\n",
              "      <th>4</th>\n",
              "      <td>5</td>\n",
              "      <td>0.10535</td>\n",
              "    </tr>\n",
              "  </tbody>\n",
              "</table>\n",
              "</div>"
            ],
            "text/plain": [
              "   Day    Price\n",
              "0    1  0.10535\n",
              "1    2  0.09877\n",
              "2    3  0.10974\n",
              "3    4  0.10755\n",
              "4    5  0.10535"
            ]
          },
          "metadata": {
            "tags": []
          },
          "execution_count": 3
        }
      ]
    },
    {
      "cell_type": "code",
      "metadata": {
        "id": "y27zF_1m2eR7",
        "colab_type": "code",
        "colab": {}
      },
      "source": [
        "data_np=data_pd.to_numpy()"
      ],
      "execution_count": 4,
      "outputs": []
    },
    {
      "cell_type": "code",
      "metadata": {
        "id": "mSmm5Yfz2pPK",
        "colab_type": "code",
        "colab": {
          "base_uri": "https://localhost:8080/",
          "height": 134
        },
        "outputId": "17d4b6de-2e85-4ff3-a8c3-de433d6e3400"
      },
      "source": [
        "data_np"
      ],
      "execution_count": 5,
      "outputs": [
        {
          "output_type": "execute_result",
          "data": {
            "text/plain": [
              "array([[1.0000e+00, 1.0535e-01],\n",
              "       [2.0000e+00, 9.8770e-02],\n",
              "       [3.0000e+00, 1.0974e-01],\n",
              "       ...,\n",
              "       [1.0214e+04, 7.8510e+01],\n",
              "       [1.0215e+04, 8.0410e+01],\n",
              "       [1.0216e+04, 7.9910e+01]])"
            ]
          },
          "metadata": {
            "tags": []
          },
          "execution_count": 5
        }
      ]
    },
    {
      "cell_type": "code",
      "metadata": {
        "id": "zxYtJy6z5T-R",
        "colab_type": "code",
        "colab": {
          "base_uri": "https://localhost:8080/",
          "height": 282
        },
        "outputId": "0b885b79-219f-457e-da25-2bb7f7f5d26c"
      },
      "source": [
        "plt.plot(data_np[5000:7000,1])"
      ],
      "execution_count": 6,
      "outputs": [
        {
          "output_type": "execute_result",
          "data": {
            "text/plain": [
              "[<matplotlib.lines.Line2D at 0x7fec41c397b8>]"
            ]
          },
          "metadata": {
            "tags": []
          },
          "execution_count": 6
        },
        {
          "output_type": "display_data",
          "data": {
            "image/png": "[encoded data removed]",
            "text/plain": [
              "<Figure size 432x288 with 1 Axes>"
            ]
          },
          "metadata": {
            "tags": [],
            "needs_background": "light"
          }
        }
      ]
    },
    {
      "cell_type": "code",
      "metadata": {
        "id": "hmtLCus12tAs",
        "colab_type": "code",
        "colab": {}
      },
      "source": [
        "decomp=seasonal_decompose(data_np[9283:10036,1],freq=261,model='additive')\n",
        "decomp.plot()"
      ],
      "execution_count": null,
      "outputs": []
    },
    {
      "cell_type": "code",
      "metadata": {
        "id": "BFaf3WF-3BnF",
        "colab_type": "code",
        "colab": {}
      },
      "source": [
        "def window_dataset(series, window_size, batch_size=32,\n",
        "                   shuffle_buffer=1000):\n",
        "    dataset = tf.data.Dataset.from_tensor_slices(series)\n",
        "    dataset = dataset.window(window_size + 1, shift=1, drop_remainder=True)\n",
        "    dataset = dataset.flat_map(lambda window: window.batch(window_size + 1))\n",
        "    dataset = dataset.shuffle(shuffle_buffer)\n",
        "    dataset = dataset.map(lambda window: (window[:-1], window[-1]))\n",
        "    dataset = dataset.batch(batch_size).prefetch(1)\n",
        "    return dataset"
      ],
      "execution_count": 65,
      "outputs": []
    },
    {
      "cell_type": "code",
      "metadata": {
        "id": "8TM1ojSI3qjW",
        "colab_type": "code",
        "colab": {}
      },
      "source": [
        "time=data_np[:8000,0]\n",
        "series=data_np[:8000,1]\n",
        "split_time = 6000\n",
        "train_time=time[:split_time]\n",
        "valid_time=time[split_time:]\n",
        "train_series=series[:split_time]\n",
        "valid_series=series[split_time:]"
      ],
      "execution_count": 98,
      "outputs": []
    },
    {
      "cell_type": "code",
      "metadata": {
        "id": "eXY_g5Yr-7uL",
        "colab_type": "code",
        "colab": {}
      },
      "source": [
        "window_size=90\n",
        "train_data=window_dataset(train_series,window_size)\n",
        "valid_data=window_dataset(valid_series,window_size)"
      ],
      "execution_count": 99,
      "outputs": []
    },
    {
      "cell_type": "code",
      "metadata": {
        "id": "VJrbKEVS_Gd5",
        "colab_type": "code",
        "colab": {}
      },
      "source": [
        "keras.backend.clear_session()"
      ],
      "execution_count": 100,
      "outputs": []
    },
    {
      "cell_type": "code",
      "metadata": {
        "id": "RLA2bm9Q_NZZ",
        "colab_type": "code",
        "colab": {}
      },
      "source": [
        "model=tf.keras.Sequential([tf.keras.layers.Dense(1,input_shape=[window_size])])"
      ],
      "execution_count": 101,
      "outputs": []
    },
    {
      "cell_type": "code",
      "metadata": {
        "id": "VUvFuwXz_PGh",
        "colab_type": "code",
        "colab": {}
      },
      "source": [
        "model.compile(optimizer=tf.keras.optimizers.SGD(learning_rate=0.0001,momentum=0.9),loss=keras.losses.Huber(),metrics=[\"mae\"])"
      ],
      "execution_count": 102,
      "outputs": []
    },
    {
      "cell_type": "code",
      "metadata": {
        "id": "fomDdCB9_ZKf",
        "colab_type": "code",
        "colab": {
          "base_uri": "https://localhost:8080/",
          "height": 185
        },
        "outputId": "55bb54f8-30d7-48bb-c360-306a1652fd6a"
      },
      "source": [
        "model.summary()"
      ],
      "execution_count": 103,
      "outputs": [
        {
          "output_type": "stream",
          "text": [
            "Model: \"sequential\"\n",
            "_________________________________________________________________\n",
            "Layer (type)                 Output Shape              Param #   \n",
            "=================================================================\n",
            "dense (Dense)                (None, 1)                 91        \n",
            "=================================================================\n",
            "Total params: 91\n",
            "Trainable params: 91\n",
            "Non-trainable params: 0\n",
            "_________________________________________________________________\n"
          ],
          "name": "stdout"
        }
      ]
    },
    {
      "cell_type": "code",
      "metadata": {
        "id": "02GReDft_rFl",
        "colab_type": "code",
        "colab": {
          "base_uri": "https://localhost:8080/",
          "height": 1000
        },
        "outputId": "2b4491ab-9f73-4d93-874f-09cb2a0e2036"
      },
      "source": [
        "model.fit(train_data,epochs=100,validation_data=valid_data)"
      ],
      "execution_count": 104,
      "outputs": [
        {
          "output_type": "stream",
          "text": [
            "Epoch 1/100\n",
            "185/185 [==============================] - 2s 11ms/step - loss: 0.9187 - mae: 1.2913 - val_loss: 1.7103 - val_mae: 2.1634\n",
            "Epoch 2/100\n",
            "185/185 [==============================] - 2s 11ms/step - loss: 0.3478 - mae: 0.6385 - val_loss: 0.6940 - val_mae: 1.0773\n",
            "Epoch 3/100\n",
            "185/185 [==============================] - 2s 10ms/step - loss: 0.2666 - mae: 0.5262 - val_loss: 1.0446 - val_mae: 1.4897\n",
            "Epoch 4/100\n",
            "185/185 [==============================] - 2s 10ms/step - loss: 0.2685 - mae: 0.5222 - val_loss: 0.6037 - val_mae: 0.9842\n",
            "Epoch 5/100\n",
            "185/185 [==============================] - 2s 10ms/step - loss: 0.2775 - mae: 0.5489 - val_loss: 0.8417 - val_mae: 1.2645\n",
            "Epoch 6/100\n",
            "185/185 [==============================] - 2s 10ms/step - loss: 0.2312 - mae: 0.4988 - val_loss: 0.4711 - val_mae: 0.8217\n",
            "Epoch 7/100\n",
            "185/185 [==============================] - 2s 10ms/step - loss: 0.2019 - mae: 0.4414 - val_loss: 0.9735 - val_mae: 1.4222\n",
            "Epoch 8/100\n",
            "185/185 [==============================] - 2s 11ms/step - loss: 0.2363 - mae: 0.5050 - val_loss: 0.4308 - val_mae: 0.7762\n",
            "Epoch 9/100\n",
            "185/185 [==============================] - 2s 12ms/step - loss: 0.1782 - mae: 0.4118 - val_loss: 0.4196 - val_mae: 0.7608\n",
            "Epoch 10/100\n",
            "185/185 [==============================] - 2s 11ms/step - loss: 0.1858 - mae: 0.4202 - val_loss: 0.3986 - val_mae: 0.7361\n",
            "Epoch 11/100\n",
            "185/185 [==============================] - 2s 10ms/step - loss: 0.1960 - mae: 0.4394 - val_loss: 1.5845 - val_mae: 2.0701\n",
            "Epoch 12/100\n",
            "185/185 [==============================] - 2s 10ms/step - loss: 0.1882 - mae: 0.4326 - val_loss: 0.5247 - val_mae: 0.9031\n",
            "Epoch 13/100\n",
            "185/185 [==============================] - 2s 10ms/step - loss: 0.2002 - mae: 0.4540 - val_loss: 0.3926 - val_mae: 0.7326\n",
            "Epoch 14/100\n",
            "185/185 [==============================] - 2s 10ms/step - loss: 0.1817 - mae: 0.4104 - val_loss: 1.8030 - val_mae: 2.2953\n",
            "Epoch 15/100\n",
            "185/185 [==============================] - 2s 9ms/step - loss: 0.1599 - mae: 0.3929 - val_loss: 1.1461 - val_mae: 1.6161\n",
            "Epoch 16/100\n",
            "185/185 [==============================] - 2s 10ms/step - loss: 0.2146 - mae: 0.4684 - val_loss: 0.7516 - val_mae: 1.1852\n",
            "Epoch 17/100\n",
            "185/185 [==============================] - 2s 9ms/step - loss: 0.2040 - mae: 0.4590 - val_loss: 0.4549 - val_mae: 0.8217\n",
            "Epoch 18/100\n",
            "185/185 [==============================] - 2s 9ms/step - loss: 0.1288 - mae: 0.3375 - val_loss: 0.3291 - val_mae: 0.6521\n",
            "Epoch 19/100\n",
            "185/185 [==============================] - 2s 10ms/step - loss: 0.1390 - mae: 0.3517 - val_loss: 0.3456 - val_mae: 0.6795\n",
            "Epoch 20/100\n",
            "185/185 [==============================] - 2s 10ms/step - loss: 0.2172 - mae: 0.4564 - val_loss: 0.3419 - val_mae: 0.6741\n",
            "Epoch 21/100\n",
            "185/185 [==============================] - 2s 9ms/step - loss: 0.1945 - mae: 0.4277 - val_loss: 1.0677 - val_mae: 1.5372\n",
            "Epoch 22/100\n",
            "185/185 [==============================] - 2s 10ms/step - loss: 0.1484 - mae: 0.3779 - val_loss: 0.6343 - val_mae: 1.0536\n",
            "Epoch 23/100\n",
            "185/185 [==============================] - 2s 9ms/step - loss: 0.1549 - mae: 0.3698 - val_loss: 0.6382 - val_mae: 1.0563\n",
            "Epoch 24/100\n",
            "185/185 [==============================] - 2s 9ms/step - loss: 0.1312 - mae: 0.3505 - val_loss: 0.2875 - val_mae: 0.5980\n",
            "Epoch 25/100\n",
            "185/185 [==============================] - 2s 9ms/step - loss: 0.1296 - mae: 0.3463 - val_loss: 1.1717 - val_mae: 1.6503\n",
            "Epoch 26/100\n",
            "185/185 [==============================] - 2s 9ms/step - loss: 0.1305 - mae: 0.3362 - val_loss: 0.7824 - val_mae: 1.2279\n",
            "Epoch 27/100\n",
            "185/185 [==============================] - 2s 10ms/step - loss: 0.1333 - mae: 0.3575 - val_loss: 0.4639 - val_mae: 0.8461\n",
            "Epoch 28/100\n",
            "185/185 [==============================] - 2s 10ms/step - loss: 0.2391 - mae: 0.4748 - val_loss: 1.9337 - val_mae: 2.4310\n",
            "Epoch 29/100\n",
            "185/185 [==============================] - 2s 9ms/step - loss: 0.2558 - mae: 0.5311 - val_loss: 0.4105 - val_mae: 0.7742\n",
            "Epoch 30/100\n",
            "185/185 [==============================] - 2s 10ms/step - loss: 0.1437 - mae: 0.3519 - val_loss: 0.4119 - val_mae: 0.7789\n",
            "Epoch 31/100\n",
            "185/185 [==============================] - 2s 9ms/step - loss: 0.1634 - mae: 0.3914 - val_loss: 0.6508 - val_mae: 1.0785\n",
            "Epoch 32/100\n",
            "185/185 [==============================] - 2s 9ms/step - loss: 0.1775 - mae: 0.4161 - val_loss: 1.4377 - val_mae: 1.9282\n",
            "Epoch 33/100\n",
            "185/185 [==============================] - 2s 10ms/step - loss: 0.1485 - mae: 0.3740 - val_loss: 0.5440 - val_mae: 0.9488\n",
            "Epoch 34/100\n",
            "185/185 [==============================] - 2s 10ms/step - loss: 0.1420 - mae: 0.3636 - val_loss: 0.2973 - val_mae: 0.6167\n",
            "Epoch 35/100\n",
            "185/185 [==============================] - 2s 10ms/step - loss: 0.1002 - mae: 0.2931 - val_loss: 2.1885 - val_mae: 2.6871\n",
            "Epoch 36/100\n",
            "185/185 [==============================] - 2s 9ms/step - loss: 0.1790 - mae: 0.4211 - val_loss: 0.9908 - val_mae: 1.4608\n",
            "Epoch 37/100\n",
            "185/185 [==============================] - 2s 10ms/step - loss: 0.2230 - mae: 0.4657 - val_loss: 1.4336 - val_mae: 1.9248\n",
            "Epoch 38/100\n",
            "185/185 [==============================] - 2s 10ms/step - loss: 0.1727 - mae: 0.3862 - val_loss: 0.6372 - val_mae: 1.0631\n",
            "Epoch 39/100\n",
            "185/185 [==============================] - 2s 10ms/step - loss: 0.1072 - mae: 0.2996 - val_loss: 0.3413 - val_mae: 0.6846\n",
            "Epoch 40/100\n",
            "185/185 [==============================] - 2s 10ms/step - loss: 0.0897 - mae: 0.2826 - val_loss: 0.2513 - val_mae: 0.5501\n",
            "Epoch 41/100\n",
            "185/185 [==============================] - 2s 10ms/step - loss: 0.1074 - mae: 0.3100 - val_loss: 0.4455 - val_mae: 0.8309\n",
            "Epoch 42/100\n",
            "185/185 [==============================] - 2s 11ms/step - loss: 0.1644 - mae: 0.3885 - val_loss: 0.5449 - val_mae: 0.9563\n",
            "Epoch 43/100\n",
            "185/185 [==============================] - 2s 10ms/step - loss: 0.2327 - mae: 0.4867 - val_loss: 1.0918 - val_mae: 1.5698\n",
            "Epoch 44/100\n",
            "185/185 [==============================] - 2s 10ms/step - loss: 0.1190 - mae: 0.3366 - val_loss: 0.2391 - val_mae: 0.5332\n",
            "Epoch 45/100\n",
            "185/185 [==============================] - 2s 10ms/step - loss: 0.1313 - mae: 0.3335 - val_loss: 1.4826 - val_mae: 1.9736\n",
            "Epoch 46/100\n",
            "185/185 [==============================] - 2s 10ms/step - loss: 0.1432 - mae: 0.3690 - val_loss: 0.6361 - val_mae: 1.0658\n",
            "Epoch 47/100\n",
            "185/185 [==============================] - 2s 10ms/step - loss: 0.1374 - mae: 0.3499 - val_loss: 0.7780 - val_mae: 1.2289\n",
            "Epoch 48/100\n",
            "185/185 [==============================] - 2s 9ms/step - loss: 0.1546 - mae: 0.3636 - val_loss: 0.4605 - val_mae: 0.8505\n",
            "Epoch 49/100\n",
            "185/185 [==============================] - 2s 9ms/step - loss: 0.1633 - mae: 0.3888 - val_loss: 0.7459 - val_mae: 1.1933\n",
            "Epoch 50/100\n",
            "185/185 [==============================] - 2s 9ms/step - loss: 0.1011 - mae: 0.3112 - val_loss: 0.4110 - val_mae: 0.7848\n",
            "Epoch 51/100\n",
            "185/185 [==============================] - 2s 10ms/step - loss: 0.1396 - mae: 0.3471 - val_loss: 0.2278 - val_mae: 0.5183\n",
            "Epoch 52/100\n",
            "185/185 [==============================] - 2s 10ms/step - loss: 0.1664 - mae: 0.3803 - val_loss: 0.9177 - val_mae: 1.3856\n",
            "Epoch 53/100\n",
            "185/185 [==============================] - 2s 10ms/step - loss: 0.0842 - mae: 0.2642 - val_loss: 0.5174 - val_mae: 0.9247\n",
            "Epoch 54/100\n",
            "185/185 [==============================] - 2s 10ms/step - loss: 0.1091 - mae: 0.3147 - val_loss: 1.0493 - val_mae: 1.5264\n",
            "Epoch 55/100\n",
            "185/185 [==============================] - 2s 10ms/step - loss: 0.1672 - mae: 0.3864 - val_loss: 0.5703 - val_mae: 0.9900\n",
            "Epoch 56/100\n",
            "185/185 [==============================] - 2s 10ms/step - loss: 0.1506 - mae: 0.3641 - val_loss: 0.4693 - val_mae: 0.8655\n",
            "Epoch 57/100\n",
            "185/185 [==============================] - 2s 10ms/step - loss: 0.2717 - mae: 0.5034 - val_loss: 0.7299 - val_mae: 1.1772\n",
            "Epoch 58/100\n",
            "185/185 [==============================] - 2s 10ms/step - loss: 0.1496 - mae: 0.3531 - val_loss: 0.9164 - val_mae: 1.3848\n",
            "Epoch 59/100\n",
            "185/185 [==============================] - 2s 10ms/step - loss: 0.1965 - mae: 0.4421 - val_loss: 0.4903 - val_mae: 0.8922\n",
            "Epoch 60/100\n",
            "185/185 [==============================] - 2s 10ms/step - loss: 0.1013 - mae: 0.2964 - val_loss: 1.3269 - val_mae: 1.8153\n",
            "Epoch 61/100\n",
            "185/185 [==============================] - 2s 10ms/step - loss: 0.1873 - mae: 0.4229 - val_loss: 0.5341 - val_mae: 0.9473\n",
            "Epoch 62/100\n",
            "185/185 [==============================] - 2s 10ms/step - loss: 0.1960 - mae: 0.4020 - val_loss: 0.2182 - val_mae: 0.5046\n",
            "Epoch 63/100\n",
            "185/185 [==============================] - 2s 10ms/step - loss: 0.2236 - mae: 0.4454 - val_loss: 0.2616 - val_mae: 0.5738\n",
            "Epoch 64/100\n",
            "185/185 [==============================] - 2s 10ms/step - loss: 0.0954 - mae: 0.2866 - val_loss: 0.2709 - val_mae: 0.5898\n",
            "Epoch 65/100\n",
            "185/185 [==============================] - 2s 9ms/step - loss: 0.0800 - mae: 0.2567 - val_loss: 0.3148 - val_mae: 0.6548\n",
            "Epoch 66/100\n",
            "185/185 [==============================] - 2s 10ms/step - loss: 0.1477 - mae: 0.3399 - val_loss: 0.5309 - val_mae: 0.9439\n",
            "Epoch 67/100\n",
            "185/185 [==============================] - 2s 10ms/step - loss: 0.1672 - mae: 0.3794 - val_loss: 0.2229 - val_mae: 0.5124\n",
            "Epoch 68/100\n",
            "185/185 [==============================] - 2s 10ms/step - loss: 0.0936 - mae: 0.2774 - val_loss: 0.3875 - val_mae: 0.7600\n",
            "Epoch 69/100\n",
            "185/185 [==============================] - 2s 12ms/step - loss: 0.1673 - mae: 0.3668 - val_loss: 0.3436 - val_mae: 0.6991\n",
            "Epoch 70/100\n",
            "185/185 [==============================] - 2s 13ms/step - loss: 0.1444 - mae: 0.3484 - val_loss: 0.3405 - val_mae: 0.6948\n",
            "Epoch 71/100\n",
            "185/185 [==============================] - 2s 13ms/step - loss: 0.1078 - mae: 0.3110 - val_loss: 0.3508 - val_mae: 0.7092\n",
            "Epoch 72/100\n",
            "185/185 [==============================] - 2s 12ms/step - loss: 0.1330 - mae: 0.3255 - val_loss: 0.9301 - val_mae: 1.4014\n",
            "Epoch 73/100\n",
            "185/185 [==============================] - 2s 10ms/step - loss: 0.1546 - mae: 0.3858 - val_loss: 0.2701 - val_mae: 0.5901\n",
            "Epoch 74/100\n",
            "185/185 [==============================] - 2s 9ms/step - loss: 0.1111 - mae: 0.2957 - val_loss: 0.5140 - val_mae: 0.9241\n",
            "Epoch 75/100\n",
            "185/185 [==============================] - 2s 9ms/step - loss: 0.1419 - mae: 0.3580 - val_loss: 0.5149 - val_mae: 0.9251\n",
            "Epoch 76/100\n",
            "185/185 [==============================] - 2s 9ms/step - loss: 0.0811 - mae: 0.2624 - val_loss: 0.3337 - val_mae: 0.6852\n",
            "Epoch 77/100\n",
            "185/185 [==============================] - 2s 10ms/step - loss: 0.0962 - mae: 0.2807 - val_loss: 0.8782 - val_mae: 1.3457\n",
            "Epoch 78/100\n",
            "185/185 [==============================] - 2s 10ms/step - loss: 0.1019 - mae: 0.3049 - val_loss: 0.4803 - val_mae: 0.8831\n",
            "Epoch 79/100\n",
            "185/185 [==============================] - 2s 12ms/step - loss: 0.1441 - mae: 0.3650 - val_loss: 0.5195 - val_mae: 0.9322\n",
            "Epoch 80/100\n",
            "185/185 [==============================] - 2s 10ms/step - loss: 0.2196 - mae: 0.4468 - val_loss: 1.1859 - val_mae: 1.6704\n",
            "Epoch 81/100\n",
            "185/185 [==============================] - 2s 10ms/step - loss: 0.1234 - mae: 0.3143 - val_loss: 1.5666 - val_mae: 2.0630\n",
            "Epoch 82/100\n",
            "185/185 [==============================] - 2s 10ms/step - loss: 0.1144 - mae: 0.3275 - val_loss: 1.5575 - val_mae: 2.0535\n",
            "Epoch 83/100\n",
            "185/185 [==============================] - 2s 10ms/step - loss: 0.1987 - mae: 0.4290 - val_loss: 0.4765 - val_mae: 0.8796\n",
            "Epoch 84/100\n",
            "185/185 [==============================] - 2s 10ms/step - loss: 0.0795 - mae: 0.2540 - val_loss: 0.2003 - val_mae: 0.4781\n",
            "Epoch 85/100\n",
            "185/185 [==============================] - 2s 10ms/step - loss: 0.0938 - mae: 0.2740 - val_loss: 0.2388 - val_mae: 0.5435\n",
            "Epoch 86/100\n",
            "185/185 [==============================] - 2s 10ms/step - loss: 0.1089 - mae: 0.3000 - val_loss: 0.2798 - val_mae: 0.6097\n",
            "Epoch 87/100\n",
            "185/185 [==============================] - 2s 10ms/step - loss: 0.0939 - mae: 0.2855 - val_loss: 0.3950 - val_mae: 0.7755\n",
            "Epoch 88/100\n",
            "185/185 [==============================] - 2s 10ms/step - loss: 0.0894 - mae: 0.2798 - val_loss: 0.3468 - val_mae: 0.7063\n",
            "Epoch 89/100\n",
            "185/185 [==============================] - 2s 10ms/step - loss: 0.1476 - mae: 0.3495 - val_loss: 0.2254 - val_mae: 0.5218\n",
            "Epoch 90/100\n",
            "185/185 [==============================] - 2s 10ms/step - loss: 0.1453 - mae: 0.3476 - val_loss: 1.9144 - val_mae: 2.4122\n",
            "Epoch 91/100\n",
            "185/185 [==============================] - 2s 10ms/step - loss: 0.2841 - mae: 0.5528 - val_loss: 0.3730 - val_mae: 0.7439\n",
            "Epoch 92/100\n",
            "185/185 [==============================] - 2s 10ms/step - loss: 0.1323 - mae: 0.3304 - val_loss: 0.2195 - val_mae: 0.5117\n",
            "Epoch 93/100\n",
            "185/185 [==============================] - 2s 10ms/step - loss: 0.0873 - mae: 0.2746 - val_loss: 0.3578 - val_mae: 0.7251\n",
            "Epoch 94/100\n",
            "185/185 [==============================] - 2s 10ms/step - loss: 0.0881 - mae: 0.2656 - val_loss: 0.2045 - val_mae: 0.4864\n",
            "Epoch 95/100\n",
            "185/185 [==============================] - 2s 10ms/step - loss: 0.1854 - mae: 0.3923 - val_loss: 1.2072 - val_mae: 1.6941\n",
            "Epoch 96/100\n",
            "185/185 [==============================] - 2s 9ms/step - loss: 0.0998 - mae: 0.3032 - val_loss: 0.2033 - val_mae: 0.4843\n",
            "Epoch 97/100\n",
            "185/185 [==============================] - 2s 10ms/step - loss: 0.1443 - mae: 0.3603 - val_loss: 0.9204 - val_mae: 1.3933\n",
            "Epoch 98/100\n",
            "185/185 [==============================] - 2s 10ms/step - loss: 0.0951 - mae: 0.2962 - val_loss: 0.3089 - val_mae: 0.6538\n",
            "Epoch 99/100\n",
            "185/185 [==============================] - 2s 10ms/step - loss: 0.1733 - mae: 0.3936 - val_loss: 2.5154 - val_mae: 3.0149\n",
            "Epoch 100/100\n",
            "185/185 [==============================] - 2s 10ms/step - loss: 0.1871 - mae: 0.4333 - val_loss: 0.1894 - val_mae: 0.4619\n"
          ],
          "name": "stdout"
        },
        {
          "output_type": "execute_result",
          "data": {
            "text/plain": [
              "<tensorflow.python.keras.callbacks.History at 0x7fec29c4e1d0>"
            ]
          },
          "metadata": {
            "tags": []
          },
          "execution_count": 104
        }
      ]
    },
    {
      "cell_type": "code",
      "metadata": {
        "id": "3z5PZr7qAc9P",
        "colab_type": "code",
        "colab": {}
      },
      "source": [
        "def model_forecast(model,series,window_size):\n",
        "  dataset=tf.data.Dataset.from_tensor_slices(series)\n",
        "  dataset=dataset.window(size=window_size, shift=1,drop_remainder=True)\n",
        "  dataset=dataset.flat_map(lambda w: w.batch(window_size))\n",
        "  dataset=dataset.batch(32).prefetch(1)\n",
        "  lin_forecast=model.predict(dataset)\n",
        "  return lin_forecast"
      ],
      "execution_count": 105,
      "outputs": []
    },
    {
      "cell_type": "code",
      "metadata": {
        "id": "VV90NbDwAgwb",
        "colab_type": "code",
        "colab": {}
      },
      "source": [
        "#lin_forecast=model_forecast(model,series[split_time-window_size:-1],window_size)\n",
        "lin_forecast=model_forecast(model,data_np[8000-window_size:-1,1],window_size)"
      ],
      "execution_count": 106,
      "outputs": []
    },
    {
      "cell_type": "code",
      "metadata": {
        "id": "3KDlMUxDAl2R",
        "colab_type": "code",
        "colab": {
          "base_uri": "https://localhost:8080/",
          "height": 265
        },
        "outputId": "2334c24e-4b28-4f6d-cf56-ccd926bcf634"
      },
      "source": [
        "#plt.plot(valid_time,valid_series)\n",
        "#plt.plot(valid_time,lin_forecast)\n",
        "plt.plot(data_np[8000:-1,1])\n",
        "plt.plot(lin_forecast)\n",
        "plt.show()"
      ],
      "execution_count": 107,
      "outputs": [
        {
          "output_type": "display_data",
          "data": {
            "image/png": "[encoded data removed]",
            "text/plain": [
              "<Figure size 432x288 with 1 Axes>"
            ]
          },
          "metadata": {
            "tags": [],
            "needs_background": "light"
          }
        }
      ]
    },
    {
      "cell_type": "code",
      "metadata": {
        "id": "ozx0Tm3JDolB",
        "colab_type": "code",
        "colab": {
          "base_uri": "https://localhost:8080/",
          "height": 34
        },
        "outputId": "5a85446f-1c79-48b6-bae3-93498433d967"
      },
      "source": [
        "lin_forecast.shape"
      ],
      "execution_count": 108,
      "outputs": [
        {
          "output_type": "execute_result",
          "data": {
            "text/plain": [
              "(2216, 1)"
            ]
          },
          "metadata": {
            "tags": []
          },
          "execution_count": 108
        }
      ]
    },
    {
      "cell_type": "code",
      "metadata": {
        "id": "xrqNYiL5Dx1B",
        "colab_type": "code",
        "colab": {
          "base_uri": "https://localhost:8080/",
          "height": 34
        },
        "outputId": "6f3d2e48-bd34-43f5-d429-2ddee29c2a12"
      },
      "source": [
        "data_np[8000:,1].shape"
      ],
      "execution_count": 109,
      "outputs": [
        {
          "output_type": "execute_result",
          "data": {
            "text/plain": [
              "(2216,)"
            ]
          },
          "metadata": {
            "tags": []
          },
          "execution_count": 109
        }
      ]
    },
    {
      "cell_type": "code",
      "metadata": {
        "id": "TaVRqtuZLaFC",
        "colab_type": "code",
        "colab": {}
      },
      "source": [
        ""
      ],
      "execution_count": null,
      "outputs": []
    }
  ]
}