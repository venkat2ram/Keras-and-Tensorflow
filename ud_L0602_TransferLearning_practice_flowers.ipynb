{
  "nbformat": 4,
  "nbformat_minor": 0,
  "metadata": {
    "colab": {
      "name": "ud_L0602_TransferLearning_practice_flowers.ipynb",
      "provenance": [],
      "authorship_tag": "ABX9TyPS/I+9smmtux3cKeUeRvYP",
      "include_colab_link": true
    },
    "kernelspec": {
      "name": "python3",
      "display_name": "Python 3"
    },
    "accelerator": "GPU"
  },
  "cells": [
    {
      "cell_type": "markdown",
      "metadata": {
        "id": "view-in-github",
        "colab_type": "text"
      },
      "source": [
        "<a href=\"https://colab.research.google.com/github/venkat2ram/Keras-and-Tensorflow/blob/master/ud_L0602_TransferLearning_practice_flowers.ipynb\" target=\"_parent\"><img src=\"https://colab.research.google.com/assets/colab-badge.svg\" alt=\"Open In Colab\"/></a>"
      ]
    },
    {
      "cell_type": "code",
      "metadata": {
        "id": "lTOHsT_XcMvL",
        "colab_type": "code",
        "colab": {}
      },
      "source": [
        "import tensorflow as tf\n",
        "import numpy as np\n",
        "from tensorflow.keras import layers\n",
        "import tensorflow.keras.utils\n",
        "from matplotlib import pyplot as plt\n",
        "import tensorflow_datasets as tfds\n",
        "import tensorflow_hub as hub"
      ],
      "execution_count": 38,
      "outputs": []
    },
    {
      "cell_type": "code",
      "metadata": {
        "id": "VVwEvRxUdk1R",
        "colab_type": "code",
        "colab": {}
      },
      "source": [
        "URL='https://www.tensorflow.org/datasets/catalog/tf_flowers'\n",
        "(training_examples,validation_examples),info=tfds.load('tf_flowers',split=['train[:80%]','train[80%:]'],as_supervised=True,with_info=True)"
      ],
      "execution_count": 39,
      "outputs": []
    },
    {
      "cell_type": "code",
      "metadata": {
        "id": "y7yFw83bfN0W",
        "colab_type": "code",
        "colab": {}
      },
      "source": [
        "num_examples=info.splits['train'].num_examples"
      ],
      "execution_count": 40,
      "outputs": []
    },
    {
      "cell_type": "code",
      "metadata": {
        "id": "vIUNydQdgRyo",
        "colab_type": "code",
        "colab": {}
      },
      "source": [
        "num_classes=info.features['label'].num_classes"
      ],
      "execution_count": 41,
      "outputs": []
    },
    {
      "cell_type": "code",
      "metadata": {
        "id": "F94a30mOgpmC",
        "colab_type": "code",
        "colab": {
          "base_uri": "https://localhost:8080/",
          "height": 34
        },
        "outputId": "b3840ee2-e320-4fe4-b99d-324dbcf5cf6e"
      },
      "source": [
        "num_examples, num_classes"
      ],
      "execution_count": 42,
      "outputs": [
        {
          "output_type": "execute_result",
          "data": {
            "text/plain": [
              "(3670, 5)"
            ]
          },
          "metadata": {
            "tags": []
          },
          "execution_count": 42
        }
      ]
    },
    {
      "cell_type": "code",
      "metadata": {
        "id": "en26kYe6qpSb",
        "colab_type": "code",
        "colab": {
          "base_uri": "https://localhost:8080/",
          "height": 84
        },
        "outputId": "a6d8caf4-9689-4ebf-9401-baea956ef0c4"
      },
      "source": [
        "info.features"
      ],
      "execution_count": 43,
      "outputs": [
        {
          "output_type": "execute_result",
          "data": {
            "text/plain": [
              "FeaturesDict({\n",
              "    'image': Image(shape=(None, None, 3), dtype=tf.uint8),\n",
              "    'label': ClassLabel(shape=(), dtype=tf.int64, num_classes=5),\n",
              "})"
            ]
          },
          "metadata": {
            "tags": []
          },
          "execution_count": 43
        }
      ]
    },
    {
      "cell_type": "code",
      "metadata": {
        "id": "RUQvertfhw_A",
        "colab_type": "code",
        "colab": {}
      },
      "source": [
        "IMAGE_RES=224\n",
        "BATCH_SIZE=32"
      ],
      "execution_count": 44,
      "outputs": []
    },
    {
      "cell_type": "code",
      "metadata": {
        "id": "YbCj7J4Pgwrr",
        "colab_type": "code",
        "colab": {}
      },
      "source": [
        "def format_image(image,label):\n",
        "  image=tf.image.resize(image,size=(IMAGE_RES,IMAGE_RES))/255.0\n",
        "  return image,label\n",
        "\n",
        "train_batches=training_examples.shuffle(num_examples//4).map(format_image).batch(BATCH_SIZE).prefetch(1)\n",
        "val_batches=validation_examples.map(format_image).batch(BATCH_SIZE).prefetch(1)"
      ],
      "execution_count": 45,
      "outputs": []
    },
    {
      "cell_type": "code",
      "metadata": {
        "id": "-cxEThRXkoz_",
        "colab_type": "code",
        "colab": {}
      },
      "source": [
        "#model_url='https://tfhub.dev/google/tf2-preview/mobilenet_v2/feature_vector/4'\n",
        "\n",
        "model_url='https://tfhub.dev/google/tf2-preview/mobilenet_v2/feature_vector/4'\n",
        "\n",
        "feature_extractor=hub.KerasLayer(model_url,input_shape=(IMAGE_RES,IMAGE_RES,3))"
      ],
      "execution_count": 73,
      "outputs": []
    },
    {
      "cell_type": "code",
      "metadata": {
        "id": "mNBDGnbfoeAY",
        "colab_type": "code",
        "colab": {}
      },
      "source": [
        "feature_extractor.trainable=False"
      ],
      "execution_count": 74,
      "outputs": []
    },
    {
      "cell_type": "code",
      "metadata": {
        "id": "VUksh49TlRWV",
        "colab_type": "code",
        "colab": {}
      },
      "source": [
        "model=tf.keras.Sequential([feature_extractor,layers.Dense(5)])"
      ],
      "execution_count": 75,
      "outputs": []
    },
    {
      "cell_type": "code",
      "metadata": {
        "id": "p0o_WfeuhB0d",
        "colab_type": "code",
        "colab": {}
      },
      "source": [
        "model.compile(optimizer='Adam',loss=tf.keras.losses.SparseCategoricalCrossentropy(from_logits=True),metrics=['accuracy'])"
      ],
      "execution_count": 76,
      "outputs": []
    },
    {
      "cell_type": "code",
      "metadata": {
        "id": "p6kO7ViGq3dI",
        "colab_type": "code",
        "colab": {
          "base_uri": "https://localhost:8080/",
          "height": 218
        },
        "outputId": "807459b4-65ef-4c32-f480-386bd6e96988"
      },
      "source": [
        "model.summary()"
      ],
      "execution_count": 77,
      "outputs": [
        {
          "output_type": "stream",
          "text": [
            "Model: \"sequential_9\"\n",
            "_________________________________________________________________\n",
            "Layer (type)                 Output Shape              Param #   \n",
            "=================================================================\n",
            "keras_layer_6 (KerasLayer)   (None, 1280)              2257984   \n",
            "_________________________________________________________________\n",
            "dense_8 (Dense)              (None, 5)                 6405      \n",
            "=================================================================\n",
            "Total params: 2,264,389\n",
            "Trainable params: 6,405\n",
            "Non-trainable params: 2,257,984\n",
            "_________________________________________________________________\n"
          ],
          "name": "stdout"
        }
      ]
    },
    {
      "cell_type": "code",
      "metadata": {
        "id": "5OYeP0dQxus1",
        "colab_type": "code",
        "colab": {}
      },
      "source": [
        "epochs=10"
      ],
      "execution_count": 82,
      "outputs": []
    },
    {
      "cell_type": "code",
      "metadata": {
        "id": "e19LaIgRpZwN",
        "colab_type": "code",
        "colab": {
          "base_uri": "https://localhost:8080/",
          "height": 353
        },
        "outputId": "5240ea1a-d427-478e-9390-c67ea1e93479"
      },
      "source": [
        "history=model.fit(train_batches,epochs=epochs,batch_size=BATCH_SIZE,validation_data=val_batches)"
      ],
      "execution_count": 78,
      "outputs": [
        {
          "output_type": "stream",
          "text": [
            "Epoch 1/10\n",
            "92/92 [==============================] - 7s 74ms/step - loss: 0.7027 - accuracy: 0.7459 - val_loss: 0.4000 - val_accuracy: 0.8692\n",
            "Epoch 2/10\n",
            "92/92 [==============================] - 6s 70ms/step - loss: 0.3624 - accuracy: 0.8835 - val_loss: 0.3174 - val_accuracy: 0.8992\n",
            "Epoch 3/10\n",
            "92/92 [==============================] - 7s 71ms/step - loss: 0.2904 - accuracy: 0.9046 - val_loss: 0.2983 - val_accuracy: 0.9046\n",
            "Epoch 4/10\n",
            "92/92 [==============================] - 7s 71ms/step - loss: 0.2414 - accuracy: 0.9237 - val_loss: 0.2711 - val_accuracy: 0.9128\n",
            "Epoch 5/10\n",
            "92/92 [==============================] - 7s 71ms/step - loss: 0.2142 - accuracy: 0.9366 - val_loss: 0.2569 - val_accuracy: 0.9114\n",
            "Epoch 6/10\n",
            "92/92 [==============================] - 7s 71ms/step - loss: 0.1819 - accuracy: 0.9479 - val_loss: 0.2487 - val_accuracy: 0.9183\n",
            "Epoch 7/10\n",
            "92/92 [==============================] - 7s 71ms/step - loss: 0.1600 - accuracy: 0.9584 - val_loss: 0.2607 - val_accuracy: 0.9128\n",
            "Epoch 8/10\n",
            "92/92 [==============================] - 7s 72ms/step - loss: 0.1449 - accuracy: 0.9619 - val_loss: 0.2473 - val_accuracy: 0.9223\n",
            "Epoch 9/10\n",
            "92/92 [==============================] - 6s 70ms/step - loss: 0.1303 - accuracy: 0.9676 - val_loss: 0.2400 - val_accuracy: 0.9264\n",
            "Epoch 10/10\n",
            "92/92 [==============================] - 6s 70ms/step - loss: 0.1177 - accuracy: 0.9745 - val_loss: 0.2429 - val_accuracy: 0.9237\n"
          ],
          "name": "stdout"
        }
      ]
    },
    {
      "cell_type": "code",
      "metadata": {
        "id": "nXhkJZkckBQj",
        "colab_type": "code",
        "colab": {
          "base_uri": "https://localhost:8080/",
          "height": 500
        },
        "outputId": "abcedc88-4918-4fd6-9164-9bf4177b497c"
      },
      "source": [
        "accuray=history.history['accuracy']\n",
        "val_accuracy=history.history['val_accuracy']\n",
        "loss=history.history['loss']\n",
        "val_loss=history.history['val_loss']\n",
        "epoch_range=range(epochs)\n",
        "plt.figure(figsize=(8,8))\n",
        "plt.subplot(1,2,1)\n",
        "plt.plot(epoch_range,accuray,label='Training accuracy')\n",
        "plt.plot(epoch_range,val_accuracy,label='Validation accuracy')\n",
        "plt.legend(loc='lower right')\n",
        "\n",
        "plt.subplot(1,2,2)\n",
        "plt.plot(epoch_range,loss,label='Training loss')\n",
        "plt.plot(epoch_range,val_loss,label='Validation loss')\n",
        "plt.legend(loc='upper right')"
      ],
      "execution_count": 85,
      "outputs": [
        {
          "output_type": "execute_result",
          "data": {
            "text/plain": [
              "<matplotlib.legend.Legend at 0x7f486c031e80>"
            ]
          },
          "metadata": {
            "tags": []
          },
          "execution_count": 85
        },
        {
          "output_type": "display_data",
          "data": {
            "image/png": "[encoded data removed]",
            "text/plain": [
              "<Figure size 576x576 with 2 Axes>"
            ]
          },
          "metadata": {
            "tags": [],
            "needs_background": "light"
          }
        }
      ]
    },
    {
      "cell_type": "code",
      "metadata": {
        "id": "qiVPmxephFep",
        "colab_type": "code",
        "colab": {}
      },
      "source": [
        "np.array(image)"
      ],
      "execution_count": null,
      "outputs": []
    },
    {
      "cell_type": "code",
      "metadata": {
        "id": "97cN0RP-jQS-",
        "colab_type": "code",
        "colab": {}
      },
      "source": [
        "num_examples//4"
      ],
      "execution_count": null,
      "outputs": []
    }
  ]
}